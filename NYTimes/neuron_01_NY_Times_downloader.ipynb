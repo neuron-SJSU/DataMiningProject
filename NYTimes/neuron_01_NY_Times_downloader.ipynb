{
 "cells": [
  {
   "cell_type": "code",
   "execution_count": 15,
   "metadata": {
    "colab": {},
    "colab_type": "code",
    "id": "eCjKjfUd_aAN"
   },
   "outputs": [],
   "source": [
    "drive_data_path_news = 'data/news/'"
   ]
  },
  {
   "cell_type": "code",
   "execution_count": 16,
   "metadata": {
    "colab": {},
    "colab_type": "code",
    "id": "rs64hCpk_aZv"
   },
   "outputs": [],
   "source": [
    "import pandas as pd\n",
    "import numpy as np\n",
    "import requests\n",
    "import json"
   ]
  },
  {
   "cell_type": "markdown",
   "metadata": {
    "colab_type": "text",
    "id": "tyS0eSCK_D7R"
   },
   "source": [
    "API key can be requested in the NY Times developer console\n",
    "\n",
    "https://developer.nytimes.com/signup"
   ]
  },
  {
   "cell_type": "code",
   "execution_count": 17,
   "metadata": {
    "colab": {},
    "colab_type": "code",
    "id": "DgCzwAyp_D7S"
   },
   "outputs": [],
   "source": [
    "api = \"af40190ac3274d36aee4a7e801e865c7\""
   ]
  },
  {
   "cell_type": "code",
   "execution_count": 18,
   "metadata": {
    "colab": {},
    "colab_type": "code",
    "id": "JhDBMrjZ_D7W"
   },
   "outputs": [],
   "source": [
    "def download_json(year, month, api):\n",
    "    \"Download news for a particular year and month and save as a json file\"\n",
    "    \n",
    "    url = \"http://api.nytimes.com/svc/archive/v1/{}/{}.json?api-key={}\"\n",
    "    url = url.format(year, month, api)\n",
    "    \n",
    "    file_str = drive_data_path_news + str(year) + '-' + '{:02}'.format(month) + '.json'\n",
    "    \n",
    "\n",
    "    items = requests.get(url)\n",
    "    \n",
    "    try:\n",
    "        data = items.json()\n",
    "\n",
    "        with open(file_str, 'w') as f:\n",
    "            json.dump(data, f)\n",
    "    except:\n",
    "        pass\n",
    "    \n",
    "    return \"Finished downloading {}/{}\".format(year, month)"
   ]
  },
  {
   "cell_type": "code",
   "execution_count": 19,
   "metadata": {
    "colab": {
     "base_uri": "https://localhost:8080/",
     "height": 34
    },
    "colab_type": "code",
    "id": "v5gExtpE_D7Z",
    "outputId": "6a857cd6-5bf6-494f-dfed-310ffbda0848"
   },
   "outputs": [
    {
     "data": {
      "text/plain": [
       "'Finished downloading 2018/2'"
      ]
     },
     "execution_count": 19,
     "metadata": {},
     "output_type": "execute_result"
    }
   ],
   "source": [
    "download_json(2018, 2, api)"
   ]
  },
  {
   "cell_type": "code",
   "execution_count": 20,
   "metadata": {
    "colab": {},
    "colab_type": "code",
    "id": "wEf6A24y_D7i"
   },
   "outputs": [],
   "source": [
    "def open_json(year, month):\n",
    "    \"Save as pandas dataframe\"\n",
    "    \n",
    "    file_str = drive_data_path_news + str(year) + '-' + '{:02}'.format(month) + '.json'\n",
    "    \n",
    "    with open(file_str) as data_file:    \n",
    "        NYTimes_data = json.load(data_file)\n",
    "    \n",
    "    date_list = []\n",
    "    df = pd.DataFrame()  \n",
    "    df['News'] = None\n",
    "    \n",
    "\n",
    "    for i in range(len(NYTimes_data[\"response\"][\"docs\"][:])):\n",
    "        if NYTimes_data[\"response\"][\"docs\"][i][\"pub_date\"][:10] not in df.index:\n",
    "            df.loc[NYTimes_data[\"response\"][\"docs\"][i][\"pub_date\"][:10]] = NYTimes_data[\"response\"][\"docs\"][:][i]['headline']['main']\n",
    "        else:\n",
    "            df.loc[NYTimes_data[\"response\"][\"docs\"][i][\"pub_date\"][:10]] = df.loc[NYTimes_data[\"response\"][\"docs\"][i][\"pub_date\"][:10]].values + NYTimes_data[\"response\"][\"docs\"][:][i]['headline']['main']\n",
    "    \n",
    "    df.index = pd.to_datetime(df.index, format='%Y-%m-%d')\n",
    "    df.sort_index(inplace=True)\n",
    "    \n",
    "    return df"
   ]
  },
  {
   "cell_type": "code",
   "execution_count": 21,
   "metadata": {
    "colab": {
     "base_uri": "https://localhost:8080/",
     "height": 1036
    },
    "colab_type": "code",
    "id": "jc-8CKm6_D7l",
    "outputId": "41c2bfdc-f1d8-4857-8dc8-cc8c6054284b"
   },
   "outputs": [
    {
     "data": {
      "text/html": [
       "<div>\n",
       "<style scoped>\n",
       "    .dataframe tbody tr th:only-of-type {\n",
       "        vertical-align: middle;\n",
       "    }\n",
       "\n",
       "    .dataframe tbody tr th {\n",
       "        vertical-align: top;\n",
       "    }\n",
       "\n",
       "    .dataframe thead th {\n",
       "        text-align: right;\n",
       "    }\n",
       "</style>\n",
       "<table border=\"1\" class=\"dataframe\">\n",
       "  <thead>\n",
       "    <tr style=\"text-align: right;\">\n",
       "      <th></th>\n",
       "      <th>News</th>\n",
       "    </tr>\n",
       "  </thead>\n",
       "  <tbody>\n",
       "    <tr>\n",
       "      <th>2002-06-01</th>\n",
       "      <td>Agent Who Wrote Critical Letter May TestifyA P...</td>\n",
       "    </tr>\n",
       "    <tr>\n",
       "      <th>2002-06-02</th>\n",
       "      <td>Bring a Blanket: The Met's in the ParkIn the R...</td>\n",
       "    </tr>\n",
       "    <tr>\n",
       "      <th>2002-06-03</th>\n",
       "      <td>Elka Spoerri, 77, Who Decoded Works of Noted O...</td>\n",
       "    </tr>\n",
       "    <tr>\n",
       "      <th>2002-06-04</th>\n",
       "      <td>CASES; Connecting Depression And ArtistryMakin...</td>\n",
       "    </tr>\n",
       "    <tr>\n",
       "      <th>2002-06-05</th>\n",
       "      <td>Inquiring MindsSurvivors Recount Details of Ki...</td>\n",
       "    </tr>\n",
       "    <tr>\n",
       "      <th>2002-06-06</th>\n",
       "      <td>F.B.I. Affidavit Outlines Intent Of Attack on ...</td>\n",
       "    </tr>\n",
       "    <tr>\n",
       "      <th>2002-06-07</th>\n",
       "      <td>A Test of FaithGloom on the Mideast HorizonCor...</td>\n",
       "    </tr>\n",
       "    <tr>\n",
       "      <th>2002-06-08</th>\n",
       "      <td>Bush Predicts Turf War in Creation of New Depa...</td>\n",
       "    </tr>\n",
       "    <tr>\n",
       "      <th>2002-06-09</th>\n",
       "      <td>The View From/Stonington; The Allure of Garden...</td>\n",
       "    </tr>\n",
       "    <tr>\n",
       "      <th>2002-06-10</th>\n",
       "      <td>N. KOREANS TALK OF BABY KILLINGSA Simple Gay P...</td>\n",
       "    </tr>\n",
       "    <tr>\n",
       "      <th>2002-06-11</th>\n",
       "      <td>Skating on Thin IceHealthy Household Improveme...</td>\n",
       "    </tr>\n",
       "    <tr>\n",
       "      <th>2002-06-12</th>\n",
       "      <td>Transforming Life's Detritus Into SculptureLov...</td>\n",
       "    </tr>\n",
       "    <tr>\n",
       "      <th>2002-06-13</th>\n",
       "      <td>World Wide WaterfallsA Confection Festooned Wi...</td>\n",
       "    </tr>\n",
       "    <tr>\n",
       "      <th>2002-06-14</th>\n",
       "      <td>6 Men Who Could Be Contenders to Lead the Pale...</td>\n",
       "    </tr>\n",
       "    <tr>\n",
       "      <th>2002-06-15</th>\n",
       "      <td>COMPANY BRIEFSPaid Notice: Memorials  PIKARSKY...</td>\n",
       "    </tr>\n",
       "    <tr>\n",
       "      <th>2002-06-16</th>\n",
       "      <td>Where Do Babies Come From?Verdict May Open Sea...</td>\n",
       "    </tr>\n",
       "    <tr>\n",
       "      <th>2002-06-17</th>\n",
       "      <td>Official StatementsQwest Said to Oust Its Chie...</td>\n",
       "    </tr>\n",
       "    <tr>\n",
       "      <th>2002-06-18</th>\n",
       "      <td>Finicky FeastsLonger Review Period Urged For N...</td>\n",
       "    </tr>\n",
       "    <tr>\n",
       "      <th>2002-06-19</th>\n",
       "      <td>Reign of Terror?Israel's Pain, and Arafat's Fu...</td>\n",
       "    </tr>\n",
       "    <tr>\n",
       "      <th>2002-06-20</th>\n",
       "      <td>Noteworthy?Rights of Women: More Than a Treaty...</td>\n",
       "    </tr>\n",
       "    <tr>\n",
       "      <th>2002-06-21</th>\n",
       "      <td>AT THE MOVIESThe Who, What, and Y of DesignPai...</td>\n",
       "    </tr>\n",
       "    <tr>\n",
       "      <th>2002-06-22</th>\n",
       "      <td>Paid Notice: Deaths  BUCKLEY, DENNIS F.World B...</td>\n",
       "    </tr>\n",
       "    <tr>\n",
       "      <th>2002-06-23</th>\n",
       "      <td>Paid Notice: Deaths  ZWIEBEL, ARTHURCorinne Fu...</td>\n",
       "    </tr>\n",
       "    <tr>\n",
       "      <th>2002-06-24</th>\n",
       "      <td>Who Decides Who Dies?Brooklyn Fire Kills 7 Peo...</td>\n",
       "    </tr>\n",
       "    <tr>\n",
       "      <th>2002-06-25</th>\n",
       "      <td>In New Trial, Defense Calls Louima a LiarBEHAV...</td>\n",
       "    </tr>\n",
       "    <tr>\n",
       "      <th>2002-06-26</th>\n",
       "      <td>Consuming HistoryThe Mideast Plan: Voices From...</td>\n",
       "    </tr>\n",
       "    <tr>\n",
       "      <th>2002-06-27</th>\n",
       "      <td>Judges Ban Pledge of Allegiance From Schools, ...</td>\n",
       "    </tr>\n",
       "    <tr>\n",
       "      <th>2002-06-28</th>\n",
       "      <td>Mixed BlessingsPaid Notice: Deaths  KURZ, MIRI...</td>\n",
       "    </tr>\n",
       "    <tr>\n",
       "      <th>2002-06-29</th>\n",
       "      <td>BUSINESS DIGESTJuilliard Names Director of Dan...</td>\n",
       "    </tr>\n",
       "    <tr>\n",
       "      <th>2002-06-30</th>\n",
       "      <td>Streetscapes/India House, at 1 Hanover Square;...</td>\n",
       "    </tr>\n",
       "  </tbody>\n",
       "</table>\n",
       "</div>"
      ],
      "text/plain": [
       "                                                         News\n",
       "2002-06-01  Agent Who Wrote Critical Letter May TestifyA P...\n",
       "2002-06-02  Bring a Blanket: The Met's in the ParkIn the R...\n",
       "2002-06-03  Elka Spoerri, 77, Who Decoded Works of Noted O...\n",
       "2002-06-04  CASES; Connecting Depression And ArtistryMakin...\n",
       "2002-06-05  Inquiring MindsSurvivors Recount Details of Ki...\n",
       "2002-06-06  F.B.I. Affidavit Outlines Intent Of Attack on ...\n",
       "2002-06-07  A Test of FaithGloom on the Mideast HorizonCor...\n",
       "2002-06-08  Bush Predicts Turf War in Creation of New Depa...\n",
       "2002-06-09  The View From/Stonington; The Allure of Garden...\n",
       "2002-06-10  N. KOREANS TALK OF BABY KILLINGSA Simple Gay P...\n",
       "2002-06-11  Skating on Thin IceHealthy Household Improveme...\n",
       "2002-06-12  Transforming Life's Detritus Into SculptureLov...\n",
       "2002-06-13  World Wide WaterfallsA Confection Festooned Wi...\n",
       "2002-06-14  6 Men Who Could Be Contenders to Lead the Pale...\n",
       "2002-06-15  COMPANY BRIEFSPaid Notice: Memorials  PIKARSKY...\n",
       "2002-06-16  Where Do Babies Come From?Verdict May Open Sea...\n",
       "2002-06-17  Official StatementsQwest Said to Oust Its Chie...\n",
       "2002-06-18  Finicky FeastsLonger Review Period Urged For N...\n",
       "2002-06-19  Reign of Terror?Israel's Pain, and Arafat's Fu...\n",
       "2002-06-20  Noteworthy?Rights of Women: More Than a Treaty...\n",
       "2002-06-21  AT THE MOVIESThe Who, What, and Y of DesignPai...\n",
       "2002-06-22  Paid Notice: Deaths  BUCKLEY, DENNIS F.World B...\n",
       "2002-06-23  Paid Notice: Deaths  ZWIEBEL, ARTHURCorinne Fu...\n",
       "2002-06-24  Who Decides Who Dies?Brooklyn Fire Kills 7 Peo...\n",
       "2002-06-25  In New Trial, Defense Calls Louima a LiarBEHAV...\n",
       "2002-06-26  Consuming HistoryThe Mideast Plan: Voices From...\n",
       "2002-06-27  Judges Ban Pledge of Allegiance From Schools, ...\n",
       "2002-06-28  Mixed BlessingsPaid Notice: Deaths  KURZ, MIRI...\n",
       "2002-06-29  BUSINESS DIGESTJuilliard Names Director of Dan...\n",
       "2002-06-30  Streetscapes/India House, at 1 Hanover Square;..."
      ]
     },
     "execution_count": 21,
     "metadata": {},
     "output_type": "execute_result"
    }
   ],
   "source": [
    "df = open_json(2002, 6)\n",
    "df"
   ]
  },
  {
   "cell_type": "code",
   "execution_count": 0,
   "metadata": {
    "colab": {},
    "colab_type": "code",
    "id": "Hc0wPODIBw2Z"
   },
   "outputs": [],
   "source": []
  }
 ],
 "metadata": {
  "colab": {
   "name": "neuron_01_NY_Times_downloader.ipynb",
   "provenance": [],
   "version": "0.3.2"
  },
  "kernelspec": {
   "display_name": "Python 3",
   "language": "python",
   "name": "python3"
  },
  "language_info": {
   "codemirror_mode": {
    "name": "ipython",
    "version": 3
   },
   "file_extension": ".py",
   "mimetype": "text/x-python",
   "name": "python",
   "nbconvert_exporter": "python",
   "pygments_lexer": "ipython3",
   "version": "3.6.6"
  }
 },
 "nbformat": 4,
 "nbformat_minor": 1
}
