{
 "cells": [
  {
   "cell_type": "code",
   "execution_count": 0,
   "metadata": {
    "colab": {},
    "colab_type": "code",
    "id": "Vb_vAg7cioSn"
   },
   "outputs": [],
   "source": []
  },
  {
   "cell_type": "code",
   "execution_count": 1,
   "metadata": {
    "colab": {
     "base_uri": "https://localhost:8080/",
     "height": 122
    },
    "colab_type": "code",
    "id": "jlbT5r2KZvr9",
    "outputId": "ebcd5375-5003-405a-c6a4-fd863ed16544"
   },
   "outputs": [
    {
     "name": "stdout",
     "output_type": "stream",
     "text": [
      "Go to this URL in a browser: https://accounts.google.com/o/oauth2/auth?client_id=947318989803-6bn6qk8qdgf4n4g3pfee6491hc0brc4i.apps.googleusercontent.com&redirect_uri=urn%3Aietf%3Awg%3Aoauth%3A2.0%3Aoob&scope=email%20https%3A%2F%2Fwww.googleapis.com%2Fauth%2Fdocs.test%20https%3A%2F%2Fwww.googleapis.com%2Fauth%2Fdrive%20https%3A%2F%2Fwww.googleapis.com%2Fauth%2Fdrive.photos.readonly%20https%3A%2F%2Fwww.googleapis.com%2Fauth%2Fpeopleapi.readonly&response_type=code\n",
      "\n",
      "Enter your authorization code:\n",
      "··········\n",
      "Mounted at /content/drive/\n"
     ]
    }
   ],
   "source": [
    "from google.colab import drive\n",
    "drive.mount('/content/drive/')"
   ]
  },
  {
   "cell_type": "code",
   "execution_count": 2,
   "metadata": {
    "colab": {
     "base_uri": "https://localhost:8080/",
     "height": 700
    },
    "colab_type": "code",
    "id": "j-6nP9SEZv1a",
    "outputId": "e448b8e8-e9fa-4b11-cb43-111e39d0d2b2"
   },
   "outputs": [
    {
     "name": "stdout",
     "output_type": "stream",
     "text": [
      "Collecting tables\n",
      "\u001b[?25l  Downloading https://files.pythonhosted.org/packages/d7/1b/21f4c7f296b718575c17ef25e61c05742a283c45077b4c8d5a190b3e0b59/tables-3.4.4-cp36-cp36m-manylinux1_x86_64.whl (3.8MB)\n",
      "\u001b[K    100% |████████████████████████████████| 3.8MB 8.7MB/s \n",
      "\u001b[?25hRequirement already satisfied, skipping upgrade: six>=1.9.0 in /usr/local/lib/python3.6/dist-packages (from tables) (1.11.0)\n",
      "Collecting numexpr>=2.5.2 (from tables)\n",
      "\u001b[?25l  Downloading https://files.pythonhosted.org/packages/db/ea/efd9e16283637eb5b6c0042b6cc3521f1b9a5b47767ac463c88bbd37670c/numexpr-2.6.8-cp36-cp36m-manylinux1_x86_64.whl (162kB)\n",
      "\u001b[K    100% |████████████████████████████████| 163kB 18.8MB/s \n",
      "\u001b[?25hRequirement already satisfied, skipping upgrade: numpy>=1.8.0 in /usr/local/lib/python3.6/dist-packages (from tables) (1.14.6)\n",
      "Installing collected packages: numexpr, tables\n",
      "Successfully installed numexpr-2.6.8 tables-3.4.4\n",
      "Collecting pydot_ng\n",
      "  Downloading https://files.pythonhosted.org/packages/3c/5b/9a08333f2d70d404ffe42cea4f50159c4ad94feaa4d7585551c05cacef46/pydot_ng-2.0.0-py2.py3-none-any.whl\n",
      "Requirement already satisfied, skipping upgrade: pyparsing>=2.0.1 in /usr/local/lib/python3.6/dist-packages (from pydot_ng) (2.3.0)\n",
      "Installing collected packages: pydot-ng\n",
      "Successfully installed pydot-ng-2.0.0\n",
      "Collecting pydot\n",
      "\u001b[?25l  Downloading https://files.pythonhosted.org/packages/c3/f1/e61d6dfe6c1768ed2529761a68f70939e2569da043e9f15a8d84bf56cadf/pydot-1.2.4.tar.gz (132kB)\n",
      "\u001b[K    100% |████████████████████████████████| 133kB 4.2MB/s \n",
      "\u001b[?25hRequirement already satisfied, skipping upgrade: pyparsing>=2.1.4 in /usr/local/lib/python3.6/dist-packages (from pydot) (2.3.0)\n",
      "Building wheels for collected packages: pydot\n",
      "  Running setup.py bdist_wheel for pydot ... \u001b[?25l-\b \bdone\n",
      "\u001b[?25h  Stored in directory: /root/.cache/pip/wheels/6a/a5/14/25541ebcdeaf97a37b6d05c7ff15f5bd20f5e91b99d313e5b4\n",
      "Successfully built pydot\n",
      "Installing collected packages: pydot\n",
      "Successfully installed pydot-1.2.4\n",
      "Collecting pydotplus\n",
      "\u001b[?25l  Downloading https://files.pythonhosted.org/packages/60/bf/62567830b700d9f6930e9ab6831d6ba256f7b0b730acb37278b0ccdffacf/pydotplus-2.0.2.tar.gz (278kB)\n",
      "\u001b[K    100% |████████████████████████████████| 286kB 5.9MB/s \n",
      "\u001b[?25hRequirement already satisfied, skipping upgrade: pyparsing>=2.0.1 in /usr/local/lib/python3.6/dist-packages (from pydotplus) (2.3.0)\n",
      "Building wheels for collected packages: pydotplus\n",
      "  Running setup.py bdist_wheel for pydotplus ... \u001b[?25l-\b \bdone\n",
      "\u001b[?25h  Stored in directory: /root/.cache/pip/wheels/35/7b/ab/66fb7b2ac1f6df87475b09dc48e707b6e0de80a6d8444e3628\n",
      "Successfully built pydotplus\n",
      "Installing collected packages: pydotplus\n",
      "Successfully installed pydotplus-2.0.2\n",
      "Collecting graphviz\n",
      "  Downloading https://files.pythonhosted.org/packages/1f/e2/ef2581b5b86625657afd32030f90cf2717456c1d2b711ba074bf007c0f1a/graphviz-0.10.1-py2.py3-none-any.whl\n",
      "Installing collected packages: graphviz\n",
      "Successfully installed graphviz-0.10.1\n"
     ]
    }
   ],
   "source": [
    "!pip install --upgrade tables\n",
    "!pip install --upgrade pydot_ng\n",
    "!pip install --upgrade pydot\n",
    "!pip install --upgrade pydotplus\n",
    "!pip install --upgrade graphviz"
   ]
  },
  {
   "cell_type": "code",
   "execution_count": 0,
   "metadata": {
    "colab": {},
    "colab_type": "code",
    "id": "V9zeJYp4Zv-n"
   },
   "outputs": [],
   "source": [
    "import pandas as pd\n",
    "import numpy as np\n",
    "import random\n",
    "\n",
    "import tensorflow as tf\n",
    "from tensorflow.keras.models import Sequential\n",
    "from tensorflow.keras.layers import Dense, Dropout, LSTM, CuDNNLSTM, BatchNormalization\n",
    "from tensorflow.keras.callbacks import TensorBoard\n",
    "from tensorflow.keras.callbacks import ModelCheckpoint\n",
    "from tensorflow.keras.callbacks import Callback\n",
    "import tensorflow.keras.backend as K\n",
    "\n",
    "import math\n",
    "from sklearn.preprocessing import RobustScaler\n",
    "from collections import deque\n",
    "\n",
    "import matplotlib.pyplot as plt\n",
    "import seaborn as sns\n",
    "%matplotlib inline"
   ]
  },
  {
   "cell_type": "code",
   "execution_count": 0,
   "metadata": {
    "colab": {},
    "colab_type": "code",
    "id": "ji73ak4WZwhF"
   },
   "outputs": [],
   "source": [
    "#Path here\n",
    "\n",
    "base_path = '/content/drive/My Drive/stocks_project/'\n",
    "sp500_path = '/content/drive/My Drive/stocks_project/data/sp/^GSPC.csv'\n",
    "created_data_path = base_path + 'data/created/data500.h5'\n",
    "created_data_path_new = base_path + 'data/created/data500_new.h5'\n",
    "technical500_path = created_data_path + 'technical500.h5'\n",
    "news_path = '/content/drive/My Drive/stocks_project/data/news/'"
   ]
  },
  {
   "cell_type": "code",
   "execution_count": 0,
   "metadata": {
    "colab": {},
    "colab_type": "code",
    "id": "fkuDmLydZw_D"
   },
   "outputs": [],
   "source": []
  },
  {
   "cell_type": "markdown",
   "metadata": {
    "colab_type": "text",
    "id": "SUtN_nGiioSl"
   },
   "source": [
    "# Import modules\n",
    "\n",
    "updated with CuDNNLSTM"
   ]
  },
  {
   "cell_type": "code",
   "execution_count": 5,
   "metadata": {
    "colab": {
     "base_uri": "https://localhost:8080/",
     "height": 85
    },
    "colab_type": "code",
    "id": "JYuhbfJYjIN5",
    "outputId": "940fb7b8-c572-4dc6-df39-ddf89af15c4a"
   },
   "outputs": [
    {
     "name": "stdout",
     "output_type": "stream",
     "text": [
      " Ashish\t\t     Datamining\t\t  'Manoj Sir'\t      'Sjsu room-mates'\n",
      " big_short_project   dm_stocks\t\t  'Prabhu Ji'\t       stocks_project\n",
      "'Colab Notebooks'    LargeScaleAnalytics   Sawndriya\n",
      " data2.h5\t    'Manmohan Bhaiya'\t   shopping_data.csv\n"
     ]
    }
   ],
   "source": [
    "!ls \"/content/drive/My Drive/\""
   ]
  },
  {
   "cell_type": "code",
   "execution_count": 0,
   "metadata": {
    "colab": {},
    "colab_type": "code",
    "id": "oYDmIDFyKXEI"
   },
   "outputs": [],
   "source": []
  },
  {
   "cell_type": "code",
   "execution_count": 0,
   "metadata": {
    "colab": {},
    "colab_type": "code",
    "id": "j0jW7nYKQ3W-"
   },
   "outputs": [],
   "source": []
  },
  {
   "cell_type": "code",
   "execution_count": 0,
   "metadata": {
    "colab": {},
    "colab_type": "code",
    "id": "4bb-mDE4jLB2"
   },
   "outputs": [],
   "source": [
    "import pandas as pd\n",
    "#data = pd.read_hdf(\"/content/drive/My Drive/app/data2.h5\", 'new_data');\n",
    "data = pd.read_hdf(created_data_path_new);"
   ]
  },
  {
   "cell_type": "code",
   "execution_count": 0,
   "metadata": {
    "colab": {},
    "colab_type": "code",
    "id": "kwJW20J1jLQ0"
   },
   "outputs": [],
   "source": []
  },
  {
   "cell_type": "code",
   "execution_count": 0,
   "metadata": {
    "colab": {},
    "colab_type": "code",
    "id": "6gxWK1vQjLat"
   },
   "outputs": [],
   "source": []
  },
  {
   "cell_type": "code",
   "execution_count": 0,
   "metadata": {
    "colab": {},
    "colab_type": "code",
    "id": "0EMKWBMXjLj8"
   },
   "outputs": [],
   "source": []
  },
  {
   "cell_type": "code",
   "execution_count": 0,
   "metadata": {
    "colab": {},
    "colab_type": "code",
    "id": "fgUkxHk-jLiW"
   },
   "outputs": [],
   "source": []
  },
  {
   "cell_type": "code",
   "execution_count": 0,
   "metadata": {
    "colab": {},
    "colab_type": "code",
    "id": "Mbri7-eZjLfv"
   },
   "outputs": [],
   "source": []
  },
  {
   "cell_type": "code",
   "execution_count": 0,
   "metadata": {
    "colab": {},
    "colab_type": "code",
    "id": "VJYPIRkLjLYQ"
   },
   "outputs": [],
   "source": []
  },
  {
   "cell_type": "code",
   "execution_count": 0,
   "metadata": {
    "colab": {},
    "colab_type": "code",
    "id": "h_uISBPwjLVz"
   },
   "outputs": [],
   "source": []
  },
  {
   "cell_type": "markdown",
   "metadata": {
    "colab_type": "text",
    "id": "W_GpkMvQioSs"
   },
   "source": [
    "# Import the CSV file with technical data and sentiment analysis"
   ]
  },
  {
   "cell_type": "code",
   "execution_count": 7,
   "metadata": {
    "colab": {
     "base_uri": "https://localhost:8080/",
     "height": 204
    },
    "colab_type": "code",
    "id": "K3wuK9YvioSt",
    "outputId": "7958c63d-152f-4389-f757-f1738c5103e8"
   },
   "outputs": [
    {
     "data": {
      "text/html": [
       "<div>\n",
       "<style scoped>\n",
       "    .dataframe tbody tr th:only-of-type {\n",
       "        vertical-align: middle;\n",
       "    }\n",
       "\n",
       "    .dataframe tbody tr th {\n",
       "        vertical-align: top;\n",
       "    }\n",
       "\n",
       "    .dataframe thead th {\n",
       "        text-align: right;\n",
       "    }\n",
       "</style>\n",
       "<table border=\"1\" class=\"dataframe\">\n",
       "  <thead>\n",
       "    <tr style=\"text-align: right;\">\n",
       "      <th></th>\n",
       "      <th>Adj Close</th>\n",
       "      <th>Volume</th>\n",
       "      <th>lrets</th>\n",
       "      <th>MACD</th>\n",
       "      <th>stochastics</th>\n",
       "      <th>ATR</th>\n",
       "      <th>neg</th>\n",
       "      <th>neu</th>\n",
       "      <th>pos</th>\n",
       "      <th>Y</th>\n",
       "    </tr>\n",
       "  </thead>\n",
       "  <tbody>\n",
       "    <tr>\n",
       "      <th>1990-01-23</th>\n",
       "      <td>331.609985</td>\n",
       "      <td>179300000.0</td>\n",
       "      <td>0.003716</td>\n",
       "      <td>-1.021436</td>\n",
       "      <td>4.863502</td>\n",
       "      <td>4.089997</td>\n",
       "      <td>0.066</td>\n",
       "      <td>0.900</td>\n",
       "      <td>0.034</td>\n",
       "      <td>-0.004079</td>\n",
       "    </tr>\n",
       "    <tr>\n",
       "      <th>1990-01-24</th>\n",
       "      <td>330.260010</td>\n",
       "      <td>207830000.0</td>\n",
       "      <td>-0.004079</td>\n",
       "      <td>-1.103580</td>\n",
       "      <td>0.000000</td>\n",
       "      <td>7.539978</td>\n",
       "      <td>0.072</td>\n",
       "      <td>0.880</td>\n",
       "      <td>0.049</td>\n",
       "      <td>-0.012738</td>\n",
       "    </tr>\n",
       "    <tr>\n",
       "      <th>1990-01-25</th>\n",
       "      <td>326.079987</td>\n",
       "      <td>172270000.0</td>\n",
       "      <td>-0.012738</td>\n",
       "      <td>-1.323376</td>\n",
       "      <td>0.000000</td>\n",
       "      <td>7.000000</td>\n",
       "      <td>0.047</td>\n",
       "      <td>0.909</td>\n",
       "      <td>0.045</td>\n",
       "      <td>-0.000859</td>\n",
       "    </tr>\n",
       "    <tr>\n",
       "      <th>1990-01-26</th>\n",
       "      <td>325.799988</td>\n",
       "      <td>198190000.0</td>\n",
       "      <td>-0.000859</td>\n",
       "      <td>-1.419756</td>\n",
       "      <td>0.000000</td>\n",
       "      <td>7.139985</td>\n",
       "      <td>0.070</td>\n",
       "      <td>0.882</td>\n",
       "      <td>0.049</td>\n",
       "      <td>-0.001843</td>\n",
       "    </tr>\n",
       "    <tr>\n",
       "      <th>1990-01-29</th>\n",
       "      <td>325.200012</td>\n",
       "      <td>150770000.0</td>\n",
       "      <td>-0.001843</td>\n",
       "      <td>-1.447355</td>\n",
       "      <td>0.000000</td>\n",
       "      <td>5.519989</td>\n",
       "      <td>0.075</td>\n",
       "      <td>0.846</td>\n",
       "      <td>0.079</td>\n",
       "      <td>-0.006850</td>\n",
       "    </tr>\n",
       "  </tbody>\n",
       "</table>\n",
       "</div>"
      ],
      "text/plain": [
       "             Adj Close       Volume     lrets      MACD  stochastics  \\\n",
       "1990-01-23  331.609985  179300000.0  0.003716 -1.021436     4.863502   \n",
       "1990-01-24  330.260010  207830000.0 -0.004079 -1.103580     0.000000   \n",
       "1990-01-25  326.079987  172270000.0 -0.012738 -1.323376     0.000000   \n",
       "1990-01-26  325.799988  198190000.0 -0.000859 -1.419756     0.000000   \n",
       "1990-01-29  325.200012  150770000.0 -0.001843 -1.447355     0.000000   \n",
       "\n",
       "                 ATR    neg    neu    pos         Y  \n",
       "1990-01-23  4.089997  0.066  0.900  0.034 -0.004079  \n",
       "1990-01-24  7.539978  0.072  0.880  0.049 -0.012738  \n",
       "1990-01-25  7.000000  0.047  0.909  0.045 -0.000859  \n",
       "1990-01-26  7.139985  0.070  0.882  0.049 -0.001843  \n",
       "1990-01-29  5.519989  0.075  0.846  0.079 -0.006850  "
      ]
     },
     "execution_count": 7,
     "metadata": {
      "tags": []
     },
     "output_type": "execute_result"
    }
   ],
   "source": [
    "#data = pd.read_hdf('data2.h5', 'new_data')\n",
    "#data.index = pd.to_datetime(data.index, format='%Y-%m-%d')\n",
    "data['Y'] = data.lrets.shift(-1)\n",
    "data.dropna(axis=0, inplace=True)\n",
    "data.head()"
   ]
  },
  {
   "cell_type": "code",
   "execution_count": 8,
   "metadata": {
    "colab": {
     "base_uri": "https://localhost:8080/",
     "height": 337
    },
    "colab_type": "code",
    "id": "tpYi0HOAioS0",
    "outputId": "1f9a2212-f0c5-4ced-d83d-e64b38a2d7e8"
   },
   "outputs": [
    {
     "data": {
      "text/plain": [
       "<matplotlib.axes._subplots.AxesSubplot at 0x7f259e7f4cc0>"
      ]
     },
     "execution_count": 8,
     "metadata": {
      "tags": []
     },
     "output_type": "execute_result"
    },
    {
     "data": {
      "image/png": "[encoded data removed]",
      "text/plain": [
       "<matplotlib.figure.Figure at 0x7f26025b6f60>"
      ]
     },
     "metadata": {
      "tags": []
     },
     "output_type": "display_data"
    }
   ],
   "source": [
    "corr = data.corr()\n",
    "f, ax = plt.subplots(figsize=(5, 4))\n",
    "plt.title(\"Correlation between variables\")\n",
    "sns.heatmap(corr, \n",
    "            xticklabels=corr.columns.values,\n",
    "            yticklabels=corr.columns.values)"
   ]
  },
  {
   "cell_type": "markdown",
   "metadata": {
    "colab_type": "text",
    "id": "P91tHayjioS5"
   },
   "source": [
    "# Train Test split for recurrent neural net\n",
    "\n",
    "http://scikit-learn.org/stable/auto_examples/preprocessing/plot_all_scaling.html\n",
    "\n",
    "https://pythonprogramming.net/crypto-rnn-model-deep-learning-python-tensorflow-keras/?completed=/balancing-rnn-data-deep-learning-python-tensorflow-keras/"
   ]
  },
  {
   "cell_type": "code",
   "execution_count": 9,
   "metadata": {
    "colab": {
     "base_uri": "https://localhost:8080/",
     "height": 68
    },
    "colab_type": "code",
    "id": "GZfdMYKmioS6",
    "outputId": "30389551-1d80-445f-f0c9-f7275b3b6302"
   },
   "outputs": [
    {
     "name": "stdout",
     "output_type": "stream",
     "text": [
      "G\n",
      "H\n",
      "I\n"
     ]
    }
   ],
   "source": [
    "d = deque('ghi')                 # make a new deque with three items\n",
    "for elem in d:                   # iterate over the deque's elements\n",
    "    print (elem.upper())"
   ]
  },
  {
   "cell_type": "code",
   "execution_count": 0,
   "metadata": {
    "colab": {},
    "colab_type": "code",
    "id": "QA0oLCoIioS_"
   },
   "outputs": [],
   "source": [
    "def preprocess_df(data, shuffle=True):\n",
    "    mapped_data = data.copy()\n",
    "    SEQ_LEN = 60\n",
    "\n",
    "    scaler = RobustScaler()\n",
    "    data = scaler.fit_transform(data)\n",
    "\n",
    "    sequential_data = []  # this is a list that will CONTAIN the sequences\n",
    "    prev_days = deque(maxlen=SEQ_LEN)  # These will be our actual sequences. They are made with deque, which keeps the maximum length by popping out older values as new ones come in\n",
    "\n",
    "    for i in data:  # iterate over the values\n",
    "        prev_days.append([n for n in i[:-1]])  # store all but the target\n",
    "\n",
    "        # if prev_days have 60 days of data\n",
    "        if len(prev_days) == SEQ_LEN:\n",
    "            # sequential_data = [prev_days_data, target variable]\n",
    "            sequential_data.append([np.array(prev_days), i[-1]])  \n",
    "    if shuffle == True:\n",
    "        random.shuffle(sequential_data)  # shuffle for good measure.\n",
    "\n",
    "    X = []\n",
    "    y = []\n",
    "\n",
    "    for seq, target in sequential_data:  # going over our new sequential data\n",
    "        X.append(seq)  # X is the sequences\n",
    "        y.append(target)  # y is the targets/labels (buys vs sell/notbuy)\n",
    "    \n",
    "    if shuffle == True:\n",
    "        return np.array(X), y \n",
    "    else:\n",
    "        return np.array(X), y, mapped_data, scaler"
   ]
  },
  {
   "cell_type": "code",
   "execution_count": 0,
   "metadata": {
    "colab": {},
    "colab_type": "code",
    "id": "CimGzupgioTD"
   },
   "outputs": [],
   "source": [
    "times = sorted(data.index.values)\n",
    "last_5pct = sorted(data.index.values)[-int(0.05*len(times))]\n",
    "\n",
    "validation_main_df = data[(data.index >= last_5pct)]\n",
    "main_df = data[(data.index < last_5pct)]\n",
    "\n",
    "prescaler = RobustScaler()\n",
    "prescaler = prescaler.fit(validation_main_df)\n",
    "\n",
    "X_train, y_train = preprocess_df(main_df)\n",
    "X_val, y_val, mapped_data, prescaler = preprocess_df(validation_main_df, shuffle=False)"
   ]
  },
  {
   "cell_type": "markdown",
   "metadata": {
    "colab_type": "text",
    "id": "IAd5kUq0ioTG"
   },
   "source": [
    "# Stochastic Gradient descent with restart\n",
    "\n",
    "Replacing Adam optimizer with SGDR for better performance\n",
    "\n",
    "https://www.jeremyjordan.me/nn-learning-rate/"
   ]
  },
  {
   "cell_type": "code",
   "execution_count": 0,
   "metadata": {
    "colab": {},
    "colab_type": "code",
    "id": "3Z93iy_xioTI"
   },
   "outputs": [],
   "source": [
    "class SGDRScheduler(Callback):\n",
    "    '''Cosine annealing learning rate scheduler with periodic restarts.\n",
    "    # Usage\n",
    "        ```python\n",
    "            schedule = SGDRScheduler(min_lr=1e-5,\n",
    "                                     max_lr=1e-2,\n",
    "                                     steps_per_epoch=np.ceil(epoch_size/batch_size),\n",
    "                                     lr_decay=0.9,\n",
    "                                     cycle_length=5,\n",
    "                                     mult_factor=1.5)\n",
    "            model.fit(X_train, Y_train, epochs=100, callbacks=[schedule])\n",
    "        ```\n",
    "    # Arguments\n",
    "        min_lr: The lower bound of the learning rate range for the experiment.\n",
    "        max_lr: The upper bound of the learning rate range for the experiment.\n",
    "        steps_per_epoch: Number of mini-batches in the dataset. Calculated as `np.ceil(epoch_size/batch_size)`. \n",
    "        lr_decay: Reduce the max_lr after the completion of each cycle.\n",
    "                  Ex. To reduce the max_lr by 20% after each cycle, set this value to 0.8.\n",
    "        cycle_length: Initial number of epochs in a cycle.\n",
    "        mult_factor: Scale epochs_to_restart after each full cycle completion.\n",
    "    # References\n",
    "        Blog post: jeremyjordan.me/nn-learning-rate\n",
    "        Original paper: http://arxiv.org/abs/1608.03983\n",
    "    '''\n",
    "    def __init__(self,\n",
    "                 min_lr,\n",
    "                 max_lr,\n",
    "                 steps_per_epoch,\n",
    "                 lr_decay=1,\n",
    "                 cycle_length=10,\n",
    "                 mult_factor=2):\n",
    "\n",
    "        self.min_lr = min_lr\n",
    "        self.max_lr = max_lr\n",
    "        self.lr_decay = lr_decay\n",
    "\n",
    "        self.batch_since_restart = 0\n",
    "        self.next_restart = cycle_length\n",
    "\n",
    "        self.steps_per_epoch = steps_per_epoch\n",
    "\n",
    "        self.cycle_length = cycle_length\n",
    "        self.mult_factor = mult_factor\n",
    "\n",
    "        self.history = {}\n",
    "\n",
    "    def clr(self):\n",
    "        '''Calculate the learning rate.'''\n",
    "        fraction_to_restart = self.batch_since_restart / (self.steps_per_epoch * self.cycle_length)\n",
    "        lr = self.min_lr + 0.5 * (self.max_lr - self.min_lr) * (1 + np.cos(fraction_to_restart * np.pi))\n",
    "        return lr\n",
    "\n",
    "    def on_train_begin(self, logs={}):\n",
    "        '''Initialize the learning rate to the minimum value at the start of training.'''\n",
    "        logs = logs or {}\n",
    "        K.set_value(self.model.optimizer.lr, self.max_lr)\n",
    "\n",
    "    def on_batch_end(self, batch, logs={}):\n",
    "        '''Record previous batch statistics and update the learning rate.'''\n",
    "        logs = logs or {}\n",
    "        self.history.setdefault('lr', []).append(K.get_value(self.model.optimizer.lr))\n",
    "        for k, v in logs.items():\n",
    "            self.history.setdefault(k, []).append(v)\n",
    "\n",
    "        self.batch_since_restart += 1\n",
    "        K.set_value(self.model.optimizer.lr, self.clr())\n",
    "\n",
    "    def on_epoch_end(self, epoch, logs={}):\n",
    "        '''Check for end of current cycle, apply restarts when necessary.'''\n",
    "        if epoch + 1 == self.next_restart:\n",
    "            self.batch_since_restart = 0\n",
    "            self.cycle_length = np.ceil(self.cycle_length * self.mult_factor)\n",
    "            self.next_restart += self.cycle_length\n",
    "            self.max_lr *= self.lr_decay\n",
    "            self.best_weights = self.model.get_weights()\n",
    "\n",
    "    def on_train_end(self, logs={}):\n",
    "        '''Set weights to the values from the end of the most recent cycle for best performance.'''\n",
    "        self.model.set_weights(self.best_weights)"
   ]
  },
  {
   "cell_type": "markdown",
   "metadata": {
    "colab_type": "text",
    "id": "uk5NtpwPioTL"
   },
   "source": [
    "# Learning rate finder"
   ]
  },
  {
   "cell_type": "code",
   "execution_count": 0,
   "metadata": {
    "colab": {},
    "colab_type": "code",
    "id": "L58arb1OioTM"
   },
   "outputs": [],
   "source": [
    "class LRFinder(Callback):\n",
    "    \n",
    "    '''\n",
    "    A simple callback for finding the optimal learning rate range for your model + dataset. \n",
    "    \n",
    "    # Usage\n",
    "        ```python\n",
    "            lr_finder = LRFinder(min_lr=1e-5, \n",
    "                                 max_lr=1e-2, \n",
    "                                 steps_per_epoch=np.ceil(epoch_size/batch_size), \n",
    "                                 epochs=3)\n",
    "            model.fit(X_train, Y_train, callbacks=[lr_finder])\n",
    "            \n",
    "            lr_finder.plot_loss()\n",
    "        ```\n",
    "    \n",
    "    # Arguments\n",
    "        min_lr: The lower bound of the learning rate range for the experiment.\n",
    "        max_lr: The upper bound of the learning rate range for the experiment.\n",
    "        steps_per_epoch: Number of mini-batches in the dataset. Calculated as `np.ceil(epoch_size/batch_size)`. \n",
    "        epochs: Number of epochs to run experiment. Usually between 2 and 4 epochs is sufficient. \n",
    "        \n",
    "    # References\n",
    "        Blog post: jeremyjordan.me/nn-learning-rate\n",
    "        Original paper: https://arxiv.org/abs/1506.01186\n",
    "    '''\n",
    "    \n",
    "    def __init__(self, min_lr=1e-5, max_lr=1e-2, steps_per_epoch=None, epochs=None):\n",
    "        super().__init__()\n",
    "        \n",
    "        self.min_lr = min_lr\n",
    "        self.max_lr = max_lr\n",
    "        self.total_iterations = steps_per_epoch * epochs\n",
    "        self.iteration = 0\n",
    "        self.history = {}\n",
    "        \n",
    "    def clr(self):\n",
    "        '''Calculate the learning rate.'''\n",
    "        x = self.iteration / self.total_iterations \n",
    "        return self.min_lr + (self.max_lr-self.min_lr) * x\n",
    "        \n",
    "    def on_train_begin(self, logs=None):\n",
    "        '''Initialize the learning rate to the minimum value at the start of training.'''\n",
    "        logs = logs or {}\n",
    "        K.set_value(self.model.optimizer.lr, self.min_lr)\n",
    "        \n",
    "    def on_batch_end(self, epoch, logs=None):\n",
    "        '''Record previous batch statistics and update the learning rate.'''\n",
    "        logs = logs or {}\n",
    "        self.iteration += 1\n",
    "\n",
    "        self.history.setdefault('lr', []).append(K.get_value(self.model.optimizer.lr))\n",
    "        self.history.setdefault('iterations', []).append(self.iteration)\n",
    "\n",
    "        for k, v in logs.items():\n",
    "            self.history.setdefault(k, []).append(v)\n",
    "            \n",
    "        K.set_value(self.model.optimizer.lr, self.clr())\n",
    " \n",
    "    def plot_lr(self):\n",
    "        '''Helper function to quickly inspect the learning rate schedule.'''\n",
    "        plt.plot(self.history['iterations'], self.history['lr'])\n",
    "        plt.yscale('log')\n",
    "        plt.xlabel('Iteration')\n",
    "        plt.ylabel('Learning rate')\n",
    "        \n",
    "    def plot_loss(self):\n",
    "        '''Helper function to quickly observe the learning rate experiment results.'''\n",
    "        plt.plot(self.history['lr'], self.history['loss'])\n",
    "        plt.xscale('log')\n",
    "        plt.xlabel('Learning rate')\n",
    "        plt.ylabel('Loss')"
   ]
  },
  {
   "cell_type": "markdown",
   "metadata": {
    "colab_type": "text",
    "id": "ajiJ1OcEioTP"
   },
   "source": [
    "# Build up GRU model\n",
    "\n",
    "- Adam Optimizer = RMSProp + Momentum\n",
    "\n",
    "- RMSE should be more useful when large errors are particularly undesirable.\n",
    "\n",
    "- Batchnorm and dropout for regularization\n",
    "\n",
    "- https://www.quora.com/What-is-the-difference-between-dropout-and-batch-normalization"
   ]
  },
  {
   "cell_type": "code",
   "execution_count": 0,
   "metadata": {
    "colab": {},
    "colab_type": "code",
    "id": "RyY3HEZSioTR"
   },
   "outputs": [],
   "source": [
    "def build_model():\n",
    "    model = Sequential()\n",
    "    model.add(CuDNNLSTM(256, input_shape=(X_train.shape[1:]), return_sequences=True))\n",
    "    model.add(BatchNormalization())  #normalizes activation outputs, same reason you want to normalize your input data.\n",
    "\n",
    "    model.add(CuDNNLSTM(128, return_sequences=True))\n",
    "    model.add(BatchNormalization())\n",
    "    model.add(Dropout(0.1))\n",
    "    \n",
    "    model.add(CuDNNLSTM(64))\n",
    "    model.add(BatchNormalization())\n",
    "    model.add(Dropout(0.2))\n",
    "\n",
    "    model.add(Dense(32, activation='relu'))\n",
    "    model.add(BatchNormalization())\n",
    "    model.add(Dropout(0.2))\n",
    "\n",
    "    model.add(Dense(1, activation='tanh'))\n",
    "    \n",
    "    opt = tf.keras.optimizers.RMSprop(lr=7e-3)\n",
    "    model.compile(loss='mse',optimizer=opt, metrics=['mse'])\n",
    "    return model"
   ]
  },
  {
   "cell_type": "code",
   "execution_count": 0,
   "metadata": {
    "colab": {},
    "colab_type": "code",
    "id": "DiJFD1coioTV"
   },
   "outputs": [],
   "source": [
    "model = build_model()"
   ]
  },
  {
   "cell_type": "code",
   "execution_count": 16,
   "metadata": {
    "colab": {
     "base_uri": "https://localhost:8080/",
     "height": 34
    },
    "colab_type": "code",
    "id": "CTZ_BuKNioTY",
    "outputId": "aee1f627-1e03-4215-ce02-9edd5a77b5fb"
   },
   "outputs": [
    {
     "name": "stderr",
     "output_type": "stream",
     "text": [
      "Using TensorFlow backend.\n"
     ]
    }
   ],
   "source": [
    "from keras.utils import plot_model\n",
    "\n",
    "#later plot the model image\n",
    "#plot_model(model, to_file='model.png')"
   ]
  },
  {
   "cell_type": "code",
   "execution_count": 17,
   "metadata": {
    "colab": {
     "base_uri": "https://localhost:8080/",
     "height": 317
    },
    "colab_type": "code",
    "id": "GSq2EBXGioTd",
    "outputId": "dc3ecce5-93eb-478b-e289-f071134555e5"
   },
   "outputs": [
    {
     "name": "stdout",
     "output_type": "stream",
     "text": [
      "Epoch 1/1\n",
      "6113/6113 [==============================] - 16s 3ms/step - loss: 1.8970 - mean_squared_error: 1.8970\n"
     ]
    },
    {
     "data": {
      "image/png": "[encoded data removed]",
      "text/plain": [
       "<matplotlib.figure.Figure at 0x7f259ab45898>"
      ]
     },
     "metadata": {
      "tags": []
     },
     "output_type": "display_data"
    }
   ],
   "source": [
    "# find learning rate first\n",
    "epoch_size = 20\n",
    "batch_size = 256\n",
    "\n",
    "lr_finder = LRFinder(min_lr=1e-5, \n",
    "                     max_lr=1e-2, \n",
    "                     steps_per_epoch=np.ceil(epoch_size/batch_size), \n",
    "                     epochs=3)\n",
    "model.fit(X_train, y_train, callbacks=[lr_finder])\n",
    "\n",
    "lr_finder.plot_loss()"
   ]
  },
  {
   "cell_type": "code",
   "execution_count": 18,
   "metadata": {
    "colab": {
     "base_uri": "https://localhost:8080/",
     "height": 731
    },
    "colab_type": "code",
    "id": "8PERKUDzioTi",
    "outputId": "b1da8a90-4eab-42a5-85e9-4171fb905dd9"
   },
   "outputs": [
    {
     "name": "stdout",
     "output_type": "stream",
     "text": [
      "Train on 5501 samples, validate on 612 samples\n",
      "Epoch 1/20\n",
      "5501/5501 [==============================] - 13s 2ms/step - loss: 1.4914 - mean_squared_error: 1.4914 - val_loss: 1.2248 - val_mean_squared_error: 1.2248\n",
      "Epoch 2/20\n",
      "5501/5501 [==============================] - 12s 2ms/step - loss: 1.1994 - mean_squared_error: 1.1994 - val_loss: 1.3339 - val_mean_squared_error: 1.3339\n",
      "Epoch 3/20\n",
      "5501/5501 [==============================] - 11s 2ms/step - loss: 1.1629 - mean_squared_error: 1.1629 - val_loss: 1.1951 - val_mean_squared_error: 1.1951\n",
      "Epoch 4/20\n",
      "5501/5501 [==============================] - 11s 2ms/step - loss: 1.1518 - mean_squared_error: 1.1518 - val_loss: 1.1799 - val_mean_squared_error: 1.1799\n",
      "Epoch 5/20\n",
      "5501/5501 [==============================] - 11s 2ms/step - loss: 1.1526 - mean_squared_error: 1.1526 - val_loss: 1.1904 - val_mean_squared_error: 1.1904\n",
      "Epoch 6/20\n",
      "5501/5501 [==============================] - 11s 2ms/step - loss: 1.1518 - mean_squared_error: 1.1518 - val_loss: 1.1953 - val_mean_squared_error: 1.1953\n",
      "Epoch 7/20\n",
      "5501/5501 [==============================] - 11s 2ms/step - loss: 1.1489 - mean_squared_error: 1.1489 - val_loss: 1.1817 - val_mean_squared_error: 1.1817\n",
      "Epoch 8/20\n",
      "5501/5501 [==============================] - 11s 2ms/step - loss: 1.1479 - mean_squared_error: 1.1479 - val_loss: 1.1800 - val_mean_squared_error: 1.1800\n",
      "Epoch 9/20\n",
      "5501/5501 [==============================] - 11s 2ms/step - loss: 1.1465 - mean_squared_error: 1.1465 - val_loss: 1.1802 - val_mean_squared_error: 1.1802\n",
      "Epoch 10/20\n",
      "5501/5501 [==============================] - 11s 2ms/step - loss: 1.1468 - mean_squared_error: 1.1468 - val_loss: 1.1849 - val_mean_squared_error: 1.1849\n",
      "Epoch 11/20\n",
      "5501/5501 [==============================] - 11s 2ms/step - loss: 1.1462 - mean_squared_error: 1.1462 - val_loss: 1.2018 - val_mean_squared_error: 1.2018\n",
      "Epoch 12/20\n",
      "5501/5501 [==============================] - 11s 2ms/step - loss: 1.1464 - mean_squared_error: 1.1464 - val_loss: 1.1809 - val_mean_squared_error: 1.1809\n",
      "Epoch 13/20\n",
      "5501/5501 [==============================] - 11s 2ms/step - loss: 1.1441 - mean_squared_error: 1.1441 - val_loss: 1.1852 - val_mean_squared_error: 1.1852\n",
      "Epoch 14/20\n",
      "5501/5501 [==============================] - 11s 2ms/step - loss: 1.1453 - mean_squared_error: 1.1453 - val_loss: 1.1769 - val_mean_squared_error: 1.1769\n",
      "Epoch 15/20\n",
      "5501/5501 [==============================] - 11s 2ms/step - loss: 1.1445 - mean_squared_error: 1.1445 - val_loss: 1.1805 - val_mean_squared_error: 1.1805\n",
      "Epoch 16/20\n",
      "5501/5501 [==============================] - 11s 2ms/step - loss: 1.1446 - mean_squared_error: 1.1446 - val_loss: 1.1831 - val_mean_squared_error: 1.1831\n",
      "Epoch 17/20\n",
      "5501/5501 [==============================] - 11s 2ms/step - loss: 1.1442 - mean_squared_error: 1.1442 - val_loss: 1.1850 - val_mean_squared_error: 1.1850\n",
      "Epoch 18/20\n",
      "5501/5501 [==============================] - 11s 2ms/step - loss: 1.1434 - mean_squared_error: 1.1434 - val_loss: 1.1842 - val_mean_squared_error: 1.1842\n",
      "Epoch 19/20\n",
      "5501/5501 [==============================] - 11s 2ms/step - loss: 1.1452 - mean_squared_error: 1.1452 - val_loss: 1.1902 - val_mean_squared_error: 1.1902\n",
      "Epoch 20/20\n",
      "5501/5501 [==============================] - 11s 2ms/step - loss: 1.1427 - mean_squared_error: 1.1427 - val_loss: 1.1811 - val_mean_squared_error: 1.1811\n"
     ]
    },
    {
     "data": {
      "text/plain": [
       "<tensorflow.python.keras.callbacks.History at 0x7f25936accc0>"
      ]
     },
     "execution_count": 18,
     "metadata": {
      "tags": []
     },
     "output_type": "execute_result"
    }
   ],
   "source": [
    "model = build_model()\n",
    "schedule = SGDRScheduler(min_lr=1e-3,\n",
    "                         max_lr=1e-2,\n",
    "                         steps_per_epoch=np.ceil(epoch_size/batch_size),\n",
    "                         lr_decay=0.9,\n",
    "                         cycle_length= 3,\n",
    "                         mult_factor=1.5)\n",
    "\n",
    "model.fit(\n",
    "    X_train,\n",
    "    y_train,\n",
    "    epochs=20, \n",
    "    callbacks=[schedule],\n",
    "    validation_split=0.1,\n",
    "    verbose=1)"
   ]
  },
  {
   "cell_type": "code",
   "execution_count": 19,
   "metadata": {
    "colab": {
     "base_uri": "https://localhost:8080/",
     "height": 51
    },
    "colab_type": "code",
    "id": "0QqS-h0_ioTp",
    "outputId": "e07440f5-8ef6-4993-d4bf-d2e7716b2451"
   },
   "outputs": [
    {
     "name": "stdout",
     "output_type": "stream",
     "text": [
      "Train RMSE: 1.070363\n",
      "Test RMSE: 1.331070\n"
     ]
    }
   ],
   "source": [
    "trainScore = model.evaluate(X_train, y_train, verbose=0)\n",
    "print('Train RMSE: %2f' % math.sqrt(trainScore[0]))\n",
    "\n",
    "testScore = model.evaluate(X_val, y_val, verbose=0)\n",
    "print('Test RMSE: %2f'% math.sqrt(testScore[0]))"
   ]
  },
  {
   "cell_type": "code",
   "execution_count": 0,
   "metadata": {
    "colab": {},
    "colab_type": "code",
    "id": "9E_v8muwioTx"
   },
   "outputs": [],
   "source": [
    "p = model.predict(X_val)"
   ]
  },
  {
   "cell_type": "code",
   "execution_count": 21,
   "metadata": {
    "colab": {
     "base_uri": "https://localhost:8080/",
     "height": 34
    },
    "colab_type": "code",
    "id": "L57ZR84cPKgr",
    "outputId": "2350105a-a3eb-4126-d1b1-8582d31c20d0"
   },
   "outputs": [
    {
     "data": {
      "text/plain": [
       "(265, 60, 9)"
      ]
     },
     "execution_count": 21,
     "metadata": {
      "tags": []
     },
     "output_type": "execute_result"
    }
   ],
   "source": [
    "X_val.shape"
   ]
  },
  {
   "cell_type": "code",
   "execution_count": 22,
   "metadata": {
    "colab": {
     "base_uri": "https://localhost:8080/",
     "height": 4522
    },
    "colab_type": "code",
    "id": "9TFjmDN6Nq0O",
    "outputId": "841f1a68-3b72-447b-ab88-d552e23d1ac7"
   },
   "outputs": [
    {
     "data": {
      "text/plain": [
       "array([[-0.05817629],\n",
       "       [-0.02135868],\n",
       "       [-0.06142704],\n",
       "       [-0.06048125],\n",
       "       [-0.01353059],\n",
       "       [-0.05764252],\n",
       "       [-0.06093664],\n",
       "       [-0.06100577],\n",
       "       [-0.02566611],\n",
       "       [-0.0580745 ],\n",
       "       [ 0.00552801],\n",
       "       [ 0.05918324],\n",
       "       [ 0.01122514],\n",
       "       [-0.05836395],\n",
       "       [-0.00774597],\n",
       "       [ 0.07174911],\n",
       "       [ 0.06157056],\n",
       "       [-0.00718867],\n",
       "       [ 0.01761119],\n",
       "       [ 0.0141922 ],\n",
       "       [ 0.06671192],\n",
       "       [-0.06387156],\n",
       "       [ 0.01950857],\n",
       "       [ 0.01753494],\n",
       "       [ 0.04225343],\n",
       "       [ 0.05511175],\n",
       "       [-0.06434354],\n",
       "       [-0.06105744],\n",
       "       [-0.05764367],\n",
       "       [ 0.05624019],\n",
       "       [-0.06133306],\n",
       "       [ 0.00942314],\n",
       "       [ 0.00983988],\n",
       "       [-0.06001812],\n",
       "       [ 0.00099517],\n",
       "       [ 0.01321981],\n",
       "       [-0.05830712],\n",
       "       [-0.05677177],\n",
       "       [-0.0556858 ],\n",
       "       [-0.0206908 ],\n",
       "       [-0.02226386],\n",
       "       [-0.01240065],\n",
       "       [ 0.01240928],\n",
       "       [-0.05527855],\n",
       "       [-0.06198844],\n",
       "       [-0.01030409],\n",
       "       [-0.01262591],\n",
       "       [ 0.03893147],\n",
       "       [ 0.02477607],\n",
       "       [-0.0069591 ],\n",
       "       [ 0.0672388 ],\n",
       "       [-0.01240748],\n",
       "       [ 0.00558565],\n",
       "       [ 0.00454535],\n",
       "       [ 0.06111659],\n",
       "       [-0.05844424],\n",
       "       [ 0.00729501],\n",
       "       [ 0.00165252],\n",
       "       [-0.00365179],\n",
       "       [-0.023997  ],\n",
       "       [ 0.00493997],\n",
       "       [ 0.01245526],\n",
       "       [-0.01536729],\n",
       "       [-0.02052986],\n",
       "       [-0.0615871 ],\n",
       "       [ 0.01397408],\n",
       "       [ 0.00104406],\n",
       "       [ 0.06156486],\n",
       "       [ 0.00684627],\n",
       "       [-0.00335876],\n",
       "       [ 0.03871241],\n",
       "       [-0.01024303],\n",
       "       [ 0.00563569],\n",
       "       [-0.01330237],\n",
       "       [ 0.01072381],\n",
       "       [-0.06460513],\n",
       "       [ 0.01366251],\n",
       "       [ 0.00772979],\n",
       "       [-0.01235223],\n",
       "       [ 0.05076074],\n",
       "       [-0.00090405],\n",
       "       [-0.00068657],\n",
       "       [ 0.01059203],\n",
       "       [-0.06185706],\n",
       "       [ 0.01521501],\n",
       "       [ 0.00659152],\n",
       "       [ 0.03298392],\n",
       "       [ 0.00444685],\n",
       "       [-0.00599385],\n",
       "       [ 0.00802108],\n",
       "       [-0.05752763],\n",
       "       [-0.05677105],\n",
       "       [-0.05297242],\n",
       "       [-0.00633048],\n",
       "       [ 0.00518652],\n",
       "       [ 0.01112039],\n",
       "       [-0.05522244],\n",
       "       [-0.05679658],\n",
       "       [-0.05525518],\n",
       "       [-0.00632084],\n",
       "       [-0.0601976 ],\n",
       "       [-0.01236145],\n",
       "       [-0.0625302 ],\n",
       "       [-0.05610771],\n",
       "       [-0.06494113],\n",
       "       [-0.06238862],\n",
       "       [-0.05881743],\n",
       "       [ 0.01413483],\n",
       "       [-0.02382027],\n",
       "       [-0.01429993],\n",
       "       [-0.05466552],\n",
       "       [ 0.04496041],\n",
       "       [ 0.02161855],\n",
       "       [ 0.01020908],\n",
       "       [-0.01526149],\n",
       "       [-0.05900814],\n",
       "       [-0.06069138],\n",
       "       [-0.05535691],\n",
       "       [-0.05897385],\n",
       "       [-0.05816856],\n",
       "       [-0.00031223],\n",
       "       [ 0.00743081],\n",
       "       [-0.01009998],\n",
       "       [ 0.00288056],\n",
       "       [-0.00152549],\n",
       "       [-0.05665788],\n",
       "       [-0.05971513],\n",
       "       [-0.04101964],\n",
       "       [-0.02202623],\n",
       "       [-0.02695672],\n",
       "       [-0.0524535 ],\n",
       "       [-0.05411154],\n",
       "       [-0.05772746],\n",
       "       [-0.06662851],\n",
       "       [-0.04951289],\n",
       "       [-0.0355866 ],\n",
       "       [-0.07211602],\n",
       "       [-0.05417627],\n",
       "       [-0.05488393],\n",
       "       [-0.06005649],\n",
       "       [-0.05988191],\n",
       "       [-0.05681108],\n",
       "       [-0.05445514],\n",
       "       [-0.05382764],\n",
       "       [-0.05860514],\n",
       "       [-0.05968839],\n",
       "       [-0.05289123],\n",
       "       [-0.05514129],\n",
       "       [-0.05426329],\n",
       "       [-0.0592013 ],\n",
       "       [-0.05858291],\n",
       "       [-0.05634783],\n",
       "       [-0.05932391],\n",
       "       [-0.05596805],\n",
       "       [-0.05679882],\n",
       "       [-0.05723927],\n",
       "       [-0.05796421],\n",
       "       [-0.05886662],\n",
       "       [-0.05898993],\n",
       "       [-0.07225265],\n",
       "       [-0.07249863],\n",
       "       [-0.05738929],\n",
       "       [-0.05862399],\n",
       "       [-0.0578937 ],\n",
       "       [-0.05895513],\n",
       "       [-0.02382707],\n",
       "       [-0.02991792],\n",
       "       [-0.05754043],\n",
       "       [-0.05762953],\n",
       "       [-0.05775055],\n",
       "       [-0.06524976],\n",
       "       [-0.04229052],\n",
       "       [-0.03139173],\n",
       "       [-0.05409428],\n",
       "       [-0.03195934],\n",
       "       [-0.02917511],\n",
       "       [-0.05965409],\n",
       "       [-0.05932137],\n",
       "       [-0.05528207],\n",
       "       [-0.06060091],\n",
       "       [-0.05955825],\n",
       "       [-0.05768348],\n",
       "       [-0.06462381],\n",
       "       [-0.05912399],\n",
       "       [-0.0564378 ],\n",
       "       [-0.05705622],\n",
       "       [-0.06548507],\n",
       "       [-0.05617557],\n",
       "       [-0.05584702],\n",
       "       [-0.06791486],\n",
       "       [-0.05774445],\n",
       "       [-0.03288864],\n",
       "       [-0.06583317],\n",
       "       [-0.0663701 ],\n",
       "       [-0.05482754],\n",
       "       [-0.06695455],\n",
       "       [-0.06482357],\n",
       "       [-0.00265947],\n",
       "       [-0.03067591],\n",
       "       [-0.06544552],\n",
       "       [-0.02290879],\n",
       "       [-0.02077523],\n",
       "       [-0.00985738],\n",
       "       [-0.05619863],\n",
       "       [-0.05612738],\n",
       "       [-0.0601531 ],\n",
       "       [-0.06027809],\n",
       "       [-0.05972304],\n",
       "       [-0.02363841],\n",
       "       [-0.02629888],\n",
       "       [-0.05905597],\n",
       "       [-0.05933687],\n",
       "       [-0.05746652],\n",
       "       [-0.06438014],\n",
       "       [-0.03226356],\n",
       "       [-0.02239586],\n",
       "       [-0.0598765 ],\n",
       "       [-0.03093682],\n",
       "       [-0.0197197 ],\n",
       "       [-0.00799906],\n",
       "       [-0.01607103],\n",
       "       [-0.04267685],\n",
       "       [-0.00846771],\n",
       "       [-0.01234287],\n",
       "       [ 0.00141466],\n",
       "       [-0.01872846],\n",
       "       [-0.05909934],\n",
       "       [-0.01632408],\n",
       "       [-0.06006024],\n",
       "       [ 0.00195127],\n",
       "       [-0.05729913],\n",
       "       [-0.03394423],\n",
       "       [-0.06488079],\n",
       "       [-0.03570132],\n",
       "       [-0.01102401],\n",
       "       [-0.02223605],\n",
       "       [-0.02218535],\n",
       "       [-0.02804562],\n",
       "       [-0.01272517],\n",
       "       [-0.01037816],\n",
       "       [-0.00474822],\n",
       "       [-0.05888951],\n",
       "       [-0.03221915],\n",
       "       [-0.05982526],\n",
       "       [-0.05865901],\n",
       "       [-0.05662025],\n",
       "       [-0.05958237],\n",
       "       [-0.05895992],\n",
       "       [-0.05573949],\n",
       "       [-0.05658618],\n",
       "       [-0.05830138],\n",
       "       [-0.05769023],\n",
       "       [-0.06828685],\n",
       "       [-0.05631213],\n",
       "       [-0.0565582 ],\n",
       "       [ 0.02656751],\n",
       "       [-0.03198584],\n",
       "       [-0.06939105],\n",
       "       [-0.0246132 ],\n",
       "       [-0.05538241],\n",
       "       [-0.05486735],\n",
       "       [-0.02158338],\n",
       "       [-0.00836542],\n",
       "       [-0.00741157],\n",
       "       [-0.01792366]], dtype=float32)"
      ]
     },
     "execution_count": 22,
     "metadata": {
      "tags": []
     },
     "output_type": "execute_result"
    }
   ],
   "source": [
    "p"
   ]
  },
  {
   "cell_type": "code",
   "execution_count": 23,
   "metadata": {
    "colab": {
     "base_uri": "https://localhost:8080/",
     "height": 34
    },
    "colab_type": "code",
    "id": "K077iCBQlPTK",
    "outputId": "62b3580e-8f8e-4b87-93dc-623106bbe11a"
   },
   "outputs": [
    {
     "data": {
      "text/plain": [
       "(265, 1)"
      ]
     },
     "execution_count": 23,
     "metadata": {
      "tags": []
     },
     "output_type": "execute_result"
    }
   ],
   "source": [
    "p.shape"
   ]
  },
  {
   "cell_type": "code",
   "execution_count": 24,
   "metadata": {
    "colab": {
     "base_uri": "https://localhost:8080/",
     "height": 34
    },
    "colab_type": "code",
    "id": "prItYp8ZkayA",
    "outputId": "c1f0e9dc-1132-4174-a700-a80c562d11fd"
   },
   "outputs": [
    {
     "data": {
      "text/plain": [
       "(6496, 10)"
      ]
     },
     "execution_count": 24,
     "metadata": {
      "tags": []
     },
     "output_type": "execute_result"
    }
   ],
   "source": [
    "data.shape"
   ]
  },
  {
   "cell_type": "code",
   "execution_count": 0,
   "metadata": {
    "colab": {},
    "colab_type": "code",
    "id": "jI2KG1Nnrn7C"
   },
   "outputs": [],
   "source": [
    "#padding = np.zeros((1249, 15))\n",
    "#padding.shape"
   ]
  },
  {
   "cell_type": "code",
   "execution_count": 0,
   "metadata": {
    "colab": {},
    "colab_type": "code",
    "id": "LsL1w7XBrtrT"
   },
   "outputs": [],
   "source": [
    "#pred_result = pd.DataFrame(data=padding)"
   ]
  },
  {
   "cell_type": "code",
   "execution_count": 0,
   "metadata": {
    "colab": {},
    "colab_type": "code",
    "id": "sI_CcOr0ry1h"
   },
   "outputs": [],
   "source": [
    "#pred_result.shape"
   ]
  },
  {
   "cell_type": "code",
   "execution_count": 0,
   "metadata": {
    "colab": {},
    "colab_type": "code",
    "id": "W4epjHv1r5DV"
   },
   "outputs": [],
   "source": [
    "#pred_result.keys()"
   ]
  },
  {
   "cell_type": "code",
   "execution_count": 0,
   "metadata": {
    "colab": {},
    "colab_type": "code",
    "id": "lzv23Q9St1Po"
   },
   "outputs": [],
   "source": [
    "#pred_result.tail"
   ]
  },
  {
   "cell_type": "code",
   "execution_count": 0,
   "metadata": {
    "colab": {},
    "colab_type": "code",
    "id": "3eZjdIs-sPeq"
   },
   "outputs": [],
   "source": [
    "#pred_result[14]"
   ]
  },
  {
   "cell_type": "code",
   "execution_count": 31,
   "metadata": {
    "colab": {
     "base_uri": "https://localhost:8080/",
     "height": 204
    },
    "colab_type": "code",
    "id": "IoHVNwWPtS4g",
    "outputId": "dc532c0b-20fb-436f-a8ee-4ad20ce001f3"
   },
   "outputs": [
    {
     "data": {
      "text/html": [
       "<div>\n",
       "<style scoped>\n",
       "    .dataframe tbody tr th:only-of-type {\n",
       "        vertical-align: middle;\n",
       "    }\n",
       "\n",
       "    .dataframe tbody tr th {\n",
       "        vertical-align: top;\n",
       "    }\n",
       "\n",
       "    .dataframe thead th {\n",
       "        text-align: right;\n",
       "    }\n",
       "</style>\n",
       "<table border=\"1\" class=\"dataframe\">\n",
       "  <thead>\n",
       "    <tr style=\"text-align: right;\">\n",
       "      <th></th>\n",
       "      <th>Adj Close</th>\n",
       "      <th>Volume</th>\n",
       "      <th>lrets</th>\n",
       "      <th>MACD</th>\n",
       "      <th>stochastics</th>\n",
       "      <th>ATR</th>\n",
       "      <th>neg</th>\n",
       "      <th>neu</th>\n",
       "      <th>pos</th>\n",
       "      <th>Y</th>\n",
       "    </tr>\n",
       "  </thead>\n",
       "  <tbody>\n",
       "    <tr>\n",
       "      <th>2018-10-03</th>\n",
       "      <td>2925.510010</td>\n",
       "      <td>3.598710e+09</td>\n",
       "      <td>0.000711</td>\n",
       "      <td>-1.724414</td>\n",
       "      <td>87.508948</td>\n",
       "      <td>18.500000</td>\n",
       "      <td>0.133</td>\n",
       "      <td>0.778</td>\n",
       "      <td>0.089</td>\n",
       "      <td>-0.008203</td>\n",
       "    </tr>\n",
       "    <tr>\n",
       "      <th>2018-10-04</th>\n",
       "      <td>2901.610107</td>\n",
       "      <td>3.496860e+09</td>\n",
       "      <td>-0.008203</td>\n",
       "      <td>-3.498974</td>\n",
       "      <td>30.536527</td>\n",
       "      <td>41.590088</td>\n",
       "      <td>0.085</td>\n",
       "      <td>0.832</td>\n",
       "      <td>0.083</td>\n",
       "      <td>-0.005543</td>\n",
       "    </tr>\n",
       "    <tr>\n",
       "      <th>2018-10-05</th>\n",
       "      <td>2885.570068</td>\n",
       "      <td>3.328980e+09</td>\n",
       "      <td>-0.005543</td>\n",
       "      <td>-5.951191</td>\n",
       "      <td>0.000000</td>\n",
       "      <td>40.349854</td>\n",
       "      <td>0.116</td>\n",
       "      <td>0.792</td>\n",
       "      <td>0.092</td>\n",
       "      <td>-0.000395</td>\n",
       "    </tr>\n",
       "    <tr>\n",
       "      <th>2018-10-08</th>\n",
       "      <td>2884.429932</td>\n",
       "      <td>3.330320e+09</td>\n",
       "      <td>-0.000395</td>\n",
       "      <td>-7.726477</td>\n",
       "      <td>0.000000</td>\n",
       "      <td>27.369873</td>\n",
       "      <td>0.095</td>\n",
       "      <td>0.808</td>\n",
       "      <td>0.097</td>\n",
       "      <td>-0.001419</td>\n",
       "    </tr>\n",
       "    <tr>\n",
       "      <th>2018-10-09</th>\n",
       "      <td>2880.340088</td>\n",
       "      <td>3.520500e+09</td>\n",
       "      <td>-0.001419</td>\n",
       "      <td>-9.170761</td>\n",
       "      <td>0.000000</td>\n",
       "      <td>20.560058</td>\n",
       "      <td>0.089</td>\n",
       "      <td>0.834</td>\n",
       "      <td>0.077</td>\n",
       "      <td>-0.033416</td>\n",
       "    </tr>\n",
       "  </tbody>\n",
       "</table>\n",
       "</div>"
      ],
      "text/plain": [
       "              Adj Close        Volume     lrets      MACD  stochastics  \\\n",
       "2018-10-03  2925.510010  3.598710e+09  0.000711 -1.724414    87.508948   \n",
       "2018-10-04  2901.610107  3.496860e+09 -0.008203 -3.498974    30.536527   \n",
       "2018-10-05  2885.570068  3.328980e+09 -0.005543 -5.951191     0.000000   \n",
       "2018-10-08  2884.429932  3.330320e+09 -0.000395 -7.726477     0.000000   \n",
       "2018-10-09  2880.340088  3.520500e+09 -0.001419 -9.170761     0.000000   \n",
       "\n",
       "                  ATR    neg    neu    pos         Y  \n",
       "2018-10-03  18.500000  0.133  0.778  0.089 -0.008203  \n",
       "2018-10-04  41.590088  0.085  0.832  0.083 -0.005543  \n",
       "2018-10-05  40.349854  0.116  0.792  0.092 -0.000395  \n",
       "2018-10-08  27.369873  0.095  0.808  0.097 -0.001419  \n",
       "2018-10-09  20.560058  0.089  0.834  0.077 -0.033416  "
      ]
     },
     "execution_count": 31,
     "metadata": {
      "tags": []
     },
     "output_type": "execute_result"
    }
   ],
   "source": [
    "data.tail()"
   ]
  },
  {
   "cell_type": "markdown",
   "metadata": {
    "colab_type": "text",
    "id": "_JWQ88TkioT4"
   },
   "source": [
    "If the chosen model fits worse than a horizontal line, then R2 is negative."
   ]
  },
  {
   "cell_type": "code",
   "execution_count": 32,
   "metadata": {
    "colab": {
     "base_uri": "https://localhost:8080/",
     "height": 34
    },
    "colab_type": "code",
    "id": "msnh1CMQuJa_",
    "outputId": "c4f0899c-c16a-4599-e987-7af03c16ba29"
   },
   "outputs": [
    {
     "data": {
      "text/plain": [
       "(265, 1)"
      ]
     },
     "execution_count": 32,
     "metadata": {
      "tags": []
     },
     "output_type": "execute_result"
    }
   ],
   "source": [
    "p.shape"
   ]
  },
  {
   "cell_type": "code",
   "execution_count": 33,
   "metadata": {
    "colab": {
     "base_uri": "https://localhost:8080/",
     "height": 4522
    },
    "colab_type": "code",
    "id": "xFvu48z9NjZi",
    "outputId": "878b7247-e706-4f7d-d8b9-c6c24c322d79"
   },
   "outputs": [
    {
     "data": {
      "text/plain": [
       "[0.42160153012322943,\n",
       " -0.013360737272669402,\n",
       " -0.32404249152682696,\n",
       " 0.16865903776486527,\n",
       " 0.10334862744280411,\n",
       " 0.04561782272685021,\n",
       " -0.03387395468854142,\n",
       " -0.6499533199468297,\n",
       " -0.03162726639867636,\n",
       " -0.5118399767131062,\n",
       " -0.12783673888811195,\n",
       " 0.5417371445360212,\n",
       " 0.06138654893230689,\n",
       " 0.4784424487292052,\n",
       " 0.5065746745147952,\n",
       " 0.2206635002745602,\n",
       " 0.06841772546288231,\n",
       " 0.8015776737777502,\n",
       " -0.3195092686777222,\n",
       " -0.4418741731470299,\n",
       " 0.24795180481230314,\n",
       " 0.1613700476124172,\n",
       " -0.4221635932850994,\n",
       " 0.00685151189193033,\n",
       " 0.15256535670453844,\n",
       " -0.02748598723613384,\n",
       " -0.015831030965340852,\n",
       " -0.08507064865192934,\n",
       " 0.7134458837003307,\n",
       " -0.8054197128770189,\n",
       " 0.1303912029614719,\n",
       " -0.9213821495092647,\n",
       " 0.07246320531722343,\n",
       " 1.204477534558223,\n",
       " -0.6745334725956973,\n",
       " 0.017935312394565465,\n",
       " 0.12608461811930485,\n",
       " -0.10814342438458965,\n",
       " 0.3771244285385736,\n",
       " 0.07251414477791808,\n",
       " -0.17152325562972368,\n",
       " 0.10130074351463678,\n",
       " -0.7700715476281996,\n",
       " -0.29005482626842716,\n",
       " 0.024479105938242166,\n",
       " -0.5265129744799315,\n",
       " -1.0663506410451011,\n",
       " 1.2248829806172392,\n",
       " -0.5795377771024053,\n",
       " 0.0732541671717557,\n",
       " 0.9502064424183763,\n",
       " -0.26539230655475793,\n",
       " 0.2035211402853373,\n",
       " -0.2041622719622963,\n",
       " 1.4987009011047991,\n",
       " -0.2016480053609066,\n",
       " 1.2240359070764668,\n",
       " -0.47874463919515015,\n",
       " -0.31591445215577446,\n",
       " -0.7662943644756086,\n",
       " -0.1589818671963601,\n",
       " 0.34966661611182986,\n",
       " 0.77821971073475,\n",
       " 0.3946055270627224,\n",
       " 0.11887497377453503,\n",
       " -0.21899900462260447,\n",
       " -0.8219343111291674,\n",
       " 1.3539036539561482,\n",
       " 0.7543564635654566,\n",
       " 1.2426771938354035,\n",
       " 0.9265636412993816,\n",
       " 0.5323272460285842,\n",
       " 1.0320180088188033,\n",
       " 0.13780860574283887,\n",
       " 0.07780423956039717,\n",
       " -0.3259689738068483,\n",
       " 1.0319979845803053,\n",
       " 0.9848312272704522,\n",
       " -0.7302333739837689,\n",
       " 1.426918155371737,\n",
       " -0.41037956839848355,\n",
       " 0.5917004521268386,\n",
       " 1.203433286508359,\n",
       " 0.22325403108969297,\n",
       " -0.23355598978894188,\n",
       " -0.039175380227154354,\n",
       " 1.828300811518189,\n",
       " -1.2692860630810678,\n",
       " -1.9721739874485562,\n",
       " -0.058164736553133214,\n",
       " -0.24829724038165818,\n",
       " -3.724088929878885,\n",
       " -7.135923624233006,\n",
       " 2.7510600193271837,\n",
       " -0.9782602470809296,\n",
       " -6.536768704187045,\n",
       " 2.338927041285519,\n",
       " 2.1705612891201826,\n",
       " 0.2964063152211287,\n",
       " 2.086088196888834,\n",
       " 1.865957919405174,\n",
       " -0.07747051789163252,\n",
       " -1.1194393224934005,\n",
       " -1.0614460113574942,\n",
       " 0.02279485727582829,\n",
       " 2.5187715514595643,\n",
       " 1.8143899816060107,\n",
       " -2.2780923973596026,\n",
       " -2.0054738694947525,\n",
       " -2.3827009870078597,\n",
       " 0.7059201609410312,\n",
       " 1.6945383603219035,\n",
       " 0.3007302733354225,\n",
       " -0.2208253185909718,\n",
       " 0.6046583729694045,\n",
       " 2.7408563545116604,\n",
       " -0.3530469942376334,\n",
       " -1.2072844333931794,\n",
       " -1.0997856117483238,\n",
       " -0.2706914434314968,\n",
       " 0.1446694669558138,\n",
       " -2.5318547930389874,\n",
       " 0.10767011762598566,\n",
       " -0.448499899038466,\n",
       " -4.400944128249292,\n",
       " -3.6828120337097783,\n",
       " 4.340195147230473,\n",
       " -3.053723129373017,\n",
       " -0.6282765206086537,\n",
       " 2.1466705605656093,\n",
       " -3.9170366228032387,\n",
       " 1.9560946944004034,\n",
       " 1.782900364646727,\n",
       " 1.0036403236880682,\n",
       " -3.8457070865037957,\n",
       " 0.41703570561053627,\n",
       " 2.6336907193717574,\n",
       " -1.0662983267453174,\n",
       " 1.2339528019379167,\n",
       " -0.6232406353752615,\n",
       " 1.2104510118142768,\n",
       " 1.6332523673351727,\n",
       " -0.0009569220530618769,\n",
       " -1.1000550925784052,\n",
       " -1.5733271112766185,\n",
       " -0.13050093141487315,\n",
       " -2.3922182861472585,\n",
       " 0.16696974750131746,\n",
       " 1.5956447569583336,\n",
       " 0.04619061697146795,\n",
       " -1.5144757120815917,\n",
       " 0.28575246742258437,\n",
       " -1.3490758031721208,\n",
       " -0.5171393328811117,\n",
       " 1.9885060201183145,\n",
       " 0.4372643760905256,\n",
       " -0.18432331083073702,\n",
       " 1.471165896559582,\n",
       " 1.4195622773327945,\n",
       " 0.14536190957654507,\n",
       " 0.00775063277691962,\n",
       " -1.2878315579873654,\n",
       " 0.5376437176449673,\n",
       " -0.2830645646203606,\n",
       " -0.5805824692972277,\n",
       " 1.0906142657146762,\n",
       " -0.6650217927376002,\n",
       " 0.402347381467129,\n",
       " -0.4785239489834596,\n",
       " -0.5344921192376476,\n",
       " -2.0846870591081066,\n",
       " 1.9694562861308542,\n",
       " -1.2941312696557603,\n",
       " 1.6643058154467467,\n",
       " 0.6074082315694315,\n",
       " -0.022471056850020675,\n",
       " 1.2864535370729038,\n",
       " -0.25935662791067804,\n",
       " 0.3819296596672261,\n",
       " 0.03868869790842543,\n",
       " 0.15133556863196626,\n",
       " -0.8144248839535848,\n",
       " 0.27282770206940526,\n",
       " -0.31004735645102593,\n",
       " -0.4957668719259621,\n",
       " -0.8139673135391693,\n",
       " 0.14612275471746303,\n",
       " -1.204244457635971,\n",
       " 0.17112117400166646,\n",
       " -2.450543123318963,\n",
       " 0.22829438120017376,\n",
       " -1.584765060419646,\n",
       " 0.8899883862705547,\n",
       " -0.013146504129375772,\n",
       " 0.37227093116063875,\n",
       " -0.969146371754773,\n",
       " 1.2953076785091107,\n",
       " 1.2721775926857708,\n",
       " 1.3288200753541959,\n",
       " 0.4398172896701238,\n",
       " -1.330271798210844,\n",
       " 1.3165644776627698,\n",
       " 0.040447393176904205,\n",
       " -0.31189396093184857,\n",
       " 0.5231784067131808,\n",
       " 0.22094284585040916,\n",
       " -0.8021478581386479,\n",
       " -0.2985570330655937,\n",
       " 0.16713498543491764,\n",
       " 0.6575551587665169,\n",
       " 1.3749910281780284,\n",
       " -0.64766889157021,\n",
       " -1.2407115111891018,\n",
       " -1.104771298760782,\n",
       " 0.6748298245086352,\n",
       " -0.31393856067351933,\n",
       " 0.6817707070782807,\n",
       " 0.6348016058338007,\n",
       " 0.45064058325733425,\n",
       " 0.33163174711495347,\n",
       " -0.18377786803826468,\n",
       " -0.38112261258608987,\n",
       " -1.3335866946167472,\n",
       " -0.8110445992508952,\n",
       " 0.9249746959616719,\n",
       " -1.4158311550873492,\n",
       " 1.1789971957231569,\n",
       " 0.41479721050338547,\n",
       " 0.2655670165019842,\n",
       " 0.20559700353233226,\n",
       " -0.2064862703723652,\n",
       " -0.42291884251712597,\n",
       " 0.8933366839341746,\n",
       " 1.1376868943355927,\n",
       " -0.09488552324220442,\n",
       " 0.8106629707929094,\n",
       " -0.8822937645779673,\n",
       " -0.11741952852503501,\n",
       " -0.4167321782893789,\n",
       " -0.6092399310804913,\n",
       " -0.751681290777047,\n",
       " -0.5103811620365156,\n",
       " 0.17711105576423164,\n",
       " 0.48422803277723897,\n",
       " -0.08027804836344354,\n",
       " 0.7409594708699335,\n",
       " -0.09384867432686896,\n",
       " -1.0737562133600398,\n",
       " 0.7553888425075818,\n",
       " 0.06951191030102805,\n",
       " 1.1659222137216538,\n",
       " -0.2015321196461163,\n",
       " -0.7287568899363026,\n",
       " -0.35825544452522523,\n",
       " -0.6907722231165067,\n",
       " 0.3214784884423832,\n",
       " -0.14105121260858253,\n",
       " 0.46778015039096976,\n",
       " -0.20624176276356085,\n",
       " -0.0209795948053163,\n",
       " -1.511439918163406,\n",
       " -1.0667378434920547,\n",
       " -0.20597853079427816,\n",
       " -0.37714248951929463,\n",
       " -5.727081399110928]"
      ]
     },
     "execution_count": 33,
     "metadata": {
      "tags": []
     },
     "output_type": "execute_result"
    }
   ],
   "source": [
    "y_val"
   ]
  },
  {
   "cell_type": "code",
   "execution_count": 0,
   "metadata": {
    "colab": {},
    "colab_type": "code",
    "id": "aVkQP-WZUMmi"
   },
   "outputs": [],
   "source": [
    "#SP-500:\n",
    "padding = np.zeros((265, 9))\n",
    "pred_result = pd.DataFrame(data=padding)\n",
    "pred_result['9'] = p\n",
    "pred = prescaler.inverse_transform(pred_result)\n",
    "\n",
    "val_result = pd.DataFrame(data=padding)\n",
    "val_result['9'] = y_val\n",
    "val = prescaler.inverse_transform(val_result)"
   ]
  },
  {
   "cell_type": "markdown",
   "metadata": {
    "colab_type": "text",
    "id": "5X3lQhRoioT6"
   },
   "source": [
    "# Plotting Predicted value vs True value"
   ]
  },
  {
   "cell_type": "code",
   "execution_count": 0,
   "metadata": {
    "colab": {},
    "colab_type": "code",
    "id": "V99fhF8QioT7"
   },
   "outputs": [],
   "source": [
    "#Intrinio App model\n",
    "#working code!!\n",
    "\n",
    "#p is predicted values (3x1)\n",
    "#y_val is actual values (3x1)\n",
    "\n",
    "#padding = np.zeros((3, 9))\n",
    "\n",
    "#Predicted Values\n",
    "#pred_result = pd.DataFrame(data=padding)\n",
    "#pred_result['9'] = p\n",
    "#pred = prescaler.inverse_transform(pred_result)\n",
    "\n",
    "\n",
    "#Actual Values\n",
    "#val_result = pd.DataFrame(data=padding)\n",
    "#val_result['9'] = y_val\n",
    "#val = prescaler.inverse_transform(val_result)"
   ]
  },
  {
   "cell_type": "code",
   "execution_count": 0,
   "metadata": {
    "colab": {},
    "colab_type": "code",
    "id": "Qo_LMdgstZtc"
   },
   "outputs": [],
   "source": []
  },
  {
   "cell_type": "code",
   "execution_count": 0,
   "metadata": {
    "colab": {},
    "colab_type": "code",
    "id": "CD6KO1hOrhH8"
   },
   "outputs": [],
   "source": []
  },
  {
   "cell_type": "code",
   "execution_count": 0,
   "metadata": {
    "colab": {},
    "colab_type": "code",
    "id": "acw0xgvVioT-"
   },
   "outputs": [],
   "source": [
    "pred = pred[:, -1]\n",
    "val = val[:, -1]"
   ]
  },
  {
   "cell_type": "code",
   "execution_count": 37,
   "metadata": {
    "colab": {
     "base_uri": "https://localhost:8080/",
     "height": 477
    },
    "colab_type": "code",
    "id": "vTU-DpZKioUB",
    "outputId": "d9ba567f-ad04-4d55-8672-28c0b166d05d"
   },
   "outputs": [
    {
     "data": {
      "image/png": "[encoded data removed]",
      "text/plain": [
       "<matplotlib.figure.Figure at 0x7f259268aa58>"
      ]
     },
     "metadata": {
      "tags": []
     },
     "output_type": "display_data"
    }
   ],
   "source": [
    "plt.figure(figsize=(21,7))\n",
    "plt.plot(data.index[-len(pred):], np.expm1(pred)*100, color='red', label='Prediction')\n",
    "plt.plot(data.index[-len(val):], np.expm1(val)*100, color='blue', label='True Value')\n",
    "plt.xlabel(\"Date\")\n",
    "plt.ylabel(\"Return (%)\")\n",
    "plt.title('Predicted value vs True Value')\n",
    "plt.legend(loc='best')\n",
    "plt.show()"
   ]
  },
  {
   "cell_type": "markdown",
   "metadata": {
    "colab_type": "text",
    "id": "vmoxNGsJioUI"
   },
   "source": [
    "# The residual plot is not normal"
   ]
  },
  {
   "cell_type": "code",
   "execution_count": 38,
   "metadata": {
    "colab": {
     "base_uri": "https://localhost:8080/",
     "height": 2351
    },
    "colab_type": "code",
    "id": "gSKkRFryioUJ",
    "outputId": "ab183c5d-e01b-4a4d-f761-aa1d24f60597"
   },
   "outputs": [
    {
     "data": {
      "text/plain": [
       "((array([-2.79285789, -2.4926144 , -2.32228794, -2.20074297, -2.10500338,\n",
       "         -2.02538542, -1.95685437, -1.89644383, -1.84225287, -1.79298727,\n",
       "         -1.74772448, -1.70578274, -1.66664344, -1.62990245, -1.59523854,\n",
       "         -1.56239191, -1.53114937, -1.50133371, -1.47279597, -1.44540967,\n",
       "         -1.41906647, -1.39367282, -1.36914736, -1.34541887, -1.32242463,\n",
       "         -1.30010909, -1.27842285, -1.25732173, -1.23676605, -1.21672008,\n",
       "         -1.19715146, -1.17803083, -1.15933146, -1.14102891, -1.12310081,\n",
       "         -1.10552661, -1.08828738, -1.07136565, -1.05474528, -1.03841126,\n",
       "         -1.0223497 , -1.00654764, -0.99099301, -0.97567452, -0.96058162,\n",
       "         -0.94570443, -0.93103367, -0.9165606 , -0.90227702, -0.8881752 ,\n",
       "         -0.87424783, -0.860488  , -0.8468892 , -0.83344523, -0.82015025,\n",
       "         -0.80699867, -0.79398521, -0.78110485, -0.76835279, -0.75572448,\n",
       "         -0.74321554, -0.73082184, -0.71853938, -0.70636439, -0.69429321,\n",
       "         -0.68232236, -0.67044849, -0.65866842, -0.64697904, -0.63537741,\n",
       "         -0.62386068, -0.61242611, -0.60107105, -0.58979298, -0.57858943,\n",
       "         -0.56745804, -0.55639652, -0.54540267, -0.53447434, -0.52360948,\n",
       "         -0.51280608, -0.50206221, -0.49137598, -0.48074557, -0.47016921,\n",
       "         -0.45964519, -0.44917183, -0.43874751, -0.42837065, -0.41803972,\n",
       "         -0.40775322, -0.39750968, -0.38730768, -0.37714583, -0.36702279,\n",
       "         -0.35693721, -0.34688782, -0.33687334, -0.32689252, -0.31694417,\n",
       "         -0.30702709, -0.29714011, -0.28728209, -0.27745192, -0.26764848,\n",
       "         -0.2578707 , -0.24811751, -0.23838787, -0.22868074, -0.21899511,\n",
       "         -0.20932999, -0.19968438, -0.19005731, -0.18044783, -0.17085498,\n",
       "         -0.16127782, -0.15171544, -0.14216691, -0.13263133, -0.12310779,\n",
       "         -0.1135954 , -0.10409328, -0.09460055, -0.08511634, -0.07563978,\n",
       "         -0.06617   , -0.05670616, -0.04724739, -0.03779285, -0.02834169,\n",
       "         -0.01889305, -0.0094461 ,  0.        ,  0.0094461 ,  0.01889305,\n",
       "          0.02834169,  0.03779285,  0.04724739,  0.05670616,  0.06617   ,\n",
       "          0.07563978,  0.08511634,  0.09460055,  0.10409328,  0.1135954 ,\n",
       "          0.12310779,  0.13263133,  0.14216691,  0.15171544,  0.16127782,\n",
       "          0.17085498,  0.18044783,  0.19005731,  0.19968438,  0.20932999,\n",
       "          0.21899511,  0.22868074,  0.23838787,  0.24811751,  0.2578707 ,\n",
       "          0.26764848,  0.27745192,  0.28728209,  0.29714011,  0.30702709,\n",
       "          0.31694417,  0.32689252,  0.33687334,  0.34688782,  0.35693721,\n",
       "          0.36702279,  0.37714583,  0.38730768,  0.39750968,  0.40775322,\n",
       "          0.41803972,  0.42837065,  0.43874751,  0.44917183,  0.45964519,\n",
       "          0.47016921,  0.48074557,  0.49137598,  0.50206221,  0.51280608,\n",
       "          0.52360948,  0.53447434,  0.54540267,  0.55639652,  0.56745804,\n",
       "          0.57858943,  0.58979298,  0.60107105,  0.61242611,  0.62386068,\n",
       "          0.63537741,  0.64697904,  0.65866842,  0.67044849,  0.68232236,\n",
       "          0.69429321,  0.70636439,  0.71853938,  0.73082184,  0.74321554,\n",
       "          0.75572448,  0.76835279,  0.78110485,  0.79398521,  0.80699867,\n",
       "          0.82015025,  0.83344523,  0.8468892 ,  0.860488  ,  0.87424783,\n",
       "          0.8881752 ,  0.90227702,  0.9165606 ,  0.93103367,  0.94570443,\n",
       "          0.96058162,  0.97567452,  0.99099301,  1.00654764,  1.0223497 ,\n",
       "          1.03841126,  1.05474528,  1.07136565,  1.08828738,  1.10552661,\n",
       "          1.12310081,  1.14102891,  1.15933146,  1.17803083,  1.19715146,\n",
       "          1.21672008,  1.23676605,  1.25732173,  1.27842285,  1.30010909,\n",
       "          1.32242463,  1.34541887,  1.36914736,  1.39367282,  1.41906647,\n",
       "          1.44540967,  1.47279597,  1.50133371,  1.53114937,  1.56239191,\n",
       "          1.59523854,  1.62990245,  1.66664344,  1.70578274,  1.74772448,\n",
       "          1.79298727,  1.84225287,  1.89644383,  1.95685437,  2.02538542,\n",
       "          2.10500338,  2.20074297,  2.32228794,  2.4926144 ,  2.79285789]),\n",
       "  array([-2.66775476e-02, -1.68948927e-02, -1.66417201e-02, -1.63214470e-02,\n",
       "         -1.55646657e-02, -1.44294986e-02, -1.34174124e-02, -1.30939723e-02,\n",
       "         -1.26031999e-02, -1.23140204e-02, -1.21118130e-02, -1.21016264e-02,\n",
       "         -1.15922914e-02, -1.12719356e-02, -1.10748807e-02, -1.08066443e-02,\n",
       "         -1.03358875e-02, -1.01644193e-02, -9.92576728e-03, -9.92187352e-03,\n",
       "         -9.19743474e-03, -8.88659603e-03, -8.64551342e-03, -8.61795261e-03,\n",
       "         -8.27406238e-03, -8.17166255e-03, -8.16949870e-03, -8.08731912e-03,\n",
       "         -8.03629964e-03, -7.76866003e-03, -7.74213274e-03, -7.66010702e-03,\n",
       "         -7.63032822e-03, -7.59512736e-03, -7.48637300e-03, -7.43601548e-03,\n",
       "         -7.35242423e-03, -7.31018847e-03, -7.16622773e-03, -7.12589700e-03,\n",
       "         -7.04699778e-03, -6.69227571e-03, -6.42452295e-03, -6.16293826e-03,\n",
       "         -6.11476705e-03, -5.86623803e-03, -5.75004124e-03, -5.73559012e-03,\n",
       "         -5.54369277e-03, -5.32996903e-03, -5.30147869e-03, -4.99743433e-03,\n",
       "         -4.86551698e-03, -4.85272333e-03, -4.78402704e-03, -4.76119565e-03,\n",
       "         -4.62473924e-03, -4.56167838e-03, -4.48473117e-03, -4.44770253e-03,\n",
       "         -4.24074303e-03, -4.10122778e-03, -3.99225712e-03, -3.83379214e-03,\n",
       "         -3.71733419e-03, -3.57432448e-03, -3.55225119e-03, -3.47252191e-03,\n",
       "         -3.26079244e-03, -3.25285401e-03, -3.21929402e-03, -3.21731641e-03,\n",
       "         -3.08327532e-03, -3.02784781e-03, -2.96342227e-03, -2.89372169e-03,\n",
       "         -2.87503176e-03, -2.81916682e-03, -2.75568889e-03, -2.71245051e-03,\n",
       "         -2.61966941e-03, -2.59325626e-03, -2.58373183e-03, -2.55900270e-03,\n",
       "         -2.48774592e-03, -2.10653375e-03, -2.04918798e-03, -2.03496898e-03,\n",
       "         -2.02121349e-03, -2.02070491e-03, -1.95037467e-03, -1.76714976e-03,\n",
       "         -1.71307699e-03, -1.70747402e-03, -1.68342505e-03, -1.67234976e-03,\n",
       "         -1.37205751e-03, -1.35908018e-03, -1.34866974e-03, -1.32998193e-03,\n",
       "         -1.30290651e-03, -1.26697139e-03, -1.26273846e-03, -1.25357533e-03,\n",
       "         -1.21976233e-03, -1.18556562e-03, -1.14788170e-03, -1.14244296e-03,\n",
       "         -1.10397654e-03, -1.08590738e-03, -1.08041521e-03, -9.04873905e-04,\n",
       "         -8.92168312e-04, -8.68222429e-04, -7.54841253e-04, -7.05167187e-04,\n",
       "         -6.99816691e-04, -6.80787524e-04, -6.60702289e-04, -6.30842215e-04,\n",
       "         -6.18085091e-04, -5.94299907e-04, -5.58003085e-04, -5.25113728e-04,\n",
       "         -5.17529053e-04, -4.80272060e-04, -4.80244785e-04, -4.01643897e-04,\n",
       "         -3.74949970e-04, -3.20182539e-04, -3.18516016e-04, -3.01147496e-04,\n",
       "         -3.00326970e-04, -2.90322010e-04, -2.05885196e-04, -1.61948960e-04,\n",
       "         -4.78699891e-05, -4.10024515e-05, -4.01236986e-05, -2.82292010e-05,\n",
       "          3.56768548e-05,  6.39547003e-05,  1.29355909e-04,  1.43678173e-04,\n",
       "          2.05020987e-04,  2.73929919e-04,  3.07354591e-04,  3.89632462e-04,\n",
       "          3.96123088e-04,  4.23636641e-04,  4.94463651e-04,  5.01828690e-04,\n",
       "          5.34751711e-04,  6.52517994e-04,  7.55826657e-04,  7.98017724e-04,\n",
       "          8.56538688e-04,  8.60357712e-04,  8.92316966e-04,  8.92936008e-04,\n",
       "          9.80769869e-04,  1.00327865e-03,  1.08646235e-03,  1.14088631e-03,\n",
       "          1.18213682e-03,  1.19625295e-03,  1.24856000e-03,  1.27089294e-03,\n",
       "          1.34647952e-03,  1.38208092e-03,  1.39370178e-03,  1.40389967e-03,\n",
       "          1.42810847e-03,  1.48814947e-03,  1.50034809e-03,  1.51308755e-03,\n",
       "          1.52888602e-03,  1.56267488e-03,  1.57018212e-03,  1.74339481e-03,\n",
       "          1.74785131e-03,  1.80516703e-03,  1.86739167e-03,  2.01615274e-03,\n",
       "          2.02334103e-03,  2.21063355e-03,  2.32518947e-03,  2.41524719e-03,\n",
       "          2.44807229e-03,  2.51540139e-03,  2.62544685e-03,  2.64062997e-03,\n",
       "          2.69799325e-03,  2.69832637e-03,  2.71157579e-03,  2.72648477e-03,\n",
       "          2.75580454e-03,  2.84868441e-03,  2.87151638e-03,  3.08502575e-03,\n",
       "          3.11645070e-03,  3.36429086e-03,  3.51426758e-03,  3.51790276e-03,\n",
       "          3.57809968e-03,  3.61137532e-03,  3.62191253e-03,  3.78787681e-03,\n",
       "          3.79378584e-03,  3.94410608e-03,  4.03552136e-03,  4.28764470e-03,\n",
       "          4.42933265e-03,  4.43284175e-03,  4.46097696e-03,  4.51799310e-03,\n",
       "          4.51902085e-03,  4.67326527e-03,  4.76920521e-03,  4.91420280e-03,\n",
       "          5.13463207e-03,  5.14628352e-03,  5.38374059e-03,  5.55655146e-03,\n",
       "          5.86972900e-03,  5.99779764e-03,  6.03821656e-03,  6.05394919e-03,\n",
       "          6.20596421e-03,  6.20866605e-03,  6.23588468e-03,  6.24106295e-03,\n",
       "          6.28719485e-03,  6.30425299e-03,  6.84639857e-03,  6.86936365e-03,\n",
       "          7.05537210e-03,  7.33576596e-03,  7.52876321e-03,  7.59568701e-03,\n",
       "          7.68791272e-03,  7.79417598e-03,  7.90029612e-03,  8.32715814e-03,\n",
       "          8.67397395e-03,  8.67819915e-03,  9.02288230e-03,  9.24459992e-03,\n",
       "          1.17000312e-02,  1.17903065e-02,  1.20107781e-02,  1.36285960e-02,\n",
       "          1.39011031e-02,  1.40758988e-02,  1.41553132e-02,  1.50857704e-02,\n",
       "          1.78678929e-02,  2.14648827e-02,  2.17058727e-02,  2.24610066e-02,\n",
       "          2.28605845e-02,  2.59908511e-02,  3.35940390e-02,  3.84400814e-02,\n",
       "          4.14992808e-02])),\n",
       " (0.0075146612757033965, 0.00017353621920387344, 0.9407942881989986))"
      ]
     },
     "execution_count": 38,
     "metadata": {
      "tags": []
     },
     "output_type": "execute_result"
    },
    {
     "data": {
      "image/png": "[encoded data removed]",
      "text/plain": [
       "<matplotlib.figure.Figure at 0x7f25927a7c50>"
      ]
     },
     "metadata": {
      "tags": []
     },
     "output_type": "display_data"
    }
   ],
   "source": [
    "import scipy.stats as stats\n",
    "residual = np.expm1(pred) - np.expm1(val)\n",
    "stats.probplot(residual, dist=\"norm\", plot=plt)"
   ]
  },
  {
   "cell_type": "code",
   "execution_count": 0,
   "metadata": {
    "colab": {},
    "colab_type": "code",
    "id": "qZASGFrIioUN"
   },
   "outputs": [],
   "source": [
    "# Updates to be continued"
   ]
  },
  {
   "cell_type": "code",
   "execution_count": 0,
   "metadata": {
    "colab": {},
    "colab_type": "code",
    "id": "K80IHaShioUQ"
   },
   "outputs": [],
   "source": []
  }
 ],
 "metadata": {
  "accelerator": "GPU",
  "colab": {
   "name": "neuron_5_GPU_Mount_Recurrent_Neural_Network.ipynb",
   "provenance": [],
   "version": "0.3.2"
  },
  "kernelspec": {
   "display_name": "Python 3",
   "language": "python",
   "name": "python3"
  },
  "language_info": {
   "codemirror_mode": {
    "name": "ipython",
    "version": 3
   },
   "file_extension": ".py",
   "mimetype": "text/x-python",
   "name": "python",
   "nbconvert_exporter": "python",
   "pygments_lexer": "ipython3",
   "version": "3.6.6"
  }
 },
 "nbformat": 4,
 "nbformat_minor": 1
}
