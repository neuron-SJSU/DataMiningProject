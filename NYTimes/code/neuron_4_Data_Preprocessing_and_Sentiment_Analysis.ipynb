{
 "cells": [
  {
   "cell_type": "code",
   "execution_count": 1,
   "metadata": {
    "colab": {
     "base_uri": "https://localhost:8080/",
     "height": 34
    },
    "colab_type": "code",
    "id": "mQRaxskrAfN7",
    "outputId": "6f95f08c-cca2-441b-f345-4ab6f0f88848"
   },
   "outputs": [
    {
     "name": "stdout",
     "output_type": "stream",
     "text": [
      "Drive already mounted at /content/drive/; to attempt to forcibly remount, call drive.mount(\"/content/drive/\", force_remount=True).\n"
     ]
    }
   ],
   "source": [
    "from google.colab import drive\n",
    "drive.mount('/content/drive/')"
   ]
  },
  {
   "cell_type": "code",
   "execution_count": 2,
   "metadata": {
    "colab": {
     "base_uri": "https://localhost:8080/",
     "height": 85
    },
    "colab_type": "code",
    "id": "OKlJZ4CPVoha",
    "outputId": "3e361bb6-0294-4239-ffe6-2080be2a6060"
   },
   "outputs": [
    {
     "name": "stdout",
     "output_type": "stream",
     "text": [
      "Requirement already up-to-date: tables in /usr/local/lib/python3.6/dist-packages (3.4.4)\n",
      "Requirement already satisfied, skipping upgrade: numpy>=1.8.0 in /usr/local/lib/python3.6/dist-packages (from tables) (1.14.6)\n",
      "Requirement already satisfied, skipping upgrade: numexpr>=2.5.2 in /usr/local/lib/python3.6/dist-packages (from tables) (2.6.8)\n",
      "Requirement already satisfied, skipping upgrade: six>=1.9.0 in /usr/local/lib/python3.6/dist-packages (from tables) (1.11.0)\n"
     ]
    }
   ],
   "source": [
    "!pip install --upgrade tables"
   ]
  },
  {
   "cell_type": "code",
   "execution_count": 3,
   "metadata": {
    "colab": {
     "base_uri": "https://localhost:8080/",
     "height": 71
    },
    "colab_type": "code",
    "id": "lBp08uaAVouC",
    "outputId": "26e75dfb-5172-4af0-87f7-bfec9568c8af"
   },
   "outputs": [
    {
     "name": "stderr",
     "output_type": "stream",
     "text": [
      "/usr/local/lib/python3.6/dist-packages/nltk/twitter/__init__.py:20: UserWarning: The twython library has not been installed. Some functionality from the twitter package will not be available.\n",
      "  warnings.warn(\"The twython library has not been installed. \"\n"
     ]
    }
   ],
   "source": [
    "import pandas as pd\n",
    "import numpy as np\n",
    "from nltk.sentiment import SentimentAnalyzer\n",
    "import unicodedata\n",
    "from nltk.sentiment.util import *\n",
    "from nltk.sentiment.vader import SentimentIntensityAnalyzer"
   ]
  },
  {
   "cell_type": "code",
   "execution_count": 0,
   "metadata": {
    "colab": {},
    "colab_type": "code",
    "id": "1XBFC0B5Vo2x"
   },
   "outputs": [],
   "source": [
    "#Path here\n",
    "\n",
    "#Path here\n",
    "\n",
    "base_path = '/content/drive/My Drive/stocks_project/'\n",
    "sp500_path = '/content/drive/My Drive/stocks_project/data/sp/^GSPC.csv'\n",
    "created_data_path = base_path + 'data/created/data500.h5'\n",
    "created_data_path_new = base_path + 'data/created/data500_new.h5'\n",
    "technical500_path = created_data_path + 'technical500.h5'\n",
    "news_path = '/content/drive/My Drive/stocks_project/data/news/'"
   ]
  },
  {
   "cell_type": "code",
   "execution_count": 0,
   "metadata": {
    "colab": {},
    "colab_type": "code",
    "id": "8rwXuOrEVpAe"
   },
   "outputs": [],
   "source": [
    "\n"
   ]
  },
  {
   "cell_type": "code",
   "execution_count": 0,
   "metadata": {
    "colab": {},
    "colab_type": "code",
    "id": "cVZrBfGRBCf0"
   },
   "outputs": [],
   "source": []
  },
  {
   "cell_type": "code",
   "execution_count": 0,
   "metadata": {
    "colab": {},
    "colab_type": "code",
    "id": "SXVBiXuYBTpw"
   },
   "outputs": [],
   "source": [
    "\n",
    "import pandas as pd\n",
    "data = pd.read_hdf(created_data_path);"
   ]
  },
  {
   "cell_type": "markdown",
   "metadata": {
    "colab_type": "text",
    "id": "fNL3UTfsAfN5"
   },
   "source": [
    "# Import module"
   ]
  },
  {
   "cell_type": "code",
   "execution_count": 6,
   "metadata": {
    "colab": {
     "base_uri": "https://localhost:8080/",
     "height": 51
    },
    "colab_type": "code",
    "id": "BQF10avgAfN_",
    "outputId": "5d87c6b7-c527-4d8c-aea3-11826dd53667"
   },
   "outputs": [
    {
     "name": "stdout",
     "output_type": "stream",
     "text": [
      "[nltk_data] Downloading package vader_lexicon to /root/nltk_data...\n"
     ]
    },
    {
     "data": {
      "text/plain": [
       "True"
      ]
     },
     "execution_count": 6,
     "metadata": {
      "tags": []
     },
     "output_type": "execute_result"
    }
   ],
   "source": [
    "import nltk\n",
    "nltk.download('vader_lexicon')"
   ]
  },
  {
   "cell_type": "markdown",
   "metadata": {
    "colab_type": "text",
    "id": "b_GAKhZ1AfOG"
   },
   "source": [
    "# Import CSV file with all technical data and news"
   ]
  },
  {
   "cell_type": "code",
   "execution_count": 0,
   "metadata": {
    "colab": {},
    "colab_type": "code",
    "id": "dxLnNntHAfOH"
   },
   "outputs": [],
   "source": [
    "# encoding to avoid UnicodeDecodeError\n",
    "#data = pd.read_hdf(\"data.h5\", \"data\")"
   ]
  },
  {
   "cell_type": "code",
   "execution_count": 8,
   "metadata": {
    "colab": {
     "base_uri": "https://localhost:8080/",
     "height": 289
    },
    "colab_type": "code",
    "id": "3NVvcc4SAfOL",
    "outputId": "d87ceb4d-fafa-466a-bb79-871b9ce8e524"
   },
   "outputs": [
    {
     "data": {
      "text/html": [
       "<div>\n",
       "<style scoped>\n",
       "    .dataframe tbody tr th:only-of-type {\n",
       "        vertical-align: middle;\n",
       "    }\n",
       "\n",
       "    .dataframe tbody tr th {\n",
       "        vertical-align: top;\n",
       "    }\n",
       "\n",
       "    .dataframe thead th {\n",
       "        text-align: right;\n",
       "    }\n",
       "</style>\n",
       "<table border=\"1\" class=\"dataframe\">\n",
       "  <thead>\n",
       "    <tr style=\"text-align: right;\">\n",
       "      <th></th>\n",
       "      <th>Open</th>\n",
       "      <th>High</th>\n",
       "      <th>Low</th>\n",
       "      <th>Close</th>\n",
       "      <th>Adj Close</th>\n",
       "      <th>Volume</th>\n",
       "      <th>lrets</th>\n",
       "      <th>MACD</th>\n",
       "      <th>stochastics</th>\n",
       "      <th>ATR</th>\n",
       "      <th>News</th>\n",
       "    </tr>\n",
       "  </thead>\n",
       "  <tbody>\n",
       "    <tr>\n",
       "      <th>1990-01-01</th>\n",
       "      <td>NaN</td>\n",
       "      <td>NaN</td>\n",
       "      <td>NaN</td>\n",
       "      <td>NaN</td>\n",
       "      <td>NaN</td>\n",
       "      <td>NaN</td>\n",
       "      <td>NaN</td>\n",
       "      <td>NaN</td>\n",
       "      <td>NaN</td>\n",
       "      <td>NaN</td>\n",
       "      <td>Warm-Weather Sissies?A Proud Beginning to 1990...</td>\n",
       "    </tr>\n",
       "    <tr>\n",
       "      <th>1990-01-02</th>\n",
       "      <td>NaN</td>\n",
       "      <td>NaN</td>\n",
       "      <td>NaN</td>\n",
       "      <td>NaN</td>\n",
       "      <td>NaN</td>\n",
       "      <td>NaN</td>\n",
       "      <td>NaN</td>\n",
       "      <td>NaN</td>\n",
       "      <td>NaN</td>\n",
       "      <td>NaN</td>\n",
       "      <td>Guest Supply Inc reports earnings for Qtr to S...</td>\n",
       "    </tr>\n",
       "    <tr>\n",
       "      <th>1990-01-03</th>\n",
       "      <td>NaN</td>\n",
       "      <td>NaN</td>\n",
       "      <td>NaN</td>\n",
       "      <td>NaN</td>\n",
       "      <td>NaN</td>\n",
       "      <td>NaN</td>\n",
       "      <td>NaN</td>\n",
       "      <td>NaN</td>\n",
       "      <td>NaN</td>\n",
       "      <td>NaN</td>\n",
       "      <td>For Judaism's Remnant, Coup Is Mixed BlessingP...</td>\n",
       "    </tr>\n",
       "    <tr>\n",
       "      <th>1990-01-04</th>\n",
       "      <td>358.760010</td>\n",
       "      <td>358.760010</td>\n",
       "      <td>352.890015</td>\n",
       "      <td>355.670013</td>\n",
       "      <td>355.670013</td>\n",
       "      <td>177000000.0</td>\n",
       "      <td>-0.008650</td>\n",
       "      <td>0.000000</td>\n",
       "      <td>NaN</td>\n",
       "      <td>5.869995</td>\n",
       "      <td>Group W Sports GainsCooney's Common Denominato...</td>\n",
       "    </tr>\n",
       "    <tr>\n",
       "      <th>1990-01-05</th>\n",
       "      <td>355.670013</td>\n",
       "      <td>355.670013</td>\n",
       "      <td>351.350006</td>\n",
       "      <td>352.200012</td>\n",
       "      <td>352.200012</td>\n",
       "      <td>158530000.0</td>\n",
       "      <td>-0.009804</td>\n",
       "      <td>-0.036878</td>\n",
       "      <td>NaN</td>\n",
       "      <td>4.320007</td>\n",
       "      <td>President Wins Bipartisan Praise For Solution ...</td>\n",
       "    </tr>\n",
       "  </tbody>\n",
       "</table>\n",
       "</div>"
      ],
      "text/plain": [
       "                  Open        High         Low       Close   Adj Close  \\\n",
       "1990-01-01         NaN         NaN         NaN         NaN         NaN   \n",
       "1990-01-02         NaN         NaN         NaN         NaN         NaN   \n",
       "1990-01-03         NaN         NaN         NaN         NaN         NaN   \n",
       "1990-01-04  358.760010  358.760010  352.890015  355.670013  355.670013   \n",
       "1990-01-05  355.670013  355.670013  351.350006  352.200012  352.200012   \n",
       "\n",
       "                 Volume     lrets      MACD  stochastics       ATR  \\\n",
       "1990-01-01          NaN       NaN       NaN          NaN       NaN   \n",
       "1990-01-02          NaN       NaN       NaN          NaN       NaN   \n",
       "1990-01-03          NaN       NaN       NaN          NaN       NaN   \n",
       "1990-01-04  177000000.0 -0.008650  0.000000          NaN  5.869995   \n",
       "1990-01-05  158530000.0 -0.009804 -0.036878          NaN  4.320007   \n",
       "\n",
       "                                                         News  \n",
       "1990-01-01  Warm-Weather Sissies?A Proud Beginning to 1990...  \n",
       "1990-01-02  Guest Supply Inc reports earnings for Qtr to S...  \n",
       "1990-01-03  For Judaism's Remnant, Coup Is Mixed BlessingP...  \n",
       "1990-01-04  Group W Sports GainsCooney's Common Denominato...  \n",
       "1990-01-05  President Wins Bipartisan Praise For Solution ...  "
      ]
     },
     "execution_count": 8,
     "metadata": {
      "tags": []
     },
     "output_type": "execute_result"
    }
   ],
   "source": [
    "data.head()"
   ]
  },
  {
   "cell_type": "markdown",
   "metadata": {
    "colab_type": "text",
    "id": "2x7yGgz0AfOQ"
   },
   "source": [
    "# Remove data first day"
   ]
  },
  {
   "cell_type": "code",
   "execution_count": 9,
   "metadata": {
    "colab": {
     "base_uri": "https://localhost:8080/",
     "height": 425
    },
    "colab_type": "code",
    "id": "5AC_3dnJAfOR",
    "outputId": "22c50518-2676-40cf-8724-730d342b8086"
   },
   "outputs": [
    {
     "name": "stderr",
     "output_type": "stream",
     "text": [
      "/usr/local/lib/python3.6/dist-packages/ipykernel_launcher.py:1: DeprecationWarning: \n",
      ".ix is deprecated. Please use\n",
      ".loc for label based indexing or\n",
      ".iloc for positional indexing\n",
      "\n",
      "See the documentation here:\n",
      "http://pandas.pydata.org/pandas-docs/stable/indexing.html#ix-indexer-is-deprecated\n",
      "  \"\"\"Entry point for launching an IPython kernel.\n"
     ]
    },
    {
     "data": {
      "text/html": [
       "<div>\n",
       "<style scoped>\n",
       "    .dataframe tbody tr th:only-of-type {\n",
       "        vertical-align: middle;\n",
       "    }\n",
       "\n",
       "    .dataframe tbody tr th {\n",
       "        vertical-align: top;\n",
       "    }\n",
       "\n",
       "    .dataframe thead th {\n",
       "        text-align: right;\n",
       "    }\n",
       "</style>\n",
       "<table border=\"1\" class=\"dataframe\">\n",
       "  <thead>\n",
       "    <tr style=\"text-align: right;\">\n",
       "      <th></th>\n",
       "      <th>Open</th>\n",
       "      <th>High</th>\n",
       "      <th>Low</th>\n",
       "      <th>Close</th>\n",
       "      <th>Adj Close</th>\n",
       "      <th>Volume</th>\n",
       "      <th>lrets</th>\n",
       "      <th>MACD</th>\n",
       "      <th>stochastics</th>\n",
       "      <th>ATR</th>\n",
       "      <th>News</th>\n",
       "    </tr>\n",
       "  </thead>\n",
       "  <tbody>\n",
       "    <tr>\n",
       "      <th>1990-01-02</th>\n",
       "      <td>NaN</td>\n",
       "      <td>NaN</td>\n",
       "      <td>NaN</td>\n",
       "      <td>NaN</td>\n",
       "      <td>NaN</td>\n",
       "      <td>NaN</td>\n",
       "      <td>NaN</td>\n",
       "      <td>NaN</td>\n",
       "      <td>NaN</td>\n",
       "      <td>NaN</td>\n",
       "      <td>Guest Supply Inc reports earnings for Qtr to S...</td>\n",
       "    </tr>\n",
       "    <tr>\n",
       "      <th>1990-01-03</th>\n",
       "      <td>NaN</td>\n",
       "      <td>NaN</td>\n",
       "      <td>NaN</td>\n",
       "      <td>NaN</td>\n",
       "      <td>NaN</td>\n",
       "      <td>NaN</td>\n",
       "      <td>NaN</td>\n",
       "      <td>NaN</td>\n",
       "      <td>NaN</td>\n",
       "      <td>NaN</td>\n",
       "      <td>For Judaism's Remnant, Coup Is Mixed BlessingP...</td>\n",
       "    </tr>\n",
       "    <tr>\n",
       "      <th>1990-01-04</th>\n",
       "      <td>358.760010</td>\n",
       "      <td>358.760010</td>\n",
       "      <td>352.890015</td>\n",
       "      <td>355.670013</td>\n",
       "      <td>355.670013</td>\n",
       "      <td>177000000.0</td>\n",
       "      <td>-0.008650</td>\n",
       "      <td>0.000000</td>\n",
       "      <td>NaN</td>\n",
       "      <td>5.869995</td>\n",
       "      <td>Group W Sports GainsCooney's Common Denominato...</td>\n",
       "    </tr>\n",
       "    <tr>\n",
       "      <th>1990-01-05</th>\n",
       "      <td>355.670013</td>\n",
       "      <td>355.670013</td>\n",
       "      <td>351.350006</td>\n",
       "      <td>352.200012</td>\n",
       "      <td>352.200012</td>\n",
       "      <td>158530000.0</td>\n",
       "      <td>-0.009804</td>\n",
       "      <td>-0.036878</td>\n",
       "      <td>NaN</td>\n",
       "      <td>4.320007</td>\n",
       "      <td>President Wins Bipartisan Praise For Solution ...</td>\n",
       "    </tr>\n",
       "    <tr>\n",
       "      <th>1990-01-06</th>\n",
       "      <td>NaN</td>\n",
       "      <td>NaN</td>\n",
       "      <td>NaN</td>\n",
       "      <td>NaN</td>\n",
       "      <td>NaN</td>\n",
       "      <td>NaN</td>\n",
       "      <td>NaN</td>\n",
       "      <td>NaN</td>\n",
       "      <td>NaN</td>\n",
       "      <td>NaN</td>\n",
       "      <td>CorrectionsFrom Jewish Eden to EmbarrassmentAw...</td>\n",
       "    </tr>\n",
       "  </tbody>\n",
       "</table>\n",
       "</div>"
      ],
      "text/plain": [
       "                  Open        High         Low       Close   Adj Close  \\\n",
       "1990-01-02         NaN         NaN         NaN         NaN         NaN   \n",
       "1990-01-03         NaN         NaN         NaN         NaN         NaN   \n",
       "1990-01-04  358.760010  358.760010  352.890015  355.670013  355.670013   \n",
       "1990-01-05  355.670013  355.670013  351.350006  352.200012  352.200012   \n",
       "1990-01-06         NaN         NaN         NaN         NaN         NaN   \n",
       "\n",
       "                 Volume     lrets      MACD  stochastics       ATR  \\\n",
       "1990-01-02          NaN       NaN       NaN          NaN       NaN   \n",
       "1990-01-03          NaN       NaN       NaN          NaN       NaN   \n",
       "1990-01-04  177000000.0 -0.008650  0.000000          NaN  5.869995   \n",
       "1990-01-05  158530000.0 -0.009804 -0.036878          NaN  4.320007   \n",
       "1990-01-06          NaN       NaN       NaN          NaN       NaN   \n",
       "\n",
       "                                                         News  \n",
       "1990-01-02  Guest Supply Inc reports earnings for Qtr to S...  \n",
       "1990-01-03  For Judaism's Remnant, Coup Is Mixed BlessingP...  \n",
       "1990-01-04  Group W Sports GainsCooney's Common Denominato...  \n",
       "1990-01-05  President Wins Bipartisan Praise For Solution ...  \n",
       "1990-01-06  CorrectionsFrom Jewish Eden to EmbarrassmentAw...  "
      ]
     },
     "execution_count": 9,
     "metadata": {
      "tags": []
     },
     "output_type": "execute_result"
    }
   ],
   "source": [
    "data = data.ix[\"1990-01-02\":]\n",
    "data.head()"
   ]
  },
  {
   "cell_type": "markdown",
   "metadata": {
    "colab_type": "text",
    "id": "hLmWo82JAfOW"
   },
   "source": [
    "# Remove holiday \n",
    "Feel free to use forward fill to replace Nan value"
   ]
  },
  {
   "cell_type": "code",
   "execution_count": 10,
   "metadata": {
    "colab": {
     "base_uri": "https://localhost:8080/",
     "height": 289
    },
    "colab_type": "code",
    "id": "8mcfD6bSAfOY",
    "outputId": "7f41cfe6-db62-46f7-a277-f5bbca293b53"
   },
   "outputs": [
    {
     "data": {
      "text/html": [
       "<div>\n",
       "<style scoped>\n",
       "    .dataframe tbody tr th:only-of-type {\n",
       "        vertical-align: middle;\n",
       "    }\n",
       "\n",
       "    .dataframe tbody tr th {\n",
       "        vertical-align: top;\n",
       "    }\n",
       "\n",
       "    .dataframe thead th {\n",
       "        text-align: right;\n",
       "    }\n",
       "</style>\n",
       "<table border=\"1\" class=\"dataframe\">\n",
       "  <thead>\n",
       "    <tr style=\"text-align: right;\">\n",
       "      <th></th>\n",
       "      <th>Open</th>\n",
       "      <th>High</th>\n",
       "      <th>Low</th>\n",
       "      <th>Close</th>\n",
       "      <th>Adj Close</th>\n",
       "      <th>Volume</th>\n",
       "      <th>lrets</th>\n",
       "      <th>MACD</th>\n",
       "      <th>stochastics</th>\n",
       "      <th>ATR</th>\n",
       "      <th>News</th>\n",
       "    </tr>\n",
       "  </thead>\n",
       "  <tbody>\n",
       "    <tr>\n",
       "      <th>1990-01-23</th>\n",
       "      <td>330.380005</td>\n",
       "      <td>332.760010</td>\n",
       "      <td>328.670013</td>\n",
       "      <td>331.609985</td>\n",
       "      <td>331.609985</td>\n",
       "      <td>179300000.0</td>\n",
       "      <td>0.003716</td>\n",
       "      <td>-1.021436</td>\n",
       "      <td>4.863502</td>\n",
       "      <td>4.089997</td>\n",
       "      <td>Counsel Due For Inquiry On DinkinsMadrid Jolte...</td>\n",
       "    </tr>\n",
       "    <tr>\n",
       "      <th>1990-01-24</th>\n",
       "      <td>331.609985</td>\n",
       "      <td>331.709991</td>\n",
       "      <td>324.170013</td>\n",
       "      <td>330.260010</td>\n",
       "      <td>330.260010</td>\n",
       "      <td>207830000.0</td>\n",
       "      <td>-0.004079</td>\n",
       "      <td>-1.103580</td>\n",
       "      <td>0.000000</td>\n",
       "      <td>7.539978</td>\n",
       "      <td>Books of The Times;   A Satire on the Brezhnev...</td>\n",
       "    </tr>\n",
       "    <tr>\n",
       "      <th>1990-01-25</th>\n",
       "      <td>330.260010</td>\n",
       "      <td>332.329987</td>\n",
       "      <td>325.329987</td>\n",
       "      <td>326.079987</td>\n",
       "      <td>326.079987</td>\n",
       "      <td>172270000.0</td>\n",
       "      <td>-0.012738</td>\n",
       "      <td>-1.323376</td>\n",
       "      <td>0.000000</td>\n",
       "      <td>7.000000</td>\n",
       "      <td>Miami Officer Is Sentenced to 7 Years for 2 Ki...</td>\n",
       "    </tr>\n",
       "    <tr>\n",
       "      <th>1990-01-26</th>\n",
       "      <td>326.089996</td>\n",
       "      <td>328.579987</td>\n",
       "      <td>321.440002</td>\n",
       "      <td>325.799988</td>\n",
       "      <td>325.799988</td>\n",
       "      <td>198190000.0</td>\n",
       "      <td>-0.000859</td>\n",
       "      <td>-1.419756</td>\n",
       "      <td>0.000000</td>\n",
       "      <td>7.139985</td>\n",
       "      <td>Threat of Oil Shortage by '93 SeenCarol Wincen...</td>\n",
       "    </tr>\n",
       "    <tr>\n",
       "      <th>1990-01-29</th>\n",
       "      <td>325.799988</td>\n",
       "      <td>327.309998</td>\n",
       "      <td>321.790009</td>\n",
       "      <td>325.200012</td>\n",
       "      <td>325.200012</td>\n",
       "      <td>150770000.0</td>\n",
       "      <td>-0.001843</td>\n",
       "      <td>-1.447355</td>\n",
       "      <td>0.000000</td>\n",
       "      <td>5.519989</td>\n",
       "      <td>1855 Louisiana Law On Abortion Is BarredManila...</td>\n",
       "    </tr>\n",
       "  </tbody>\n",
       "</table>\n",
       "</div>"
      ],
      "text/plain": [
       "                  Open        High         Low       Close   Adj Close  \\\n",
       "1990-01-23  330.380005  332.760010  328.670013  331.609985  331.609985   \n",
       "1990-01-24  331.609985  331.709991  324.170013  330.260010  330.260010   \n",
       "1990-01-25  330.260010  332.329987  325.329987  326.079987  326.079987   \n",
       "1990-01-26  326.089996  328.579987  321.440002  325.799988  325.799988   \n",
       "1990-01-29  325.799988  327.309998  321.790009  325.200012  325.200012   \n",
       "\n",
       "                 Volume     lrets      MACD  stochastics       ATR  \\\n",
       "1990-01-23  179300000.0  0.003716 -1.021436     4.863502  4.089997   \n",
       "1990-01-24  207830000.0 -0.004079 -1.103580     0.000000  7.539978   \n",
       "1990-01-25  172270000.0 -0.012738 -1.323376     0.000000  7.000000   \n",
       "1990-01-26  198190000.0 -0.000859 -1.419756     0.000000  7.139985   \n",
       "1990-01-29  150770000.0 -0.001843 -1.447355     0.000000  5.519989   \n",
       "\n",
       "                                                         News  \n",
       "1990-01-23  Counsel Due For Inquiry On DinkinsMadrid Jolte...  \n",
       "1990-01-24  Books of The Times;   A Satire on the Brezhnev...  \n",
       "1990-01-25  Miami Officer Is Sentenced to 7 Years for 2 Ki...  \n",
       "1990-01-26  Threat of Oil Shortage by '93 SeenCarol Wincen...  \n",
       "1990-01-29  1855 Louisiana Law On Abortion Is BarredManila...  "
      ]
     },
     "execution_count": 10,
     "metadata": {
      "tags": []
     },
     "output_type": "execute_result"
    }
   ],
   "source": [
    "data.dropna(axis=0, inplace=True)\n",
    "data.head()"
   ]
  },
  {
   "cell_type": "markdown",
   "metadata": {
    "colab_type": "text",
    "id": "CSfVmdsgAfOb"
   },
   "source": [
    "# Removing open high low close"
   ]
  },
  {
   "cell_type": "code",
   "execution_count": 11,
   "metadata": {
    "colab": {
     "base_uri": "https://localhost:8080/",
     "height": 204
    },
    "colab_type": "code",
    "id": "Qb3K8L03AfOe",
    "outputId": "1e30c480-20f0-440b-d16f-d93b849f419d"
   },
   "outputs": [
    {
     "data": {
      "text/html": [
       "<div>\n",
       "<style scoped>\n",
       "    .dataframe tbody tr th:only-of-type {\n",
       "        vertical-align: middle;\n",
       "    }\n",
       "\n",
       "    .dataframe tbody tr th {\n",
       "        vertical-align: top;\n",
       "    }\n",
       "\n",
       "    .dataframe thead th {\n",
       "        text-align: right;\n",
       "    }\n",
       "</style>\n",
       "<table border=\"1\" class=\"dataframe\">\n",
       "  <thead>\n",
       "    <tr style=\"text-align: right;\">\n",
       "      <th></th>\n",
       "      <th>Adj Close</th>\n",
       "      <th>Volume</th>\n",
       "      <th>lrets</th>\n",
       "      <th>MACD</th>\n",
       "      <th>stochastics</th>\n",
       "      <th>ATR</th>\n",
       "      <th>News</th>\n",
       "    </tr>\n",
       "  </thead>\n",
       "  <tbody>\n",
       "    <tr>\n",
       "      <th>1990-01-23</th>\n",
       "      <td>331.609985</td>\n",
       "      <td>179300000.0</td>\n",
       "      <td>0.003716</td>\n",
       "      <td>-1.021436</td>\n",
       "      <td>4.863502</td>\n",
       "      <td>4.089997</td>\n",
       "      <td>Counsel Due For Inquiry On DinkinsMadrid Jolte...</td>\n",
       "    </tr>\n",
       "    <tr>\n",
       "      <th>1990-01-24</th>\n",
       "      <td>330.260010</td>\n",
       "      <td>207830000.0</td>\n",
       "      <td>-0.004079</td>\n",
       "      <td>-1.103580</td>\n",
       "      <td>0.000000</td>\n",
       "      <td>7.539978</td>\n",
       "      <td>Books of The Times;   A Satire on the Brezhnev...</td>\n",
       "    </tr>\n",
       "    <tr>\n",
       "      <th>1990-01-25</th>\n",
       "      <td>326.079987</td>\n",
       "      <td>172270000.0</td>\n",
       "      <td>-0.012738</td>\n",
       "      <td>-1.323376</td>\n",
       "      <td>0.000000</td>\n",
       "      <td>7.000000</td>\n",
       "      <td>Miami Officer Is Sentenced to 7 Years for 2 Ki...</td>\n",
       "    </tr>\n",
       "    <tr>\n",
       "      <th>1990-01-26</th>\n",
       "      <td>325.799988</td>\n",
       "      <td>198190000.0</td>\n",
       "      <td>-0.000859</td>\n",
       "      <td>-1.419756</td>\n",
       "      <td>0.000000</td>\n",
       "      <td>7.139985</td>\n",
       "      <td>Threat of Oil Shortage by '93 SeenCarol Wincen...</td>\n",
       "    </tr>\n",
       "    <tr>\n",
       "      <th>1990-01-29</th>\n",
       "      <td>325.200012</td>\n",
       "      <td>150770000.0</td>\n",
       "      <td>-0.001843</td>\n",
       "      <td>-1.447355</td>\n",
       "      <td>0.000000</td>\n",
       "      <td>5.519989</td>\n",
       "      <td>1855 Louisiana Law On Abortion Is BarredManila...</td>\n",
       "    </tr>\n",
       "  </tbody>\n",
       "</table>\n",
       "</div>"
      ],
      "text/plain": [
       "             Adj Close       Volume     lrets      MACD  stochastics  \\\n",
       "1990-01-23  331.609985  179300000.0  0.003716 -1.021436     4.863502   \n",
       "1990-01-24  330.260010  207830000.0 -0.004079 -1.103580     0.000000   \n",
       "1990-01-25  326.079987  172270000.0 -0.012738 -1.323376     0.000000   \n",
       "1990-01-26  325.799988  198190000.0 -0.000859 -1.419756     0.000000   \n",
       "1990-01-29  325.200012  150770000.0 -0.001843 -1.447355     0.000000   \n",
       "\n",
       "                 ATR                                               News  \n",
       "1990-01-23  4.089997  Counsel Due For Inquiry On DinkinsMadrid Jolte...  \n",
       "1990-01-24  7.539978  Books of The Times;   A Satire on the Brezhnev...  \n",
       "1990-01-25  7.000000  Miami Officer Is Sentenced to 7 Years for 2 Ki...  \n",
       "1990-01-26  7.139985  Threat of Oil Shortage by '93 SeenCarol Wincen...  \n",
       "1990-01-29  5.519989  1855 Louisiana Law On Abortion Is BarredManila...  "
      ]
     },
     "execution_count": 11,
     "metadata": {
      "tags": []
     },
     "output_type": "execute_result"
    }
   ],
   "source": [
    "#data.drop(['close', 'high', 'low', 'open','adj_factor', 'adj_high', 'adj_low', 'adj_open', 'adj_volume', 'ex_dividend', 'split_ratio'], axis=1, inplace=True)\n",
    "\n",
    "\n",
    "data.drop(['Open', 'High', 'Low', 'Close'], axis=1, inplace=True)\n",
    "data.head()"
   ]
  },
  {
   "cell_type": "markdown",
   "metadata": {
    "colab_type": "text",
    "id": "YB9t9DWQAfOj"
   },
   "source": [
    "# Using NLTK sentiment analyzer to generate a polarity score\n",
    "\n",
    "Hutto, C.J. & Gilbert, E.E. (2014). VADER: A Parsimonious Rule-based Model for Sentiment Analysis of Social Media Text. Eighth International Conference on Weblogs and Social Media (ICWSM-14). Ann Arbor, MI, June 2014.\n",
    "\n",
    "https://www.nltk.org/_modules/nltk/sentiment/sentiment_analyzer.html"
   ]
  },
  {
   "cell_type": "code",
   "execution_count": 0,
   "metadata": {
    "colab": {},
    "colab_type": "code",
    "id": "3SiKh2CjAfOl"
   },
   "outputs": [],
   "source": [
    "def sentimentanalysis(df):\n",
    "    sid = SentimentIntensityAnalyzer()\n",
    "    for date in df.index:\n",
    "        try:\n",
    "            sentence = unicodedata.normalize('NFKD', df.loc[date, 'News'])\n",
    "            ss = sid.polarity_scores(sentence)\n",
    "            neg_val = ss['neg']\n",
    "            neu_val = ss['neu']\n",
    "            pos_val = ss['pos']\n",
    "            df.at[date, 'neg'] = neg_val\n",
    "            df.at[date, 'neu'] = neu_val\n",
    "            df.at[date, 'pos'] = pos_val\n",
    "            \n",
    "        except TypeError:\n",
    "            print (df.loc[date, 'News'])\n",
    "            print (date)\n",
    "    return df"
   ]
  },
  {
   "cell_type": "code",
   "execution_count": 0,
   "metadata": {
    "colab": {},
    "colab_type": "code",
    "id": "sXe6lZGZAfOp"
   },
   "outputs": [],
   "source": [
    "new_data = sentimentanalysis(data)"
   ]
  },
  {
   "cell_type": "code",
   "execution_count": 0,
   "metadata": {
    "colab": {},
    "colab_type": "code",
    "id": "nNHvF3qpAfOt"
   },
   "outputs": [],
   "source": [
    "new_data.drop(['News'], axis=1, inplace=True)"
   ]
  },
  {
   "cell_type": "code",
   "execution_count": 0,
   "metadata": {
    "colab": {},
    "colab_type": "code",
    "id": "J-ByXoocAfOw"
   },
   "outputs": [],
   "source": [
    "#new_data.to_hdf('data2', 'new_data')\n",
    "new_data.to_hdf(created_data_path_new, 'new_data')"
   ]
  },
  {
   "cell_type": "markdown",
   "metadata": {
    "colab_type": "text",
    "id": "TmWg3CvgAfO4"
   },
   "source": [
    "# Check if there is missing data"
   ]
  },
  {
   "cell_type": "code",
   "execution_count": 16,
   "metadata": {
    "colab": {
     "base_uri": "https://localhost:8080/",
     "height": 187
    },
    "colab_type": "code",
    "id": "NsIHkFgSAfO5",
    "outputId": "4a69bbb5-2de5-4a18-9f7c-42f3a2011cc4"
   },
   "outputs": [
    {
     "data": {
      "text/plain": [
       "Adj Close      False\n",
       "Volume         False\n",
       "lrets          False\n",
       "MACD           False\n",
       "stochastics    False\n",
       "ATR            False\n",
       "neg            False\n",
       "neu            False\n",
       "pos            False\n",
       "dtype: bool"
      ]
     },
     "execution_count": 16,
     "metadata": {
      "tags": []
     },
     "output_type": "execute_result"
    }
   ],
   "source": [
    "new_data.isnull().any()"
   ]
  },
  {
   "cell_type": "code",
   "execution_count": 0,
   "metadata": {
    "colab": {},
    "colab_type": "code",
    "id": "JeK_py_DGL1u"
   },
   "outputs": [],
   "source": []
  }
 ],
 "metadata": {
  "colab": {
   "collapsed_sections": [],
   "name": "neuron_4_Data_Preprocessing_and_Sentiment_Analysis.ipynb",
   "provenance": [],
   "version": "0.3.2"
  },
  "kernelspec": {
   "display_name": "Python 3",
   "language": "python",
   "name": "python3"
  },
  "language_info": {
   "codemirror_mode": {
    "name": "ipython",
    "version": 3
   },
   "file_extension": ".py",
   "mimetype": "text/x-python",
   "name": "python",
   "nbconvert_exporter": "python",
   "pygments_lexer": "ipython3",
   "version": "3.6.6"
  }
 },
 "nbformat": 4,
 "nbformat_minor": 1
}
