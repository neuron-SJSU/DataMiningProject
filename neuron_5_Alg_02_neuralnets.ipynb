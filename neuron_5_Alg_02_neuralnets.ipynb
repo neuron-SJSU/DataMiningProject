{
  "nbformat": 4,
  "nbformat_minor": 0,
  "metadata": {
    "colab": {
      "name": "neuron_5_Alg_02_neuralnets.ipynb",
      "version": "0.3.2",
      "provenance": []
    },
    "kernelspec": {
      "display_name": "Python 3",
      "language": "python",
      "name": "python3"
    },
    "accelerator": "GPU"
  },
  "cells": [
    {
      "metadata": {
        "colab_type": "code",
        "id": "Vb_vAg7cioSn",
        "colab": {}
      },
      "cell_type": "code",
      "source": [
        ""
      ],
      "execution_count": 0,
      "outputs": []
    },
    {
      "metadata": {
        "colab_type": "code",
        "id": "jlbT5r2KZvr9",
        "outputId": "53444471-a486-419c-f925-44155579e1ae",
        "colab": {
          "base_uri": "https://localhost:8080/",
          "height": 34
        }
      },
      "cell_type": "code",
      "source": [
        "from google.colab import drive\n",
        "drive.mount('/content/drive/')"
      ],
      "execution_count": 55,
      "outputs": [
        {
          "output_type": "stream",
          "text": [
            "Drive already mounted at /content/drive/; to attempt to forcibly remount, call drive.mount(\"/content/drive/\", force_remount=True).\n"
          ],
          "name": "stdout"
        }
      ]
    },
    {
      "metadata": {
        "colab_type": "code",
        "id": "j-6nP9SEZv1a",
        "outputId": "68c102d5-fb83-483c-b063-abf802e62546",
        "colab": {
          "base_uri": "https://localhost:8080/",
          "height": 207
        }
      },
      "cell_type": "code",
      "source": [
        "!pip install --upgrade tables\n",
        "!pip install --upgrade pydot_ng\n",
        "!pip install --upgrade pydot\n",
        "!pip install --upgrade pydotplus\n",
        "!pip install --upgrade graphviz"
      ],
      "execution_count": 56,
      "outputs": [
        {
          "output_type": "stream",
          "text": [
            "Requirement already up-to-date: tables in /usr/local/lib/python3.6/dist-packages (3.4.4)\n",
            "Requirement already satisfied, skipping upgrade: numpy>=1.8.0 in /usr/local/lib/python3.6/dist-packages (from tables) (1.14.6)\n",
            "Requirement already satisfied, skipping upgrade: six>=1.9.0 in /usr/local/lib/python3.6/dist-packages (from tables) (1.11.0)\n",
            "Requirement already satisfied, skipping upgrade: numexpr>=2.5.2 in /usr/local/lib/python3.6/dist-packages (from tables) (2.6.8)\n",
            "Requirement already up-to-date: pydot_ng in /usr/local/lib/python3.6/dist-packages (2.0.0)\n",
            "Requirement already satisfied, skipping upgrade: pyparsing>=2.0.1 in /usr/local/lib/python3.6/dist-packages (from pydot_ng) (2.3.0)\n",
            "Requirement already up-to-date: pydot in /usr/local/lib/python3.6/dist-packages (1.4.0)\n",
            "Requirement already satisfied, skipping upgrade: pyparsing>=2.1.4 in /usr/local/lib/python3.6/dist-packages (from pydot) (2.3.0)\n",
            "Requirement already up-to-date: pydotplus in /usr/local/lib/python3.6/dist-packages (2.0.2)\n",
            "Requirement already satisfied, skipping upgrade: pyparsing>=2.0.1 in /usr/local/lib/python3.6/dist-packages (from pydotplus) (2.3.0)\n",
            "Requirement already up-to-date: graphviz in /usr/local/lib/python3.6/dist-packages (0.10.1)\n"
          ],
          "name": "stdout"
        }
      ]
    },
    {
      "metadata": {
        "colab_type": "code",
        "id": "V9zeJYp4Zv-n",
        "colab": {}
      },
      "cell_type": "code",
      "source": [
        "import tensorflow as tf\n",
        "#Libraries\n",
        "from tensorflow.keras.models import Sequential"
      ],
      "execution_count": 0,
      "outputs": []
    },
    {
      "metadata": {
        "id": "Xd5ZRH5nlX3o",
        "colab_type": "code",
        "colab": {}
      },
      "cell_type": "code",
      "source": [
        "import matplotlib.pyplot as mapper_data_plotting_mat_display\n",
        "#Libraries\n",
        "import seaborn as sns\n",
        "%matplotlib inline"
      ],
      "execution_count": 0,
      "outputs": []
    },
    {
      "metadata": {
        "id": "8gg77uTClX3r",
        "colab_type": "code",
        "colab": {}
      },
      "cell_type": "code",
      "source": [
        "from tensorflow.keras.callbacks import ModelCheckpoint\n",
        "from tensorflow.keras.callbacks import Callback\n",
        "#Libraries\n",
        "import tensorflow.keras.backend as K\n",
        "\n",
        "import math\n",
        "from sklearn.preprocessing import RobustScaler\n",
        "#Libraries\n",
        "from collections import deque"
      ],
      "execution_count": 0,
      "outputs": []
    },
    {
      "metadata": {
        "id": "MjO-r6lDlX3u",
        "colab_type": "code",
        "colab": {}
      },
      "cell_type": "code",
      "source": [
        "\n",
        "from tensorflow.keras.layers import Dense, Dropout, LSTM, CuDNNLSTM, BatchNormalization\n",
        "#Libraries\n",
        "from tensorflow.keras.callbacks import TensorBoard"
      ],
      "execution_count": 0,
      "outputs": []
    },
    {
      "metadata": {
        "id": "C5bDGa82lX3x",
        "colab_type": "code",
        "colab": {}
      },
      "cell_type": "code",
      "source": [
        "import pandas as pd\n",
        "import numpy as np\n",
        "#Libraries\n",
        "import random"
      ],
      "execution_count": 0,
      "outputs": []
    },
    {
      "metadata": {
        "id": "NNSKKjsxlX30",
        "colab_type": "code",
        "colab": {}
      },
      "cell_type": "code",
      "source": [
        ""
      ],
      "execution_count": 0,
      "outputs": []
    },
    {
      "metadata": {
        "colab_type": "code",
        "id": "ji73ak4WZwhF",
        "colab": {}
      },
      "cell_type": "code",
      "source": [
        "#Path here\n",
        "\n",
        "base_path = '/content/drive/My Drive/stocks_project/'\n",
        "sp500_path = '/content/drive/My Drive/stocks_project/data/sp/^GSPC.csv'\n",
        "created_data_path = base_path + 'data/created/data500.h5'\n",
        "created_data_path_new = base_path + 'data/created/data500_new.h5'\n",
        "technical500_path = created_data_path + 'technical500.h5'\n",
        "news_path = '/content/drive/My Drive/stocks_project/data/news/'"
      ],
      "execution_count": 0,
      "outputs": []
    },
    {
      "metadata": {
        "colab_type": "code",
        "id": "fkuDmLydZw_D",
        "colab": {}
      },
      "cell_type": "code",
      "source": [
        ""
      ],
      "execution_count": 0,
      "outputs": []
    },
    {
      "metadata": {
        "colab_type": "code",
        "id": "JYuhbfJYjIN5",
        "colab": {}
      },
      "cell_type": "code",
      "source": [
        ""
      ],
      "execution_count": 0,
      "outputs": []
    },
    {
      "metadata": {
        "colab_type": "code",
        "id": "oYDmIDFyKXEI",
        "colab": {}
      },
      "cell_type": "code",
      "source": [
        ""
      ],
      "execution_count": 0,
      "outputs": []
    },
    {
      "metadata": {
        "colab_type": "code",
        "id": "j0jW7nYKQ3W-",
        "colab": {}
      },
      "cell_type": "code",
      "source": [
        ""
      ],
      "execution_count": 0,
      "outputs": []
    },
    {
      "metadata": {
        "colab_type": "code",
        "id": "4bb-mDE4jLB2",
        "colab": {}
      },
      "cell_type": "code",
      "source": [
        "import pandas as pd\n",
        "\n",
        "#Libraries\n",
        "data = pd.read_hdf(created_data_path_new);"
      ],
      "execution_count": 0,
      "outputs": []
    },
    {
      "metadata": {
        "colab_type": "code",
        "id": "kwJW20J1jLQ0",
        "colab": {}
      },
      "cell_type": "code",
      "source": [
        ""
      ],
      "execution_count": 0,
      "outputs": []
    },
    {
      "metadata": {
        "colab_type": "code",
        "id": "h_uISBPwjLVz",
        "colab": {}
      },
      "cell_type": "code",
      "source": [
        ""
      ],
      "execution_count": 0,
      "outputs": []
    },
    {
      "metadata": {
        "colab_type": "code",
        "id": "K3wuK9YvioSt",
        "outputId": "daa5248e-1965-436a-bbb9-eb95a0887e2e",
        "colab": {
          "base_uri": "https://localhost:8080/",
          "height": 202
        }
      },
      "cell_type": "code",
      "source": [
        "\n",
        "data['Y'] = data.lrets.shift(-1)\n",
        "data.dropna(axis=0, inplace=True)\n",
        "data.head()"
      ],
      "execution_count": 64,
      "outputs": [
        {
          "output_type": "execute_result",
          "data": {
            "text/html": [
              "<div>\n",
              "<style scoped>\n",
              "    .dataframe tbody tr th:only-of-type {\n",
              "        vertical-align: middle;\n",
              "    }\n",
              "\n",
              "    .dataframe tbody tr th {\n",
              "        vertical-align: top;\n",
              "    }\n",
              "\n",
              "    .dataframe thead th {\n",
              "        text-align: right;\n",
              "    }\n",
              "</style>\n",
              "<table border=\"1\" class=\"dataframe\">\n",
              "  <thead>\n",
              "    <tr style=\"text-align: right;\">\n",
              "      <th></th>\n",
              "      <th>Adj Close</th>\n",
              "      <th>Volume</th>\n",
              "      <th>lrets</th>\n",
              "      <th>MACD</th>\n",
              "      <th>stochastics</th>\n",
              "      <th>ATR</th>\n",
              "      <th>neg</th>\n",
              "      <th>neu</th>\n",
              "      <th>pos</th>\n",
              "      <th>Y</th>\n",
              "    </tr>\n",
              "  </thead>\n",
              "  <tbody>\n",
              "    <tr>\n",
              "      <th>1990-01-23</th>\n",
              "      <td>331.609985</td>\n",
              "      <td>179300000.0</td>\n",
              "      <td>0.003716</td>\n",
              "      <td>-1.021436</td>\n",
              "      <td>4.863502</td>\n",
              "      <td>4.089997</td>\n",
              "      <td>0.066</td>\n",
              "      <td>0.900</td>\n",
              "      <td>0.034</td>\n",
              "      <td>-0.004079</td>\n",
              "    </tr>\n",
              "    <tr>\n",
              "      <th>1990-01-24</th>\n",
              "      <td>330.260010</td>\n",
              "      <td>207830000.0</td>\n",
              "      <td>-0.004079</td>\n",
              "      <td>-1.103580</td>\n",
              "      <td>0.000000</td>\n",
              "      <td>7.539978</td>\n",
              "      <td>0.072</td>\n",
              "      <td>0.880</td>\n",
              "      <td>0.049</td>\n",
              "      <td>-0.012738</td>\n",
              "    </tr>\n",
              "    <tr>\n",
              "      <th>1990-01-25</th>\n",
              "      <td>326.079987</td>\n",
              "      <td>172270000.0</td>\n",
              "      <td>-0.012738</td>\n",
              "      <td>-1.323376</td>\n",
              "      <td>0.000000</td>\n",
              "      <td>7.000000</td>\n",
              "      <td>0.047</td>\n",
              "      <td>0.909</td>\n",
              "      <td>0.045</td>\n",
              "      <td>-0.000859</td>\n",
              "    </tr>\n",
              "    <tr>\n",
              "      <th>1990-01-26</th>\n",
              "      <td>325.799988</td>\n",
              "      <td>198190000.0</td>\n",
              "      <td>-0.000859</td>\n",
              "      <td>-1.419756</td>\n",
              "      <td>0.000000</td>\n",
              "      <td>7.139985</td>\n",
              "      <td>0.070</td>\n",
              "      <td>0.882</td>\n",
              "      <td>0.049</td>\n",
              "      <td>-0.001843</td>\n",
              "    </tr>\n",
              "    <tr>\n",
              "      <th>1990-01-29</th>\n",
              "      <td>325.200012</td>\n",
              "      <td>150770000.0</td>\n",
              "      <td>-0.001843</td>\n",
              "      <td>-1.447355</td>\n",
              "      <td>0.000000</td>\n",
              "      <td>5.519989</td>\n",
              "      <td>0.075</td>\n",
              "      <td>0.846</td>\n",
              "      <td>0.079</td>\n",
              "      <td>-0.006850</td>\n",
              "    </tr>\n",
              "  </tbody>\n",
              "</table>\n",
              "</div>"
            ],
            "text/plain": [
              "             Adj Close       Volume     lrets      MACD  stochastics  \\\n",
              "1990-01-23  331.609985  179300000.0  0.003716 -1.021436     4.863502   \n",
              "1990-01-24  330.260010  207830000.0 -0.004079 -1.103580     0.000000   \n",
              "1990-01-25  326.079987  172270000.0 -0.012738 -1.323376     0.000000   \n",
              "1990-01-26  325.799988  198190000.0 -0.000859 -1.419756     0.000000   \n",
              "1990-01-29  325.200012  150770000.0 -0.001843 -1.447355     0.000000   \n",
              "\n",
              "                 ATR    neg    neu    pos         Y  \n",
              "1990-01-23  4.089997  0.066  0.900  0.034 -0.004079  \n",
              "1990-01-24  7.539978  0.072  0.880  0.049 -0.012738  \n",
              "1990-01-25  7.000000  0.047  0.909  0.045 -0.000859  \n",
              "1990-01-26  7.139985  0.070  0.882  0.049 -0.001843  \n",
              "1990-01-29  5.519989  0.075  0.846  0.079 -0.006850  "
            ]
          },
          "metadata": {
            "tags": []
          },
          "execution_count": 64
        }
      ]
    },
    {
      "metadata": {
        "colab_type": "code",
        "id": "tpYi0HOAioS0",
        "outputId": "da7abb1d-afbd-4338-b86b-f614fa352945",
        "colab": {
          "base_uri": "https://localhost:8080/",
          "height": 337
        }
      },
      "cell_type": "code",
      "source": [
        "corr = data.corr()\n",
        "#data mapper\n",
        "f, ax = mapper_data_plotting_mat_display.subplots(figsize=(5, 4))\n",
        "#data mapper\n",
        "mapper_data_plotting_mat_display.title(\"Retrival data  between the Correlation between variables\")\n",
        "#data mapper\n",
        "#heat-data mapper\n",
        "\n",
        "\n",
        "#SP heatmapper\n",
        "sns.heatmap(corr, \n",
        "            xticklabels=corr.columns.values,\n",
        "            yticklabels=corr.columns.values)"
      ],
      "execution_count": 65,
      "outputs": [
        {
          "output_type": "execute_result",
          "data": {
            "text/plain": [
              "<matplotlib.axes._subplots.AxesSubplot at 0x7f9f103289b0>"
            ]
          },
          "metadata": {
            "tags": []
          },
          "execution_count": 65
        },
        {
          "output_type": "display_data",
          "data": {
            "image/png": "[encoded data removed]",
            "text/plain": [
              "<matplotlib.figure.Figure at 0x7f9f101b9860>"
            ]
          },
          "metadata": {
            "tags": []
          }
        }
      ]
    },
    {
      "metadata": {
        "colab_type": "code",
        "id": "GZfdMYKmioS6",
        "outputId": "c311128c-ca32-41fe-bb42-062f1b039156",
        "colab": {
          "base_uri": "https://localhost:8080/",
          "height": 69
        }
      },
      "cell_type": "code",
      "source": [
        "#create dequeue\n",
        "d = deque('ghi')  \n",
        "#create dequeue\n",
        "#create dequeue\n",
        "#create dequeue\n",
        "for elem in d:                   \n",
        "    print (elem.upper())"
      ],
      "execution_count": 66,
      "outputs": [
        {
          "output_type": "stream",
          "text": [
            "G\n",
            "H\n",
            "I\n"
          ],
          "name": "stdout"
        }
      ]
    },
    {
      "metadata": {
        "colab_type": "code",
        "id": "QA0oLCoIioS_",
        "colab": {}
      },
      "cell_type": "code",
      "source": [
        "def preprocess_df(data, shuffle=True):\n",
        "    mapped_data = data.copy()\n",
        "    mapper_data_Sequence_of_dequeue_length = 60\n",
        "\n",
        "    scaler = RobustScaler()\n",
        "    data = scaler.fit_transform(data)\n",
        "\n",
        "    sequential_data = []  \n",
        "    mapper_data_run_retrival_days_array_fixer = deque(maxlen=mapper_data_Sequence_of_dequeue_length)  \n",
        "\n",
        "    for i in data:  \n",
        "        mapper_data_run_retrival_days_array_fixer.append([n for n in i[:-1]])  \n",
        "\n",
        "        \n",
        "        if len(mapper_data_run_retrival_days_array_fixer) == mapper_data_Sequence_of_dequeue_length:\n",
        "            \n",
        "            sequential_data.append([np.array(mapper_data_run_retrival_days_array_fixer), i[-1]])  \n",
        "    if shuffle == True:\n",
        "        random.shuffle(sequential_data)  \n",
        "\n",
        "    X = []\n",
        "    y = []\n",
        "\n",
        "    for seq, target in sequential_data:  \n",
        "        X.append(seq)  \n",
        "        y.append(target)  \n",
        "    \n",
        "    if shuffle == True:\n",
        "        return np.array(X), y \n",
        "    else:\n",
        "        return np.array(X), y, mapped_data, scaler"
      ],
      "execution_count": 0,
      "outputs": []
    },
    {
      "metadata": {
        "colab_type": "code",
        "id": "CimGzupgioTD",
        "colab": {}
      },
      "cell_type": "code",
      "source": [
        "series_time_launch_dataretrival = sorted(data.index.values)\n",
        "mapper_01_data_last_five_percentages = sorted(data.index.values)[-int(0.05*len(series_time_launch_dataretrival))]\n",
        "\n",
        "mapper_data_validate_the_mainly_data_frames = data[(data.index >= mapper_01_data_last_five_percentages)]\n",
        "mainely_done_data_frames_computed_python = data[(data.index < mapper_01_data_last_five_percentages)]\n",
        "\n"
      ],
      "execution_count": 0,
      "outputs": []
    },
    {
      "metadata": {
        "id": "MWg_OB4TlX4k",
        "colab_type": "code",
        "colab": {}
      },
      "cell_type": "code",
      "source": [
        "preprocessing_library_prescaled_compute = RobustScaler()\n",
        "preprocessing_library_prescaled_compute = preprocessing_library_prescaled_compute.fit(mapper_data_validate_the_mainly_data_frames)\n",
        "\n",
        "mapper_data_training_dataset_model, mapper_data_y_training_data_model = preprocess_df(mainely_done_data_frames_computed_python)\n",
        "mapper_data_Input_value_X_taken, y_val, mapped_data, preprocessing_library_prescaled_compute = preprocess_df(mapper_data_validate_the_mainly_data_frames, shuffle=False)"
      ],
      "execution_count": 0,
      "outputs": []
    },
    {
      "metadata": {
        "colab_type": "code",
        "id": "3Z93iy_xioTI",
        "colab": {}
      },
      "cell_type": "code",
      "source": [
        "class SGDRScheduler(Callback):\n",
        "    \n",
        "    def __init__(map_this_reference_to_selfer,\n",
        "                 minimum_ration_computed_lr_taken,\n",
        "                 maximum_ration_being_taken_lr_computed_done,\n",
        "                 steps_per_epoch,\n",
        "                 lr_decay=1,\n",
        "                 cycle_length=10,\n",
        "                 mult_factor=2):\n",
        "\n",
        "        map_this_reference_to_selfer.minimum_ration_computed_lr_taken = minimum_ration_computed_lr_taken\n",
        "        map_this_reference_to_selfer.maximum_ration_being_taken_lr_computed_done = maximum_ration_being_taken_lr_computed_done\n",
        "        map_this_reference_to_selfer.lr_decay = lr_decay\n",
        "\n",
        "        map_this_reference_to_selfer.batch_since_restart = 0\n",
        "        map_this_reference_to_selfer.next_restart = cycle_length\n",
        "\n",
        "        map_this_reference_to_selfer.steps_per_epoch = steps_per_epoch\n",
        "\n",
        "        map_this_reference_to_selfer.cycle_length = cycle_length\n",
        "        map_this_reference_to_selfer.mult_factor = mult_factor\n",
        "\n",
        "        map_this_reference_to_selfer.history = {}\n",
        "\n",
        "    def clr(map_this_reference_to_selfer):\n",
        "        \n",
        "        fraction_to_restart = map_this_reference_to_selfer.batch_since_restart / (map_this_reference_to_selfer.steps_per_epoch * map_this_reference_to_selfer.cycle_length)\n",
        "        lr = map_this_reference_to_selfer.minimum_ration_computed_lr_taken + 0.5 * (map_this_reference_to_selfer.maximum_ration_being_taken_lr_computed_done - map_this_reference_to_selfer.minimum_ration_computed_lr_taken) * (1 + np.cos(fraction_to_restart * np.pi))\n",
        "        return lr\n",
        "\n",
        "    def on_train_begin(map_this_reference_to_selfer, logs={}):\n",
        "        \n",
        "        logs = logs or {}\n",
        "        K.set_value(map_this_reference_to_selfer.model.optimizer.lr, map_this_reference_to_selfer.maximum_ration_being_taken_lr_computed_done)\n",
        "\n",
        "    def on_batch_end(map_this_reference_to_selfer, batch, logs={}):\n",
        "        \n",
        "        logs = logs or {}\n",
        "        map_this_reference_to_selfer.history.setdefault('lr', []).append(K.get_value(map_this_reference_to_selfer.model.optimizer.lr))\n",
        "        for k, v in logs.items():\n",
        "            map_this_reference_to_selfer.history.setdefault(k, []).append(v)\n",
        "\n",
        "        map_this_reference_to_selfer.batch_since_restart += 1\n",
        "        K.set_value(map_this_reference_to_selfer.model.optimizer.lr, map_this_reference_to_selfer.clr())\n",
        "\n",
        "    def on_epoch_end(map_this_reference_to_selfer, epoch, logs={}):\n",
        "        \n",
        "        if epoch + 1 == map_this_reference_to_selfer.next_restart:\n",
        "            map_this_reference_to_selfer.batch_since_restart = 0\n",
        "            map_this_reference_to_selfer.cycle_length = np.ceil(map_this_reference_to_selfer.cycle_length * map_this_reference_to_selfer.mult_factor)\n",
        "            map_this_reference_to_selfer.next_restart += map_this_reference_to_selfer.cycle_length\n",
        "            map_this_reference_to_selfer.maximum_ration_being_taken_lr_computed_done *= map_this_reference_to_selfer.lr_decay\n",
        "            map_this_reference_to_selfer.best_weights = map_this_reference_to_selfer.model.get_weights()\n",
        "\n",
        "    def on_train_end(map_this_reference_to_selfer, logs={}):\n",
        "       \n",
        "        map_this_reference_to_selfer.model.set_weights(map_this_reference_to_selfer.best_weights)"
      ],
      "execution_count": 0,
      "outputs": []
    },
    {
      "metadata": {
        "colab_type": "code",
        "id": "L58arb1OioTM",
        "colab": {}
      },
      "cell_type": "code",
      "source": [
        "class LRFinder(Callback):\n",
        "    \n",
        "    \n",
        "    \n",
        "    def __init__(map_this_reference_to_selfer, minimum_ration_computed_lr_taken=1e-5, maximum_ration_being_taken_lr_computed_done=1e-2, steps_per_epoch=None, epochs=None):\n",
        "        super().__init__()\n",
        "        \n",
        "        map_this_reference_to_selfer.minimum_ration_computed_lr_taken = minimum_ration_computed_lr_taken\n",
        "        map_this_reference_to_selfer.maximum_ration_being_taken_lr_computed_done = maximum_ration_being_taken_lr_computed_done\n",
        "        map_this_reference_to_selfer.total_iterations = steps_per_epoch * epochs\n",
        "        map_this_reference_to_selfer.iteration = 0\n",
        "        map_this_reference_to_selfer.history = {}\n",
        "        \n",
        "    def clr(map_this_reference_to_selfer):\n",
        "        \n",
        "        x = map_this_reference_to_selfer.iteration / map_this_reference_to_selfer.total_iterations \n",
        "        return map_this_reference_to_selfer.minimum_ration_computed_lr_taken + (map_this_reference_to_selfer.maximum_ration_being_taken_lr_computed_done-map_this_reference_to_selfer.minimum_ration_computed_lr_taken) * x\n",
        "        \n",
        "    def on_train_begin(map_this_reference_to_selfer, logs=None):\n",
        "        \n",
        "        logs = logs or {}\n",
        "        K.set_value(map_this_reference_to_selfer.model.optimizer.lr, map_this_reference_to_selfer.minimum_ration_computed_lr_taken)\n",
        "        \n",
        "    def on_batch_end(map_this_reference_to_selfer, epoch, logs=None):\n",
        "        \n",
        "        logs = logs or {}\n",
        "        map_this_reference_to_selfer.iteration += 1\n",
        "\n",
        "        map_this_reference_to_selfer.history.setdefault('lr', []).append(K.get_value(map_this_reference_to_selfer.model.optimizer.lr))\n",
        "        map_this_reference_to_selfer.history.setdefault('iterations', []).append(map_this_reference_to_selfer.iteration)\n",
        "\n",
        "        for k, v in logs.items():\n",
        "            map_this_reference_to_selfer.history.setdefault(k, []).append(v)\n",
        "            \n",
        "        K.set_value(map_this_reference_to_selfer.model.optimizer.lr, map_this_reference_to_selfer.clr())\n",
        " \n",
        "    def plot_lr(map_this_reference_to_selfer):\n",
        "        \n",
        "        mapper_data_plotting_mat_display.plot(map_this_reference_to_selfer.history['iterations'], map_this_reference_to_selfer.history['lr'])\n",
        "        mapper_data_plotting_mat_display.yscale('log')\n",
        "        mapper_data_plotting_mat_display.xlabel('Iteration')\n",
        "        mapper_data_plotting_mat_display.ylabel('Learning rate')\n",
        "        \n",
        "    def plot_loss(map_this_reference_to_selfer):\n",
        "        \n",
        "        mapper_data_plotting_mat_display.plot(map_this_reference_to_selfer.history['lr'], map_this_reference_to_selfer.history['loss'])\n",
        "        mapper_data_plotting_mat_display.xscale('log')\n",
        "        mapper_data_plotting_mat_display.xlabel('Learning rate')\n",
        "        mapper_data_plotting_mat_display.ylabel('Loss')"
      ],
      "execution_count": 0,
      "outputs": []
    },
    {
      "metadata": {
        "colab_type": "code",
        "id": "RyY3HEZSioTR",
        "colab": {}
      },
      "cell_type": "code",
      "source": [
        "def build_model():\n",
        "    \n",
        "    #building the computed ata model step\n",
        "    model = Sequential()\n",
        "    #building the computed ata model step\n",
        "    model.add(CuDNNLSTM(256, input_shape=(mapper_data_training_dataset_model.shape[1:]), return_sequences=True))\n",
        "    model.add(BatchNormalization())  \n",
        "    \n",
        "    #building the computed ata model step\n",
        "    model.add(CuDNNLSTM(128, return_sequences=True))\n",
        "    model.add(BatchNormalization())\n",
        "    #building the computed ata model step\n",
        "    model.add(Dropout(0.1))\n",
        "    \n",
        "    model.add(CuDNNLSTM(64))\n",
        "    #building the computed ata model step\n",
        "    model.add(BatchNormalization())\n",
        "    #building the computed ata model step\n",
        "    model.add(Dropout(0.2))\n",
        "\n",
        "    model.add(Dense(32, activation='relu'))\n",
        "    #building the computed ata model step relu being used here\n",
        "    model.add(BatchNormalization())\n",
        "    model.add(Dropout(0.2))\n",
        "\n",
        "    model.add(Dense(1, activation='tanh'))\n",
        "    #building the computed ata model step\n",
        "    \n",
        "    opt = tf.keras.optimizers.RMSprop(lr=7e-3)\n",
        "    #building the computed ata model step\n",
        "    model.compile(loss='mse',optimizer=opt, metrics=['mse'])\n",
        "    return model"
      ],
      "execution_count": 0,
      "outputs": []
    },
    {
      "metadata": {
        "colab_type": "code",
        "id": "DiJFD1coioTV",
        "colab": {}
      },
      "cell_type": "code",
      "source": [
        "model = build_model()"
      ],
      "execution_count": 0,
      "outputs": []
    },
    {
      "metadata": {
        "colab_type": "code",
        "id": "CTZ_BuKNioTY",
        "colab": {}
      },
      "cell_type": "code",
      "source": [
        ""
      ],
      "execution_count": 0,
      "outputs": []
    },
    {
      "metadata": {
        "colab_type": "code",
        "id": "GSq2EBXGioTd",
        "outputId": "62d779cc-7d70-45ca-edb9-e70854812c8c",
        "colab": {
          "base_uri": "https://localhost:8080/",
          "height": 318
        }
      },
      "cell_type": "code",
      "source": [
        "\n",
        "sizer_defined_hard = 20\n",
        "sizer_batcher_size = 256\n",
        "\n",
        "lr_finder = LRFinder(minimum_ration_computed_lr_taken=1e-5, \n",
        "                     maximum_ration_being_taken_lr_computed_done=1e-2, \n",
        "                     steps_per_epoch=np.ceil(sizer_defined_hard/sizer_batcher_size), \n",
        "                     epochs=3)\n",
        "model.fit(mapper_data_training_dataset_model, mapper_data_y_training_data_model, callbacks=[lr_finder])\n",
        "\n",
        "lr_finder.plot_loss()"
      ],
      "execution_count": 74,
      "outputs": [
        {
          "output_type": "stream",
          "text": [
            "Epoch 1/1\n",
            "6113/6113 [==============================] - 17s 3ms/step - loss: 1.9177 - mean_squared_error: 1.9177\n"
          ],
          "name": "stdout"
        },
        {
          "output_type": "display_data",
          "data": {
            "image/png": "[encoded data removed]",
            "text/plain": [
              "<matplotlib.figure.Figure at 0x7f9f0f03f710>"
            ]
          },
          "metadata": {
            "tags": []
          }
        }
      ]
    },
    {
      "metadata": {
        "colab_type": "code",
        "id": "8PERKUDzioTi",
        "outputId": "ce779a5d-ec47-4a4f-a3ae-3ad2ece26bf2",
        "colab": {
          "base_uri": "https://localhost:8080/",
          "height": 745
        }
      },
      "cell_type": "code",
      "source": [
        "model = build_model()\n",
        "schedule = SGDRScheduler(minimum_ration_computed_lr_taken=1e-3,\n",
        "                         maximum_ration_being_taken_lr_computed_done=1e-2,\n",
        "                         steps_per_epoch=np.ceil(sizer_defined_hard/sizer_batcher_size),\n",
        "                         lr_decay=0.9,\n",
        "                         cycle_length= 3,\n",
        "                         mult_factor=1.5)\n",
        "\n",
        "model.fit(\n",
        "    mapper_data_training_dataset_model,\n",
        "    mapper_data_y_training_data_model,\n",
        "    epochs=20, \n",
        "    callbacks=[schedule],\n",
        "    validation_split=0.1,\n",
        "    verbose=1)"
      ],
      "execution_count": 75,
      "outputs": [
        {
          "output_type": "stream",
          "text": [
            "Train on 5501 samples, validate on 612 samples\n",
            "Epoch 1/20\n",
            "5501/5501 [==============================] - 13s 2ms/step - loss: 1.4661 - mean_squared_error: 1.4661 - val_loss: 1.1955 - val_mean_squared_error: 1.1955\n",
            "Epoch 2/20\n",
            "5501/5501 [==============================] - 12s 2ms/step - loss: 1.2252 - mean_squared_error: 1.2252 - val_loss: 1.0528 - val_mean_squared_error: 1.0528\n",
            "Epoch 3/20\n",
            "5501/5501 [==============================] - 12s 2ms/step - loss: 1.1717 - mean_squared_error: 1.1717 - val_loss: 1.0528 - val_mean_squared_error: 1.0528\n",
            "Epoch 4/20\n",
            "5501/5501 [==============================] - 12s 2ms/step - loss: 1.1747 - mean_squared_error: 1.1747 - val_loss: 1.0700 - val_mean_squared_error: 1.0700\n",
            "Epoch 5/20\n",
            "5501/5501 [==============================] - 11s 2ms/step - loss: 1.1677 - mean_squared_error: 1.1677 - val_loss: 1.1566 - val_mean_squared_error: 1.1566\n",
            "Epoch 6/20\n",
            "5501/5501 [==============================] - 11s 2ms/step - loss: 1.1654 - mean_squared_error: 1.1654 - val_loss: 1.0537 - val_mean_squared_error: 1.0537\n",
            "Epoch 7/20\n",
            "5501/5501 [==============================] - 11s 2ms/step - loss: 1.1653 - mean_squared_error: 1.1653 - val_loss: 1.0813 - val_mean_squared_error: 1.0813\n",
            "Epoch 8/20\n",
            "5501/5501 [==============================] - 11s 2ms/step - loss: 1.1626 - mean_squared_error: 1.1626 - val_loss: 1.0592 - val_mean_squared_error: 1.0592\n",
            "Epoch 9/20\n",
            "5501/5501 [==============================] - 11s 2ms/step - loss: 1.1587 - mean_squared_error: 1.1587 - val_loss: 1.0521 - val_mean_squared_error: 1.0521\n",
            "Epoch 10/20\n",
            "5501/5501 [==============================] - 11s 2ms/step - loss: 1.1612 - mean_squared_error: 1.1612 - val_loss: 1.0609 - val_mean_squared_error: 1.0609\n",
            "Epoch 11/20\n",
            "5501/5501 [==============================] - 11s 2ms/step - loss: 1.1571 - mean_squared_error: 1.1571 - val_loss: 1.0600 - val_mean_squared_error: 1.0600\n",
            "Epoch 12/20\n",
            "5501/5501 [==============================] - 11s 2ms/step - loss: 1.1587 - mean_squared_error: 1.1587 - val_loss: 1.0528 - val_mean_squared_error: 1.0528\n",
            "Epoch 13/20\n",
            "5501/5501 [==============================] - 11s 2ms/step - loss: 1.1561 - mean_squared_error: 1.1561 - val_loss: 1.0641 - val_mean_squared_error: 1.0641\n",
            "Epoch 14/20\n",
            "5501/5501 [==============================] - 11s 2ms/step - loss: 1.1586 - mean_squared_error: 1.1586 - val_loss: 1.0543 - val_mean_squared_error: 1.0543\n",
            "Epoch 15/20\n",
            "5501/5501 [==============================] - 11s 2ms/step - loss: 1.1581 - mean_squared_error: 1.1581 - val_loss: 1.0559 - val_mean_squared_error: 1.0559\n",
            "Epoch 16/20\n",
            "5501/5501 [==============================] - 11s 2ms/step - loss: 1.1584 - mean_squared_error: 1.1584 - val_loss: 1.1040 - val_mean_squared_error: 1.1040\n",
            "Epoch 17/20\n",
            "5501/5501 [==============================] - 11s 2ms/step - loss: 1.1566 - mean_squared_error: 1.1566 - val_loss: 1.0574 - val_mean_squared_error: 1.0574\n",
            "Epoch 18/20\n",
            "5501/5501 [==============================] - 11s 2ms/step - loss: 1.1572 - mean_squared_error: 1.1572 - val_loss: 1.0552 - val_mean_squared_error: 1.0552\n",
            "Epoch 19/20\n",
            "5501/5501 [==============================] - 11s 2ms/step - loss: 1.1578 - mean_squared_error: 1.1578 - val_loss: 1.0536 - val_mean_squared_error: 1.0536\n",
            "Epoch 20/20\n",
            "5501/5501 [==============================] - 11s 2ms/step - loss: 1.1584 - mean_squared_error: 1.1584 - val_loss: 1.0572 - val_mean_squared_error: 1.0572\n"
          ],
          "name": "stdout"
        },
        {
          "output_type": "execute_result",
          "data": {
            "text/plain": [
              "<tensorflow.python.keras.callbacks.History at 0x7f9f078ebb00>"
            ]
          },
          "metadata": {
            "tags": []
          },
          "execution_count": 75
        }
      ]
    },
    {
      "metadata": {
        "colab_type": "code",
        "id": "0QqS-h0_ioTp",
        "colab": {}
      },
      "cell_type": "code",
      "source": [
        "ResultComputedMetrics_train_scoring = model.evaluate(mapper_data_training_dataset_model, mapper_data_y_training_data_model, verbose=0)\n",
        "print('Trained data computed results being told here RMSE: %2f' % math.sqrt(ResultComputedMetrics_train_scoring[0]))\n",
        "\n",
        "resut_computed_TestScoreComputation = model.evaluate(mapper_data_Input_value_X_taken, y_val, verbose=0)\n",
        "print('Test RMSE: %2f'% math.sqrt(resut_computed_TestScoreComputation[0]))"
      ],
      "execution_count": 0,
      "outputs": []
    },
    {
      "metadata": {
        "colab_type": "code",
        "id": "9E_v8muwioTx",
        "colab": {}
      },
      "cell_type": "code",
      "source": [
        "p = model.predict(mapper_data_Input_value_X_taken)"
      ],
      "execution_count": 0,
      "outputs": []
    },
    {
      "metadata": {
        "colab_type": "code",
        "id": "L57ZR84cPKgr",
        "outputId": "79822d56-f281-4fea-efb8-a6db99d914bc",
        "colab": {
          "base_uri": "https://localhost:8080/",
          "height": 34
        }
      },
      "cell_type": "code",
      "source": [
        "mapper_data_Input_value_X_taken.shape"
      ],
      "execution_count": 78,
      "outputs": [
        {
          "output_type": "execute_result",
          "data": {
            "text/plain": [
              "(265, 60, 9)"
            ]
          },
          "metadata": {
            "tags": []
          },
          "execution_count": 78
        }
      ]
    },
    {
      "metadata": {
        "colab_type": "code",
        "id": "9TFjmDN6Nq0O",
        "outputId": "bf11febd-1117-45a8-fd6a-f8f5a8afb203",
        "colab": {
          "base_uri": "https://localhost:8080/",
          "height": 4610
        }
      },
      "cell_type": "code",
      "source": [
        "p"
      ],
      "execution_count": 79,
      "outputs": [
        {
          "output_type": "execute_result",
          "data": {
            "text/plain": [
              "array([[-0.43230003],\n",
              "       [-0.3607918 ],\n",
              "       [-0.09444748],\n",
              "       [-0.07255035],\n",
              "       [-0.10612463],\n",
              "       [-0.2620936 ],\n",
              "       [-0.06048271],\n",
              "       [-0.09458357],\n",
              "       [-0.38493133],\n",
              "       [-0.08580937],\n",
              "       [-0.08218805],\n",
              "       [-0.07481058],\n",
              "       [-0.05316917],\n",
              "       [-0.06882042],\n",
              "       [-0.04677216],\n",
              "       [-0.09317245],\n",
              "       [-0.08250403],\n",
              "       [-0.25848517],\n",
              "       [-0.2419703 ],\n",
              "       [-0.1204444 ],\n",
              "       [-0.08699619],\n",
              "       [-0.15744965],\n",
              "       [-0.34804562],\n",
              "       [-0.06974937],\n",
              "       [-0.1787412 ],\n",
              "       [-0.25088271],\n",
              "       [-0.34118372],\n",
              "       [-0.3377924 ],\n",
              "       [-0.22207741],\n",
              "       [-0.1628159 ],\n",
              "       [-0.11435072],\n",
              "       [-0.10294465],\n",
              "       [-0.15487288],\n",
              "       [-0.07473364],\n",
              "       [-0.12604837],\n",
              "       [-0.11476155],\n",
              "       [-0.08631164],\n",
              "       [-0.04910314],\n",
              "       [-0.08408048],\n",
              "       [-0.0537451 ],\n",
              "       [-0.09415251],\n",
              "       [-0.08846454],\n",
              "       [-0.08993834],\n",
              "       [-0.11546826],\n",
              "       [-0.09231476],\n",
              "       [-0.09782246],\n",
              "       [-0.09613814],\n",
              "       [-0.08958916],\n",
              "       [-0.1090419 ],\n",
              "       [-0.0959296 ],\n",
              "       [-0.09180962],\n",
              "       [-0.07697072],\n",
              "       [-0.15069681],\n",
              "       [-0.3486001 ],\n",
              "       [-0.35763878],\n",
              "       [-0.10044319],\n",
              "       [-0.12677234],\n",
              "       [-0.06180197],\n",
              "       [-0.06715966],\n",
              "       [-0.3293813 ],\n",
              "       [-0.14220123],\n",
              "       [-0.12958369],\n",
              "       [-0.22502528],\n",
              "       [-0.3716551 ],\n",
              "       [-0.34491348],\n",
              "       [-0.20148575],\n",
              "       [-0.25005612],\n",
              "       [-0.0700672 ],\n",
              "       [-0.11210407],\n",
              "       [-0.08319407],\n",
              "       [-0.0956334 ],\n",
              "       [-0.34693205],\n",
              "       [-0.10130906],\n",
              "       [-0.33829868],\n",
              "       [-0.2400423 ],\n",
              "       [-0.34481204],\n",
              "       [-0.3628299 ],\n",
              "       [-0.17678724],\n",
              "       [-0.35826406],\n",
              "       [-0.08604221],\n",
              "       [-0.39926022],\n",
              "       [-0.33356187],\n",
              "       [-0.13356806],\n",
              "       [-0.37995517],\n",
              "       [-0.4448424 ],\n",
              "       [-0.08525993],\n",
              "       [-0.22270042],\n",
              "       [-0.32385883],\n",
              "       [-0.36231542],\n",
              "       [-0.11679491],\n",
              "       [-0.29040122],\n",
              "       [-0.10371455],\n",
              "       [-0.02657272],\n",
              "       [-0.3661684 ],\n",
              "       [-0.07022143],\n",
              "       [-0.09113337],\n",
              "       [-0.29512894],\n",
              "       [-0.20082921],\n",
              "       [-0.21909289],\n",
              "       [-0.22487025],\n",
              "       [-0.19653998],\n",
              "       [-0.2967962 ],\n",
              "       [-0.2024201 ],\n",
              "       [-0.0459375 ],\n",
              "       [-0.07064407],\n",
              "       [-0.06605047],\n",
              "       [-0.10333069],\n",
              "       [-0.35552162],\n",
              "       [-0.05394619],\n",
              "       [ 0.08004732],\n",
              "       [-0.11379437],\n",
              "       [-0.04149822],\n",
              "       [-0.29357794],\n",
              "       [-0.26453602],\n",
              "       [-0.22951391],\n",
              "       [-0.16863002],\n",
              "       [-0.11823738],\n",
              "       [-0.17989832],\n",
              "       [-0.13716553],\n",
              "       [-0.0555319 ],\n",
              "       [-0.31084058],\n",
              "       [-0.38276663],\n",
              "       [-0.20004338],\n",
              "       [-0.20489019],\n",
              "       [-0.30547523],\n",
              "       [-0.28766757],\n",
              "       [-0.13519232],\n",
              "       [-0.29661754],\n",
              "       [-0.24352649],\n",
              "       [-0.24619593],\n",
              "       [-0.23897584],\n",
              "       [-0.25672904],\n",
              "       [-0.18903871],\n",
              "       [-0.25323224],\n",
              "       [-0.27465042],\n",
              "       [-0.26223728],\n",
              "       [-0.3221709 ],\n",
              "       [-0.11253987],\n",
              "       [-0.31054524],\n",
              "       [-0.15999861],\n",
              "       [-0.28989923],\n",
              "       [-0.29083937],\n",
              "       [-0.13538994],\n",
              "       [-0.33805472],\n",
              "       [-0.3131629 ],\n",
              "       [-0.17711   ],\n",
              "       [-0.3423764 ],\n",
              "       [-0.23173991],\n",
              "       [-0.27263698],\n",
              "       [-0.37266785],\n",
              "       [-0.27718672],\n",
              "       [-0.21306166],\n",
              "       [-0.2622848 ],\n",
              "       [-0.2619892 ],\n",
              "       [-0.14549394],\n",
              "       [-0.12170192],\n",
              "       [-0.35911122],\n",
              "       [-0.32459867],\n",
              "       [-0.3211256 ],\n",
              "       [-0.26003474],\n",
              "       [-0.37082264],\n",
              "       [-0.2673189 ],\n",
              "       [-0.187797  ],\n",
              "       [-0.203981  ],\n",
              "       [-0.24803306],\n",
              "       [-0.38142052],\n",
              "       [-0.37844825],\n",
              "       [-0.20568565],\n",
              "       [-0.20704316],\n",
              "       [-0.2560404 ],\n",
              "       [-0.18517826],\n",
              "       [-0.08454607],\n",
              "       [-0.19665049],\n",
              "       [-0.13333517],\n",
              "       [-0.2696054 ],\n",
              "       [-0.10193074],\n",
              "       [-0.32355708],\n",
              "       [-0.1764125 ],\n",
              "       [-0.13861372],\n",
              "       [-0.360251  ],\n",
              "       [-0.17101935],\n",
              "       [-0.19596967],\n",
              "       [-0.11972915],\n",
              "       [-0.12468016],\n",
              "       [-0.10670771],\n",
              "       [-0.09087145],\n",
              "       [-0.13545892],\n",
              "       [-0.07905025],\n",
              "       [-0.0877776 ],\n",
              "       [-0.05696492],\n",
              "       [-0.06172774],\n",
              "       [-0.04053162],\n",
              "       [ 0.02728691],\n",
              "       [ 0.03376758],\n",
              "       [-0.04009402],\n",
              "       [ 0.01816818],\n",
              "       [ 0.00073063],\n",
              "       [-0.05236167],\n",
              "       [-0.23806545],\n",
              "       [-0.11850224],\n",
              "       [-0.26403585],\n",
              "       [-0.28463885],\n",
              "       [-0.38818905],\n",
              "       [-0.08577856],\n",
              "       [-0.1300805 ],\n",
              "       [-0.19850537],\n",
              "       [-0.12491472],\n",
              "       [-0.12762754],\n",
              "       [-0.10922495],\n",
              "       [-0.12107714],\n",
              "       [-0.14239089],\n",
              "       [-0.1847325 ],\n",
              "       [-0.11076249],\n",
              "       [-0.11696444],\n",
              "       [-0.10384664],\n",
              "       [-0.11760052],\n",
              "       [-0.08823075],\n",
              "       [-0.1257323 ],\n",
              "       [-0.34969646],\n",
              "       [-0.275593  ],\n",
              "       [-0.35833395],\n",
              "       [-0.1684647 ],\n",
              "       [-0.39366615],\n",
              "       [-0.11770659],\n",
              "       [-0.18361656],\n",
              "       [-0.33520612],\n",
              "       [-0.05637866],\n",
              "       [-0.35435373],\n",
              "       [-0.12230763],\n",
              "       [-0.10378198],\n",
              "       [-0.09914105],\n",
              "       [-0.10521221],\n",
              "       [-0.09187321],\n",
              "       [-0.10114012],\n",
              "       [-0.3799709 ],\n",
              "       [-0.31784758],\n",
              "       [-0.3396473 ],\n",
              "       [-0.38378295],\n",
              "       [-0.30717582],\n",
              "       [-0.3483647 ],\n",
              "       [-0.33250317],\n",
              "       [-0.11622247],\n",
              "       [-0.23235945],\n",
              "       [-0.07881456],\n",
              "       [-0.14936787],\n",
              "       [-0.10213264],\n",
              "       [-0.3415326 ],\n",
              "       [-0.1006837 ],\n",
              "       [-0.15038852],\n",
              "       [-0.10871697],\n",
              "       [-0.10581698],\n",
              "       [-0.08785149],\n",
              "       [-0.11881451],\n",
              "       [-0.11461414],\n",
              "       [-0.10563397],\n",
              "       [-0.08272051],\n",
              "       [-0.12129686],\n",
              "       [-0.10613859],\n",
              "       [-0.34696338],\n",
              "       [-0.11091256],\n",
              "       [-0.19366042],\n",
              "       [-0.24336338],\n",
              "       [-0.20649895],\n",
              "       [-0.03867878],\n",
              "       [-0.04124472]], dtype=float32)"
            ]
          },
          "metadata": {
            "tags": []
          },
          "execution_count": 79
        }
      ]
    },
    {
      "metadata": {
        "colab_type": "code",
        "id": "K077iCBQlPTK",
        "outputId": "78710eff-c182-48dc-d8b3-8c4c979f842a",
        "colab": {
          "base_uri": "https://localhost:8080/",
          "height": 34
        }
      },
      "cell_type": "code",
      "source": [
        "p.shape"
      ],
      "execution_count": 80,
      "outputs": [
        {
          "output_type": "execute_result",
          "data": {
            "text/plain": [
              "(265, 1)"
            ]
          },
          "metadata": {
            "tags": []
          },
          "execution_count": 80
        }
      ]
    },
    {
      "metadata": {
        "colab_type": "code",
        "id": "prItYp8ZkayA",
        "outputId": "b6398b6b-f470-49df-c92d-bcd24fb92e8d",
        "colab": {
          "base_uri": "https://localhost:8080/",
          "height": 34
        }
      },
      "cell_type": "code",
      "source": [
        "data.shape"
      ],
      "execution_count": 81,
      "outputs": [
        {
          "output_type": "execute_result",
          "data": {
            "text/plain": [
              "(6496, 10)"
            ]
          },
          "metadata": {
            "tags": []
          },
          "execution_count": 81
        }
      ]
    },
    {
      "metadata": {
        "colab_type": "code",
        "id": "jI2KG1Nnrn7C",
        "colab": {}
      },
      "cell_type": "code",
      "source": [
        "#padding = np.zeros((1249, 15))\n",
        "#padding.shape"
      ],
      "execution_count": 0,
      "outputs": []
    },
    {
      "metadata": {
        "colab_type": "code",
        "id": "LsL1w7XBrtrT",
        "colab": {}
      },
      "cell_type": "code",
      "source": [
        "#pred_result = pd.DataFrame(data=padding)"
      ],
      "execution_count": 0,
      "outputs": []
    },
    {
      "metadata": {
        "colab_type": "code",
        "id": "sI_CcOr0ry1h",
        "colab": {}
      },
      "cell_type": "code",
      "source": [
        "#pred_result.shape"
      ],
      "execution_count": 0,
      "outputs": []
    },
    {
      "metadata": {
        "colab_type": "code",
        "id": "W4epjHv1r5DV",
        "colab": {}
      },
      "cell_type": "code",
      "source": [
        "#pred_result.keys()"
      ],
      "execution_count": 0,
      "outputs": []
    },
    {
      "metadata": {
        "colab_type": "code",
        "id": "lzv23Q9St1Po",
        "colab": {}
      },
      "cell_type": "code",
      "source": [
        "#pred_result.tail"
      ],
      "execution_count": 0,
      "outputs": []
    },
    {
      "metadata": {
        "colab_type": "code",
        "id": "3eZjdIs-sPeq",
        "colab": {}
      },
      "cell_type": "code",
      "source": [
        "#pred_result[14]"
      ],
      "execution_count": 0,
      "outputs": []
    },
    {
      "metadata": {
        "colab_type": "code",
        "id": "IoHVNwWPtS4g",
        "outputId": "8946d88b-3c89-42de-a33c-0a6367bd7888",
        "colab": {
          "base_uri": "https://localhost:8080/",
          "height": 202
        }
      },
      "cell_type": "code",
      "source": [
        "data.tail()"
      ],
      "execution_count": 88,
      "outputs": [
        {
          "output_type": "execute_result",
          "data": {
            "text/html": [
              "<div>\n",
              "<style scoped>\n",
              "    .dataframe tbody tr th:only-of-type {\n",
              "        vertical-align: middle;\n",
              "    }\n",
              "\n",
              "    .dataframe tbody tr th {\n",
              "        vertical-align: top;\n",
              "    }\n",
              "\n",
              "    .dataframe thead th {\n",
              "        text-align: right;\n",
              "    }\n",
              "</style>\n",
              "<table border=\"1\" class=\"dataframe\">\n",
              "  <thead>\n",
              "    <tr style=\"text-align: right;\">\n",
              "      <th></th>\n",
              "      <th>Adj Close</th>\n",
              "      <th>Volume</th>\n",
              "      <th>lrets</th>\n",
              "      <th>MACD</th>\n",
              "      <th>stochastics</th>\n",
              "      <th>ATR</th>\n",
              "      <th>neg</th>\n",
              "      <th>neu</th>\n",
              "      <th>pos</th>\n",
              "      <th>Y</th>\n",
              "    </tr>\n",
              "  </thead>\n",
              "  <tbody>\n",
              "    <tr>\n",
              "      <th>2018-10-03</th>\n",
              "      <td>2925.510010</td>\n",
              "      <td>3.598710e+09</td>\n",
              "      <td>0.000711</td>\n",
              "      <td>-1.724414</td>\n",
              "      <td>87.508948</td>\n",
              "      <td>18.500000</td>\n",
              "      <td>0.133</td>\n",
              "      <td>0.778</td>\n",
              "      <td>0.089</td>\n",
              "      <td>-0.008203</td>\n",
              "    </tr>\n",
              "    <tr>\n",
              "      <th>2018-10-04</th>\n",
              "      <td>2901.610107</td>\n",
              "      <td>3.496860e+09</td>\n",
              "      <td>-0.008203</td>\n",
              "      <td>-3.498974</td>\n",
              "      <td>30.536527</td>\n",
              "      <td>41.590088</td>\n",
              "      <td>0.085</td>\n",
              "      <td>0.832</td>\n",
              "      <td>0.083</td>\n",
              "      <td>-0.005543</td>\n",
              "    </tr>\n",
              "    <tr>\n",
              "      <th>2018-10-05</th>\n",
              "      <td>2885.570068</td>\n",
              "      <td>3.328980e+09</td>\n",
              "      <td>-0.005543</td>\n",
              "      <td>-5.951191</td>\n",
              "      <td>0.000000</td>\n",
              "      <td>40.349854</td>\n",
              "      <td>0.116</td>\n",
              "      <td>0.792</td>\n",
              "      <td>0.092</td>\n",
              "      <td>-0.000395</td>\n",
              "    </tr>\n",
              "    <tr>\n",
              "      <th>2018-10-08</th>\n",
              "      <td>2884.429932</td>\n",
              "      <td>3.330320e+09</td>\n",
              "      <td>-0.000395</td>\n",
              "      <td>-7.726477</td>\n",
              "      <td>0.000000</td>\n",
              "      <td>27.369873</td>\n",
              "      <td>0.095</td>\n",
              "      <td>0.808</td>\n",
              "      <td>0.097</td>\n",
              "      <td>-0.001419</td>\n",
              "    </tr>\n",
              "    <tr>\n",
              "      <th>2018-10-09</th>\n",
              "      <td>2880.340088</td>\n",
              "      <td>3.520500e+09</td>\n",
              "      <td>-0.001419</td>\n",
              "      <td>-9.170761</td>\n",
              "      <td>0.000000</td>\n",
              "      <td>20.560058</td>\n",
              "      <td>0.089</td>\n",
              "      <td>0.834</td>\n",
              "      <td>0.077</td>\n",
              "      <td>-0.033416</td>\n",
              "    </tr>\n",
              "  </tbody>\n",
              "</table>\n",
              "</div>"
            ],
            "text/plain": [
              "              Adj Close        Volume     lrets      MACD  stochastics  \\\n",
              "2018-10-03  2925.510010  3.598710e+09  0.000711 -1.724414    87.508948   \n",
              "2018-10-04  2901.610107  3.496860e+09 -0.008203 -3.498974    30.536527   \n",
              "2018-10-05  2885.570068  3.328980e+09 -0.005543 -5.951191     0.000000   \n",
              "2018-10-08  2884.429932  3.330320e+09 -0.000395 -7.726477     0.000000   \n",
              "2018-10-09  2880.340088  3.520500e+09 -0.001419 -9.170761     0.000000   \n",
              "\n",
              "                  ATR    neg    neu    pos         Y  \n",
              "2018-10-03  18.500000  0.133  0.778  0.089 -0.008203  \n",
              "2018-10-04  41.590088  0.085  0.832  0.083 -0.005543  \n",
              "2018-10-05  40.349854  0.116  0.792  0.092 -0.000395  \n",
              "2018-10-08  27.369873  0.095  0.808  0.097 -0.001419  \n",
              "2018-10-09  20.560058  0.089  0.834  0.077 -0.033416  "
            ]
          },
          "metadata": {
            "tags": []
          },
          "execution_count": 88
        }
      ]
    },
    {
      "metadata": {
        "colab_type": "text",
        "id": "_JWQ88TkioT4"
      },
      "cell_type": "markdown",
      "source": [
        ""
      ]
    },
    {
      "metadata": {
        "colab_type": "code",
        "id": "msnh1CMQuJa_",
        "outputId": "03d2165b-3544-41a5-98a7-da96b94760fe",
        "colab": {
          "base_uri": "https://localhost:8080/",
          "height": 34
        }
      },
      "cell_type": "code",
      "source": [
        "p.shape"
      ],
      "execution_count": 89,
      "outputs": [
        {
          "output_type": "execute_result",
          "data": {
            "text/plain": [
              "(265, 1)"
            ]
          },
          "metadata": {
            "tags": []
          },
          "execution_count": 89
        }
      ]
    },
    {
      "metadata": {
        "colab_type": "code",
        "id": "xFvu48z9NjZi",
        "outputId": "6b74c053-f02f-491b-8bb1-804c09fd04be",
        "colab": {
          "base_uri": "https://localhost:8080/",
          "height": 4610
        }
      },
      "cell_type": "code",
      "source": [
        "y_val"
      ],
      "execution_count": 90,
      "outputs": [
        {
          "output_type": "execute_result",
          "data": {
            "text/plain": [
              "[0.42160153012322943,\n",
              " -0.013360737272669402,\n",
              " -0.32404249152682696,\n",
              " 0.16865903776486527,\n",
              " 0.10334862744280411,\n",
              " 0.04561782272685021,\n",
              " -0.03387395468854142,\n",
              " -0.6499533199468297,\n",
              " -0.03162726639867636,\n",
              " -0.5118399767131062,\n",
              " -0.12783673888811195,\n",
              " 0.5417371445360212,\n",
              " 0.06138654893230689,\n",
              " 0.4784424487292052,\n",
              " 0.5065746745147952,\n",
              " 0.2206635002745602,\n",
              " 0.06841772546288231,\n",
              " 0.8015776737777502,\n",
              " -0.3195092686777222,\n",
              " -0.4418741731470299,\n",
              " 0.24795180481230314,\n",
              " 0.1613700476124172,\n",
              " -0.4221635932850994,\n",
              " 0.00685151189193033,\n",
              " 0.15256535670453844,\n",
              " -0.02748598723613384,\n",
              " -0.015831030965340852,\n",
              " -0.08507064865192934,\n",
              " 0.7134458837003307,\n",
              " -0.8054197128770189,\n",
              " 0.1303912029614719,\n",
              " -0.9213821495092647,\n",
              " 0.07246320531722343,\n",
              " 1.204477534558223,\n",
              " -0.6745334725956973,\n",
              " 0.017935312394565465,\n",
              " 0.12608461811930485,\n",
              " -0.10814342438458965,\n",
              " 0.3771244285385736,\n",
              " 0.07251414477791808,\n",
              " -0.17152325562972368,\n",
              " 0.10130074351463678,\n",
              " -0.7700715476281996,\n",
              " -0.29005482626842716,\n",
              " 0.024479105938242166,\n",
              " -0.5265129744799315,\n",
              " -1.0663506410451011,\n",
              " 1.2248829806172392,\n",
              " -0.5795377771024053,\n",
              " 0.0732541671717557,\n",
              " 0.9502064424183763,\n",
              " -0.26539230655475793,\n",
              " 0.2035211402853373,\n",
              " -0.2041622719622963,\n",
              " 1.4987009011047991,\n",
              " -0.2016480053609066,\n",
              " 1.2240359070764668,\n",
              " -0.47874463919515015,\n",
              " -0.31591445215577446,\n",
              " -0.7662943644756086,\n",
              " -0.1589818671963601,\n",
              " 0.34966661611182986,\n",
              " 0.77821971073475,\n",
              " 0.3946055270627224,\n",
              " 0.11887497377453503,\n",
              " -0.21899900462260447,\n",
              " -0.8219343111291674,\n",
              " 1.3539036539561482,\n",
              " 0.7543564635654566,\n",
              " 1.2426771938354035,\n",
              " 0.9265636412993816,\n",
              " 0.5323272460285842,\n",
              " 1.0320180088188033,\n",
              " 0.13780860574283887,\n",
              " 0.07780423956039717,\n",
              " -0.3259689738068483,\n",
              " 1.0319979845803053,\n",
              " 0.9848312272704522,\n",
              " -0.7302333739837689,\n",
              " 1.426918155371737,\n",
              " -0.41037956839848355,\n",
              " 0.5917004521268386,\n",
              " 1.203433286508359,\n",
              " 0.22325403108969297,\n",
              " -0.23355598978894188,\n",
              " -0.039175380227154354,\n",
              " 1.828300811518189,\n",
              " -1.2692860630810678,\n",
              " -1.9721739874485562,\n",
              " -0.058164736553133214,\n",
              " -0.24829724038165818,\n",
              " -3.724088929878885,\n",
              " -7.135923624233006,\n",
              " 2.7510600193271837,\n",
              " -0.9782602470809296,\n",
              " -6.536768704187045,\n",
              " 2.338927041285519,\n",
              " 2.1705612891201826,\n",
              " 0.2964063152211287,\n",
              " 2.086088196888834,\n",
              " 1.865957919405174,\n",
              " -0.07747051789163252,\n",
              " -1.1194393224934005,\n",
              " -1.0614460113574942,\n",
              " 0.02279485727582829,\n",
              " 2.5187715514595643,\n",
              " 1.8143899816060107,\n",
              " -2.2780923973596026,\n",
              " -2.0054738694947525,\n",
              " -2.3827009870078597,\n",
              " 0.7059201609410312,\n",
              " 1.6945383603219035,\n",
              " 0.3007302733354225,\n",
              " -0.2208253185909718,\n",
              " 0.6046583729694045,\n",
              " 2.7408563545116604,\n",
              " -0.3530469942376334,\n",
              " -1.2072844333931794,\n",
              " -1.0997856117483238,\n",
              " -0.2706914434314968,\n",
              " 0.1446694669558138,\n",
              " -2.5318547930389874,\n",
              " 0.10767011762598566,\n",
              " -0.448499899038466,\n",
              " -4.400944128249292,\n",
              " -3.6828120337097783,\n",
              " 4.340195147230473,\n",
              " -3.053723129373017,\n",
              " -0.6282765206086537,\n",
              " 2.1466705605656093,\n",
              " -3.9170366228032387,\n",
              " 1.9560946944004034,\n",
              " 1.782900364646727,\n",
              " 1.0036403236880682,\n",
              " -3.8457070865037957,\n",
              " 0.41703570561053627,\n",
              " 2.6336907193717574,\n",
              " -1.0662983267453174,\n",
              " 1.2339528019379167,\n",
              " -0.6232406353752615,\n",
              " 1.2104510118142768,\n",
              " 1.6332523673351727,\n",
              " -0.0009569220530618769,\n",
              " -1.1000550925784052,\n",
              " -1.5733271112766185,\n",
              " -0.13050093141487315,\n",
              " -2.3922182861472585,\n",
              " 0.16696974750131746,\n",
              " 1.5956447569583336,\n",
              " 0.04619061697146795,\n",
              " -1.5144757120815917,\n",
              " 0.28575246742258437,\n",
              " -1.3490758031721208,\n",
              " -0.5171393328811117,\n",
              " 1.9885060201183145,\n",
              " 0.4372643760905256,\n",
              " -0.18432331083073702,\n",
              " 1.471165896559582,\n",
              " 1.4195622773327945,\n",
              " 0.14536190957654507,\n",
              " 0.00775063277691962,\n",
              " -1.2878315579873654,\n",
              " 0.5376437176449673,\n",
              " -0.2830645646203606,\n",
              " -0.5805824692972277,\n",
              " 1.0906142657146762,\n",
              " -0.6650217927376002,\n",
              " 0.402347381467129,\n",
              " -0.4785239489834596,\n",
              " -0.5344921192376476,\n",
              " -2.0846870591081066,\n",
              " 1.9694562861308542,\n",
              " -1.2941312696557603,\n",
              " 1.6643058154467467,\n",
              " 0.6074082315694315,\n",
              " -0.022471056850020675,\n",
              " 1.2864535370729038,\n",
              " -0.25935662791067804,\n",
              " 0.3819296596672261,\n",
              " 0.03868869790842543,\n",
              " 0.15133556863196626,\n",
              " -0.8144248839535848,\n",
              " 0.27282770206940526,\n",
              " -0.31004735645102593,\n",
              " -0.4957668719259621,\n",
              " -0.8139673135391693,\n",
              " 0.14612275471746303,\n",
              " -1.204244457635971,\n",
              " 0.17112117400166646,\n",
              " -2.450543123318963,\n",
              " 0.22829438120017376,\n",
              " -1.584765060419646,\n",
              " 0.8899883862705547,\n",
              " -0.013146504129375772,\n",
              " 0.37227093116063875,\n",
              " -0.969146371754773,\n",
              " 1.2953076785091107,\n",
              " 1.2721775926857708,\n",
              " 1.3288200753541959,\n",
              " 0.4398172896701238,\n",
              " -1.330271798210844,\n",
              " 1.3165644776627698,\n",
              " 0.040447393176904205,\n",
              " -0.31189396093184857,\n",
              " 0.5231784067131808,\n",
              " 0.22094284585040916,\n",
              " -0.8021478581386479,\n",
              " -0.2985570330655937,\n",
              " 0.16713498543491764,\n",
              " 0.6575551587665169,\n",
              " 1.3749910281780284,\n",
              " -0.64766889157021,\n",
              " -1.2407115111891018,\n",
              " -1.104771298760782,\n",
              " 0.6748298245086352,\n",
              " -0.31393856067351933,\n",
              " 0.6817707070782807,\n",
              " 0.6348016058338007,\n",
              " 0.45064058325733425,\n",
              " 0.33163174711495347,\n",
              " -0.18377786803826468,\n",
              " -0.38112261258608987,\n",
              " -1.3335866946167472,\n",
              " -0.8110445992508952,\n",
              " 0.9249746959616719,\n",
              " -1.4158311550873492,\n",
              " 1.1789971957231569,\n",
              " 0.41479721050338547,\n",
              " 0.2655670165019842,\n",
              " 0.20559700353233226,\n",
              " -0.2064862703723652,\n",
              " -0.42291884251712597,\n",
              " 0.8933366839341746,\n",
              " 1.1376868943355927,\n",
              " -0.09488552324220442,\n",
              " 0.8106629707929094,\n",
              " -0.8822937645779673,\n",
              " -0.11741952852503501,\n",
              " -0.4167321782893789,\n",
              " -0.6092399310804913,\n",
              " -0.751681290777047,\n",
              " -0.5103811620365156,\n",
              " 0.17711105576423164,\n",
              " 0.48422803277723897,\n",
              " -0.08027804836344354,\n",
              " 0.7409594708699335,\n",
              " -0.09384867432686896,\n",
              " -1.0737562133600398,\n",
              " 0.7553888425075818,\n",
              " 0.06951191030102805,\n",
              " 1.1659222137216538,\n",
              " -0.2015321196461163,\n",
              " -0.7287568899363026,\n",
              " -0.35825544452522523,\n",
              " -0.6907722231165067,\n",
              " 0.3214784884423832,\n",
              " -0.14105121260858253,\n",
              " 0.46778015039096976,\n",
              " -0.20624176276356085,\n",
              " -0.0209795948053163,\n",
              " -1.511439918163406,\n",
              " -1.0667378434920547,\n",
              " -0.20597853079427816,\n",
              " -0.37714248951929463,\n",
              " -5.727081399110928]"
            ]
          },
          "metadata": {
            "tags": []
          },
          "execution_count": 90
        }
      ]
    },
    {
      "metadata": {
        "colab_type": "code",
        "id": "aVkQP-WZUMmi",
        "colab": {}
      },
      "cell_type": "code",
      "source": [
        "#SP-500:\n",
        "padding = np.zeros((265, 9))\n",
        "pred_result = pd.DataFrame(data=padding)\n",
        "pred_result['9'] = p\n",
        "pred = preprocessing_library_prescaled_compute.inverse_transform(pred_result)\n",
        "\n",
        "validation_result_computation_01 = pd.DataFrame(data=padding)\n",
        "validation_result_computation_01['9'] = y_val\n",
        "val = preprocessing_library_prescaled_compute.inverse_transform(validation_result_computation_01)"
      ],
      "execution_count": 0,
      "outputs": []
    },
    {
      "metadata": {
        "colab_type": "code",
        "id": "V99fhF8QioT7",
        "colab": {}
      },
      "cell_type": "code",
      "source": [
        "\n",
        "\n",
        "\n"
      ],
      "execution_count": 0,
      "outputs": []
    },
    {
      "metadata": {
        "colab_type": "code",
        "id": "Qo_LMdgstZtc",
        "colab": {}
      },
      "cell_type": "code",
      "source": [
        ""
      ],
      "execution_count": 0,
      "outputs": []
    },
    {
      "metadata": {
        "colab_type": "code",
        "id": "CD6KO1hOrhH8",
        "colab": {}
      },
      "cell_type": "code",
      "source": [
        ""
      ],
      "execution_count": 0,
      "outputs": []
    },
    {
      "metadata": {
        "colab_type": "code",
        "id": "acw0xgvVioT-",
        "colab": {}
      },
      "cell_type": "code",
      "source": [
        "pred = pred[:, -1]\n",
        "val = val[:, -1]"
      ],
      "execution_count": 0,
      "outputs": []
    },
    {
      "metadata": {
        "id": "B4E2P96klX58",
        "colab_type": "code",
        "colab": {}
      },
      "cell_type": "code",
      "source": [
        ""
      ],
      "execution_count": 0,
      "outputs": []
    },
    {
      "metadata": {
        "colab_type": "code",
        "id": "vTU-DpZKioUB",
        "outputId": "80bcbd6b-3a57-47e9-c087-3ea0ebb861ae",
        "colab": {
          "base_uri": "https://localhost:8080/",
          "height": 457
        }
      },
      "cell_type": "code",
      "source": [
        "mapper_data_plotting_mat_display.figure(figsize=(21,7))\n",
        "mapper_data_plotting_mat_display.plot(data.index[-len(pred):], np.expm1(pred)*100, color='green', label='Prediction')\n",
        "mapper_data_plotting_mat_display.plot(data.index[-len(val):], np.expm1(val)*100, color='red', label='True Value')\n",
        "mapper_data_plotting_mat_display.xlabel(\"Retrival Date\")\n",
        "mapper_data_plotting_mat_display.ylabel(\"Retrival Return (%)\")\n",
        "mapper_data_plotting_mat_display.title('Retrival Predicted value vs True Value')\n",
        "mapper_data_plotting_mat_display.legend(loc='best')\n",
        "mapper_data_plotting_mat_display.show()"
      ],
      "execution_count": 93,
      "outputs": [
        {
          "output_type": "display_data",
          "data": {
            "image/png": "[encoded data removed]",
            "text/plain": [
              "<matplotlib.figure.Figure at 0x7f9f06b30b70>"
            ]
          },
          "metadata": {
            "tags": []
          }
        }
      ]
    },
    {
      "metadata": {
        "colab_type": "code",
        "id": "gSKkRFryioUJ",
        "outputId": "c7dba85e-7a00-4186-c842-3910911deca2",
        "colab": {
          "base_uri": "https://localhost:8080/",
          "height": 2391
        }
      },
      "cell_type": "code",
      "source": [
        "import scipy.stats as stats\n",
        "defination_resiudal_compute = np.expm1(pred) - np.expm1(val)\n",
        "stats.probplot(defination_resiudal_compute, dist=\"norm\", plot=mapper_data_plotting_mat_display)"
      ],
      "execution_count": 94,
      "outputs": [
        {
          "output_type": "execute_result",
          "data": {
            "text/plain": [
              "((array([-2.79285789, -2.4926144 , -2.32228794, -2.20074297, -2.10500338,\n",
              "         -2.02538542, -1.95685437, -1.89644383, -1.84225287, -1.79298727,\n",
              "         -1.74772448, -1.70578274, -1.66664344, -1.62990245, -1.59523854,\n",
              "         -1.56239191, -1.53114937, -1.50133371, -1.47279597, -1.44540967,\n",
              "         -1.41906647, -1.39367282, -1.36914736, -1.34541887, -1.32242463,\n",
              "         -1.30010909, -1.27842285, -1.25732173, -1.23676605, -1.21672008,\n",
              "         -1.19715146, -1.17803083, -1.15933146, -1.14102891, -1.12310081,\n",
              "         -1.10552661, -1.08828738, -1.07136565, -1.05474528, -1.03841126,\n",
              "         -1.0223497 , -1.00654764, -0.99099301, -0.97567452, -0.96058162,\n",
              "         -0.94570443, -0.93103367, -0.9165606 , -0.90227702, -0.8881752 ,\n",
              "         -0.87424783, -0.860488  , -0.8468892 , -0.83344523, -0.82015025,\n",
              "         -0.80699867, -0.79398521, -0.78110485, -0.76835279, -0.75572448,\n",
              "         -0.74321554, -0.73082184, -0.71853938, -0.70636439, -0.69429321,\n",
              "         -0.68232236, -0.67044849, -0.65866842, -0.64697904, -0.63537741,\n",
              "         -0.62386068, -0.61242611, -0.60107105, -0.58979298, -0.57858943,\n",
              "         -0.56745804, -0.55639652, -0.54540267, -0.53447434, -0.52360948,\n",
              "         -0.51280608, -0.50206221, -0.49137598, -0.48074557, -0.47016921,\n",
              "         -0.45964519, -0.44917183, -0.43874751, -0.42837065, -0.41803972,\n",
              "         -0.40775322, -0.39750968, -0.38730768, -0.37714583, -0.36702279,\n",
              "         -0.35693721, -0.34688782, -0.33687334, -0.32689252, -0.31694417,\n",
              "         -0.30702709, -0.29714011, -0.28728209, -0.27745192, -0.26764848,\n",
              "         -0.2578707 , -0.24811751, -0.23838787, -0.22868074, -0.21899511,\n",
              "         -0.20932999, -0.19968438, -0.19005731, -0.18044783, -0.17085498,\n",
              "         -0.16127782, -0.15171544, -0.14216691, -0.13263133, -0.12310779,\n",
              "         -0.1135954 , -0.10409328, -0.09460055, -0.08511634, -0.07563978,\n",
              "         -0.06617   , -0.05670616, -0.04724739, -0.03779285, -0.02834169,\n",
              "         -0.01889305, -0.0094461 ,  0.        ,  0.0094461 ,  0.01889305,\n",
              "          0.02834169,  0.03779285,  0.04724739,  0.05670616,  0.06617   ,\n",
              "          0.07563978,  0.08511634,  0.09460055,  0.10409328,  0.1135954 ,\n",
              "          0.12310779,  0.13263133,  0.14216691,  0.15171544,  0.16127782,\n",
              "          0.17085498,  0.18044783,  0.19005731,  0.19968438,  0.20932999,\n",
              "          0.21899511,  0.22868074,  0.23838787,  0.24811751,  0.2578707 ,\n",
              "          0.26764848,  0.27745192,  0.28728209,  0.29714011,  0.30702709,\n",
              "          0.31694417,  0.32689252,  0.33687334,  0.34688782,  0.35693721,\n",
              "          0.36702279,  0.37714583,  0.38730768,  0.39750968,  0.40775322,\n",
              "          0.41803972,  0.42837065,  0.43874751,  0.44917183,  0.45964519,\n",
              "          0.47016921,  0.48074557,  0.49137598,  0.50206221,  0.51280608,\n",
              "          0.52360948,  0.53447434,  0.54540267,  0.55639652,  0.56745804,\n",
              "          0.57858943,  0.58979298,  0.60107105,  0.61242611,  0.62386068,\n",
              "          0.63537741,  0.64697904,  0.65866842,  0.67044849,  0.68232236,\n",
              "          0.69429321,  0.70636439,  0.71853938,  0.73082184,  0.74321554,\n",
              "          0.75572448,  0.76835279,  0.78110485,  0.79398521,  0.80699867,\n",
              "          0.82015025,  0.83344523,  0.8468892 ,  0.860488  ,  0.87424783,\n",
              "          0.8881752 ,  0.90227702,  0.9165606 ,  0.93103367,  0.94570443,\n",
              "          0.96058162,  0.97567452,  0.99099301,  1.00654764,  1.0223497 ,\n",
              "          1.03841126,  1.05474528,  1.07136565,  1.08828738,  1.10552661,\n",
              "          1.12310081,  1.14102891,  1.15933146,  1.17803083,  1.19715146,\n",
              "          1.21672008,  1.23676605,  1.25732173,  1.27842285,  1.30010909,\n",
              "          1.32242463,  1.34541887,  1.36914736,  1.39367282,  1.41906647,\n",
              "          1.44540967,  1.47279597,  1.50133371,  1.53114937,  1.56239191,\n",
              "          1.59523854,  1.62990245,  1.66664344,  1.70578274,  1.74772448,\n",
              "          1.79298727,  1.84225287,  1.89644383,  1.95685437,  2.02538542,\n",
              "          2.10500338,  2.20074297,  2.32228794,  2.4926144 ,  2.79285789]),\n",
              "  array([-2.71290842e-02, -1.87932806e-02, -1.78164899e-02, -1.75506331e-02,\n",
              "         -1.58640541e-02, -1.55865768e-02, -1.44052475e-02, -1.42789151e-02,\n",
              "         -1.39105134e-02, -1.33133501e-02, -1.28446205e-02, -1.24077987e-02,\n",
              "         -1.23646551e-02, -1.23362803e-02, -1.18603185e-02, -1.15638366e-02,\n",
              "         -1.15382589e-02, -1.12277621e-02, -1.11499251e-02, -1.08099508e-02,\n",
              "         -1.07862606e-02, -1.04539346e-02, -1.04433064e-02, -9.66521013e-03,\n",
              "         -9.61432232e-03, -9.40991705e-03, -9.27082754e-03, -9.11648774e-03,\n",
              "         -9.09286643e-03, -9.00575230e-03, -8.83020662e-03, -8.55657800e-03,\n",
              "         -8.36606598e-03, -8.11241718e-03, -8.02884012e-03, -7.96413646e-03,\n",
              "         -7.95757107e-03, -7.89509367e-03, -7.77933608e-03, -7.68317768e-03,\n",
              "         -7.63670884e-03, -7.54044862e-03, -7.43854844e-03, -7.41973535e-03,\n",
              "         -6.97018255e-03, -6.80291701e-03, -6.76514048e-03, -6.65067014e-03,\n",
              "         -6.35576757e-03, -6.25345861e-03, -6.13401439e-03, -6.01528820e-03,\n",
              "         -5.91153976e-03, -5.60820223e-03, -5.54282310e-03, -5.43172864e-03,\n",
              "         -5.26609372e-03, -5.25503837e-03, -5.19653341e-03, -5.17824572e-03,\n",
              "         -5.11122169e-03, -5.05633090e-03, -4.99889201e-03, -4.91544022e-03,\n",
              "         -4.79219813e-03, -4.66905867e-03, -4.66831213e-03, -4.61735342e-03,\n",
              "         -4.60490622e-03, -4.58708760e-03, -4.55942879e-03, -4.34697315e-03,\n",
              "         -4.06795386e-03, -3.91495238e-03, -3.69575943e-03, -3.64177537e-03,\n",
              "         -3.63540519e-03, -3.60906758e-03, -3.55755467e-03, -3.43914616e-03,\n",
              "         -3.37441360e-03, -3.34908361e-03, -3.34526604e-03, -3.31684462e-03,\n",
              "         -3.27988415e-03, -3.11819619e-03, -3.08644765e-03, -2.98650775e-03,\n",
              "         -2.87063984e-03, -2.84822912e-03, -2.77432185e-03, -2.76315329e-03,\n",
              "         -2.72528931e-03, -2.56311397e-03, -2.51094928e-03, -2.50480393e-03,\n",
              "         -2.47083418e-03, -2.45065016e-03, -2.42583727e-03, -2.42122839e-03,\n",
              "         -2.38617928e-03, -2.38572332e-03, -2.35088739e-03, -2.32277893e-03,\n",
              "         -2.26364771e-03, -2.12065290e-03, -2.11221461e-03, -2.07736655e-03,\n",
              "         -2.00593487e-03, -1.98301702e-03, -1.94545476e-03, -1.92947489e-03,\n",
              "         -1.90844933e-03, -1.90167887e-03, -1.87931102e-03, -1.85247958e-03,\n",
              "         -1.84143746e-03, -1.84074179e-03, -1.73691211e-03, -1.70407469e-03,\n",
              "         -1.68557708e-03, -1.65455294e-03, -1.59204023e-03, -1.55013175e-03,\n",
              "         -1.51085854e-03, -1.48068518e-03, -1.46507405e-03, -1.44427334e-03,\n",
              "         -1.36047860e-03, -1.33612056e-03, -1.31139579e-03, -1.27153663e-03,\n",
              "         -1.26217874e-03, -1.25387819e-03, -1.13596199e-03, -1.06673740e-03,\n",
              "         -1.04456618e-03, -1.04318484e-03, -1.01265053e-03, -9.03366359e-04,\n",
              "         -8.63164105e-04, -8.40954856e-04, -8.04376199e-04, -7.94081831e-04,\n",
              "         -7.55819190e-04, -6.98976003e-04, -6.85737317e-04, -5.59237202e-04,\n",
              "         -5.38118552e-04, -4.75461753e-04, -4.58439912e-04, -4.13281677e-04,\n",
              "         -3.50771470e-04, -2.78741265e-04, -2.75755427e-04, -2.61268941e-04,\n",
              "         -2.51625040e-04, -1.59232714e-04, -1.12566882e-04, -3.11134772e-06,\n",
              "          6.63984664e-05,  1.00356990e-04,  1.04701046e-04,  1.18155083e-04,\n",
              "          2.73077489e-04,  2.80840885e-04,  3.53243823e-04,  4.42642988e-04,\n",
              "          4.62766674e-04,  4.63362773e-04,  4.72698305e-04,  4.95849718e-04,\n",
              "          6.05256096e-04,  6.41972031e-04,  6.54376632e-04,  6.79893658e-04,\n",
              "          1.02186580e-03,  1.04379333e-03,  1.10815022e-03,  1.12672097e-03,\n",
              "          1.17374660e-03,  1.27086122e-03,  1.28667037e-03,  1.35189837e-03,\n",
              "          1.37261680e-03,  1.40357028e-03,  1.45537993e-03,  1.45635465e-03,\n",
              "          1.48731965e-03,  1.52375197e-03,  1.55711085e-03,  1.62173212e-03,\n",
              "          1.66285202e-03,  1.71005977e-03,  1.89876306e-03,  1.92081790e-03,\n",
              "          1.98568534e-03,  2.02349658e-03,  2.21934013e-03,  2.29708386e-03,\n",
              "          2.32468239e-03,  2.35498284e-03,  2.49175171e-03,  2.50104199e-03,\n",
              "          2.54562871e-03,  2.56131788e-03,  2.60676875e-03,  2.76420805e-03,\n",
              "          2.76643966e-03,  2.81055453e-03,  3.23638759e-03,  3.27533419e-03,\n",
              "          3.31700247e-03,  3.41225790e-03,  3.49425605e-03,  3.64182111e-03,\n",
              "          3.69085173e-03,  3.83545080e-03,  4.04263768e-03,  4.06076343e-03,\n",
              "          4.13875245e-03,  4.31669539e-03,  4.54169712e-03,  4.88411584e-03,\n",
              "          4.90938044e-03,  5.41843139e-03,  5.46754755e-03,  5.59730279e-03,\n",
              "          5.63235402e-03,  5.68903133e-03,  5.74089198e-03,  5.78746051e-03,\n",
              "          5.80431354e-03,  5.89136988e-03,  5.89320341e-03,  6.05865705e-03,\n",
              "          6.08036527e-03,  6.12439399e-03,  6.35204847e-03,  6.43475441e-03,\n",
              "          6.47417455e-03,  6.54021315e-03,  6.70952813e-03,  6.73650754e-03,\n",
              "          7.36674394e-03,  7.50081494e-03,  7.84801322e-03,  9.19885973e-03,\n",
              "          9.56946916e-03,  1.12934340e-02,  1.14181223e-02,  1.16100174e-02,\n",
              "          1.21703171e-02,  1.27527025e-02,  1.42208341e-02,  1.46407642e-02,\n",
              "          1.63394503e-02,  2.00835020e-02,  2.11146588e-02,  2.14250079e-02,\n",
              "          2.17450507e-02,  2.41731040e-02,  3.34544659e-02,  3.78281459e-02,\n",
              "          4.16572695e-02])),\n",
              " (0.007542493027583444, -0.0007576699327416486, 0.940281767984748))"
            ]
          },
          "metadata": {
            "tags": []
          },
          "execution_count": 94
        },
        {
          "output_type": "display_data",
          "data": {
            "image/png": "[encoded data removed]",
            "text/plain": [
              "<matplotlib.figure.Figure at 0x7f9f06b86c50>"
            ]
          },
          "metadata": {
            "tags": []
          }
        }
      ]
    },
    {
      "metadata": {
        "colab_type": "code",
        "id": "qZASGFrIioUN",
        "colab": {}
      },
      "cell_type": "code",
      "source": [
        ""
      ],
      "execution_count": 0,
      "outputs": []
    },
    {
      "metadata": {
        "colab_type": "code",
        "id": "K80IHaShioUQ",
        "colab": {}
      },
      "cell_type": "code",
      "source": [
        ""
      ],
      "execution_count": 0,
      "outputs": []
    }
  ]
}